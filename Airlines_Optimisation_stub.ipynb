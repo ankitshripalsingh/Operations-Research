{
 "cells": [
  {
   "cell_type": "markdown",
   "metadata": {
    "id": "mcgAsqK08I9X"
   },
   "source": [
    "# Airlines price optimisation problem"
   ]
  },
  {
   "cell_type": "markdown",
   "metadata": {
    "id": "E8baNUgj8I9i"
   },
   "source": [
    "## Problem Statement\n",
    "\n",
    "FlyIndia is a fictional airlines company. FlyIndia would have two types of customer segments to cater to the 'early birds', i.e. the customers who would be buying tickets much in advance and, hence, would be eligible for a discount, and the 'late buyers' or the ones who would be buying the tickets at the regular prices. The airline company wants to maximise its revenue for a particular Delhi to Bangalore flight by allocating the regular and discounted seats judiciously. There are 166 seats available in the air craft. Based on the past observations, regular demand and the discounted demand do not exceed 100 and 150 tickets respectively.\n",
    "\n",
    "The prices of the tickets are as follows:\n",
    "\n",
    "`Discounted:` ₹1190 \\\n",
    "`Regular (Non-Discounted):` ₹3085\n",
    "\n"
   ]
  },
  {
   "cell_type": "markdown",
   "metadata": {
    "id": "BE--rJKl8I9l"
   },
   "source": [
    "\n",
    "![Airlines_image.png](Airlines_image.png)"
   ]
  },
  {
   "cell_type": "markdown",
   "metadata": {
    "id": "hUNr9vHA8I9m"
   },
   "source": [
    "### Step1:\n",
    "<b> Import Pyomo Environment </b>"
   ]
  },
  {
   "cell_type": "code",
   "execution_count": null,
   "metadata": {
    "id": "X4vVfYv-8I9m"
   },
   "outputs": [],
   "source": [
    "# Ask Python to load the Pyomo modelling environment\n",
    "\n"
   ]
  },
  {
   "cell_type": "markdown",
   "metadata": {
    "id": "-Qo0-7AL8I9n"
   },
   "source": [
    "### Step2:\n",
    "<b>Specify / import data</b>"
   ]
  },
  {
   "cell_type": "markdown",
   "metadata": {
    "id": "mVDUs2_S8I9o"
   },
   "source": [
    "**Sets:**\n",
    "\n",
    "Sets are used to define the indexes for an optimisation problem. There are two ways to define the indexes.\n",
    "\n",
    "**General syntax:**\n",
    "\n",
    "- Python lists/sets containing the indexes \n",
    "\n",
    "- `Set()` class of Pyomo\n",
    "\n",
    "    > model.id = `Set`(initialize = [1,2,3]) <br>\n",
    "    >  model.id = `Set`( initialize=range(5) ) <br>\n",
    "    > model.id = `RangeSet`(5) <br>\n",
    "\n",
    "\n",
    "<b>Note:</b>\n",
    "- Python range is 0-based and gives [ 0, 1, 2, 3, 4 ]\n",
    "- RangeSet is 1-based and gives [ 1, 2, 3, 4, 5 ]\n",
    "\n"
   ]
  },
  {
   "cell_type": "code",
   "execution_count": null,
   "metadata": {
    "id": "_ahQdfeq8I9o"
   },
   "outputs": [],
   "source": [
    "# Indexes - Defining sets/lists containing the indexes for this problem. Type of ticket becomes the index here. \n",
    "# Early bird- 'eb', Regular - 'reg'\n",
    "\n"
   ]
  },
  {
   "cell_type": "markdown",
   "metadata": {
    "id": "IXdzmmnd8I9p"
   },
   "source": [
    "There are two ways to define the parameters for a given optimisation problem.\n",
    "\n",
    "<b>General syntax:</b> <br>\n",
    "\n",
    "- Python dictionary with keys as indexes and values as corresponding parameter values <br>\n",
    "    >data_dict = {'index_1' : 7, 'index_2' : 5}\n",
    "    \n",
    "\n",
    "-  `Param()` class <br>\n",
    "    > model.x_param = `Param`(index_values, initialize = data_dict)<br>\n",
    "    > model.x_param = `Param`(index_values, initialize = data_dict, default=0, mutable=True)<br>\n",
    "\n",
    "<b>Note:</b> <br>\n",
    "- index_values is a Python set/list or a Pyomo set containing the indexes for the parameters/decision variables.\n",
    "- data_dict is a Python dictionary with keys as indexes and values as corresponding parameter values.\n",
    "- Other arguments to `Param()` class are `default` and `mutable`.\n",
    "- Providing `'default'` allows the data initialised to only  specify the “unusual” values.\n",
    "- `'mutable=True'` indicates that the parameter can be changed during run-time.\n",
    "\n",
    "    \n"
   ]
  },
  {
   "cell_type": "code",
   "execution_count": null,
   "metadata": {
    "id": "lFCGkSb_8I9q"
   },
   "outputs": [],
   "source": [
    "# parameters - price of each ticket type is defined as a Python dictionary (method 1 explained above)\n",
    "\n",
    "\n"
   ]
  },
  {
   "cell_type": "markdown",
   "metadata": {
    "id": "pAedn_EE8I9r"
   },
   "source": [
    "### Step3:\n",
    "<b> Create Model Object</b> <br>\n",
    "\n",
    "- Pyomo allows you to build two types of model – `concrete` / `abstract` <br>\n",
    "    - `Concrete` model is used when all the data required for buiding a model are available before-hand <br>\n",
    "    - `Abstract` model is used when some of the data are fed during the runtime\n",
    "\n"
   ]
  },
  {
   "cell_type": "code",
   "execution_count": null,
   "metadata": {
    "id": "mJsIvAFG8I9r"
   },
   "outputs": [],
   "source": [
    "# Creating an instance of a Concrete model since we have all the required data before hand\n",
    "\n"
   ]
  },
  {
   "cell_type": "markdown",
   "metadata": {
    "id": "CKnUk3qZ8I9s"
   },
   "source": [
    "### Step4: \n",
    "\n",
    "<b>Define Decision Variable</b>\n",
    "\n",
    "<b>General syntax:</b> <br>\n",
    "- model.a_variable = `Var`(within = NonNegativeReals)\n",
    "- model.a_variable = `Var`(domain = NonNegativeReals)\n",
    "- model.a_variable = `Var`(bounds= (0,60))\n",
    "- model.a_variable = `Var`(initialize = 10, bounds= (0,60))\n",
    "\n",
    "<b>Note:</b> <br>\n",
    "- 'within' is an optional argument. The keyword 'domain' is an alias for 'within'.\n",
    "- Other possible domains are PositiveIntegers, Reals, Binary etc.\n"
   ]
  },
  {
   "cell_type": "code",
   "execution_count": null,
   "metadata": {
    "id": "DgpTu3678I9s"
   },
   "outputs": [],
   "source": [
    "#variables - decision variable X that has the index as tkt_types\n",
    "\n",
    "\n"
   ]
  },
  {
   "cell_type": "markdown",
   "metadata": {
    "id": "IxvOWY3e8I9t"
   },
   "source": [
    "### Step5:\n",
    "<b>Define Objective</b>\n",
    "\n",
    "<b>General syntax:</b> <br>\n",
    "- model.obj = `Objective`(expr = 3* model.x +4*model.y,  sense = minimize) <br>\n",
    "\n",
    "- model.obj = `Objective`(rule = obj_rule,  sense = minimize )\n",
    "\n",
    "    def obj_rule(m):\n",
    "        return(3* model.x +4*model.y)\n",
    " \n",
    "- model.value = `Objective`(expr = sum (a[i]*model.x[i] for i in id), sense=maximize)\n",
    "\n",
    "<b>Note:</b> <br>\n",
    "- The default sense is `'minimum'`\n",
    "- The keyword argument `'expr'` can either be assigned an expression or any function-like object that returns an expression \n",
    "\n",
    "\n",
    "\n",
    "\n"
   ]
  },
  {
   "cell_type": "code",
   "execution_count": null,
   "metadata": {
    "id": "P1O2ry8_8I9t"
   },
   "outputs": [],
   "source": [
    "#Objective - to maximise the total revenue\n",
    "\n"
   ]
  },
  {
   "cell_type": "markdown",
   "metadata": {
    "id": "Ppo1P-bM8I9t"
   },
   "source": [
    "### Step6:\n",
    "<b>Define Constraints</b>\n",
    "\n",
    "<b>General syntax:</b> <br>\n",
    "- model.constraint_1 = `Constraint`(expr = model.x + 5 * model.y >= 5 ) <br>\n",
    "\n",
    "- model.constraint_1 = `Constraint`(rule = constraint_rule)\n",
    "\n",
    "    def constraint_rule(m):\n",
    "        return(model.x + 5 * model.y >= 5)\n",
    "\n",
    "<b>Note:</b> <br>\n",
    "\n",
    "- The keyword argument `'expr'` can either be assigned an expression or any function-like object that returns an expression.\n",
    "- `'expr'` can also be a tuple as shown below:\n",
    "    - model.obj = `Constraint`(expr = (None, model.x + model.y, 1))\n",
    "    - 3-tuple specifies ( lower_bound, expr, upper_bound )\n",
    "    - 2-tuple specifies an equality constraint.\n",
    "   \n",
    "\n",
    "\n"
   ]
  },
  {
   "cell_type": "code",
   "execution_count": null,
   "metadata": {
    "id": "Bfh-FIMY8I9u"
   },
   "outputs": [],
   "source": [
    "#constraints\n",
    "\n",
    "#expr method\n",
    "\n",
    "#Regular demand doesn't exceed 100\n",
    "\n",
    "\n",
    "#Discount demand doesn't exceed 150\n",
    "\n",
    "\n",
    "\n",
    "#rule method\n",
    "\n",
    "#Maximum seats available is 166\n",
    "\n"
   ]
  },
  {
   "cell_type": "markdown",
   "metadata": {
    "id": "i1n_qAvS8I9u"
   },
   "source": [
    "### Step7:\n",
    "<b>Create solver & solve model </b><br>\n",
    "\n",
    "It is important to know if you have created a linear(LP), integer(IP), mixed integer(MIP), non-linear (NLP), or mixed integer non-linear (MINLP) model and choose the most suitable solver accordingly. We use glpk for LP, IP and MIP type problems and ipopt for NLP type problems."
   ]
  },
  {
   "cell_type": "code",
   "execution_count": null,
   "metadata": {
    "id": "Hrrg6lmn8I9v",
    "outputId": "8575dfc8-07d4-4e8d-c523-e25f71ece30f"
   },
   "outputs": [
    {
     "name": "stdout",
     "output_type": "stream",
     "text": [
      "# ==========================================================\n",
      "# = Solver Results                                         =\n",
      "# ==========================================================\n",
      "# ----------------------------------------------------------\n",
      "#   Problem Information\n",
      "# ----------------------------------------------------------\n",
      "Problem: \n",
      "- Name: unknown\n",
      "  Lower bound: 387040.0\n",
      "  Upper bound: 387040.0\n",
      "  Number of objectives: 1\n",
      "  Number of constraints: 4\n",
      "  Number of variables: 3\n",
      "  Number of nonzeros: 5\n",
      "  Sense: maximize\n",
      "# ----------------------------------------------------------\n",
      "#   Solver Information\n",
      "# ----------------------------------------------------------\n",
      "Solver: \n",
      "- Status: ok\n",
      "  Termination condition: optimal\n",
      "  Statistics: \n",
      "    Branch and bound: \n",
      "      Number of bounded subproblems: 1\n",
      "      Number of created subproblems: 1\n",
      "  Error rc: 0\n",
      "  Time: 2.2100868225097656\n",
      "# ----------------------------------------------------------\n",
      "#   Solution Information\n",
      "# ----------------------------------------------------------\n",
      "Solution: \n",
      "- number of solutions: 0\n",
      "  number of solutions displayed: 0\n"
     ]
    }
   ],
   "source": []
  },
  {
   "cell_type": "markdown",
   "metadata": {
    "id": "YRdpMb5W8I9x"
   },
   "source": [
    "### Step8:\n",
    "<b>Display Results </b>"
   ]
  },
  {
   "cell_type": "code",
   "execution_count": null,
   "metadata": {
    "id": "fL3zB-TW8I9y",
    "outputId": "ae699d81-2b39-46c2-9755-f353964ae6b9"
   },
   "outputs": [
    {
     "name": "stdout",
     "output_type": "stream",
     "text": [
      "1 Set Declarations\n",
      "    X_index : Size=1, Index=None, Ordered=Insertion\n",
      "        Key  : Dimen : Domain : Size : Members\n",
      "        None :     1 :    Any :    2 : {'eb', 'reg'}\n",
      "\n",
      "1 Var Declarations\n",
      "    X : Size=2, Index=X_index\n",
      "        Key : Lower : Value : Upper : Fixed : Stale : Domain\n",
      "         eb :     1 :  66.0 :  None : False : False : PositiveIntegers\n",
      "        reg :     1 : 100.0 :  None : False : False : PositiveIntegers\n",
      "\n",
      "1 Objective Declarations\n",
      "    value : Size=1, Index=None, Active=True\n",
      "        Key  : Active : Sense    : Expression\n",
      "        None :   True : maximize : 1190*X[eb] + 3085*X[reg]\n",
      "\n",
      "3 Constraint Declarations\n",
      "    dis_demand : Size=1, Index=None, Active=True\n",
      "        Key  : Lower : Body  : Upper : Active\n",
      "        None :  -Inf : X[eb] : 150.0 :   True\n",
      "    reg_demand : Size=1, Index=None, Active=True\n",
      "        Key  : Lower : Body   : Upper : Active\n",
      "        None :  -Inf : X[reg] : 100.0 :   True\n",
      "    supply : Size=1, Index=None, Active=True\n",
      "        Key  : Lower : Body           : Upper : Active\n",
      "        None : 166.0 : X[eb] + X[reg] : 166.0 :   True\n",
      "\n",
      "6 Declarations: X_index X value reg_demand dis_demand supply\n"
     ]
    }
   ],
   "source": [
    "model.pprint()"
   ]
  },
  {
   "cell_type": "code",
   "execution_count": null,
   "metadata": {
    "id": "iG33D8Lc8I9z",
    "outputId": "c7dcc368-b316-4ef8-fc74-cfc33c0156cf"
   },
   "outputs": [
    {
     "data": {
      "text/plain": [
       "387040.0"
      ]
     },
     "execution_count": 162,
     "metadata": {
      "tags": []
     },
     "output_type": "execute_result"
    }
   ],
   "source": [
    "#Print the value of the objective function\n",
    "\n",
    "model.value()"
   ]
  }
 ],
 "metadata": {
  "colab": {
   "name": "OR Redev - Python syntaxes.ipynb",
   "provenance": []
  },
  "kernelspec": {
   "display_name": "Python 3",
   "language": "python",
   "name": "python3"
  },
  "language_info": {
   "codemirror_mode": {
    "name": "ipython",
    "version": 3
   },
   "file_extension": ".py",
   "mimetype": "text/x-python",
   "name": "python",
   "nbconvert_exporter": "python",
   "pygments_lexer": "ipython3",
   "version": "3.7.4"
  }
 },
 "nbformat": 4,
 "nbformat_minor": 1
}
