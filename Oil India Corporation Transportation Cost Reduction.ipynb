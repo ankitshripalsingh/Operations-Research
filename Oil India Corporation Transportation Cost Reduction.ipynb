{
  "cells": [
    {
      "cell_type": "markdown",
      "metadata": {
        "id": "view-in-github",
        "colab_type": "text"
      },
      "source": [
        "<a href=\"https://colab.research.google.com/github/ankitshripalsingh/Operations-Research/blob/OR/Oil%20India%20Corporation%20Transportation%20Cost%20Reduction.ipynb\" target=\"_parent\"><img src=\"https://colab.research.google.com/assets/colab-badge.svg\" alt=\"Open In Colab\"/></a>"
      ]
    },
    {
      "cell_type": "markdown",
      "metadata": {
        "id": "661yr234EUMl"
      },
      "source": [
        "# Assignment Problem"
      ]
    },
    {
      "cell_type": "markdown",
      "metadata": {
        "id": "4XaYliEuEUMo"
      },
      "source": [
        "##  Problem Statement\n",
        "\n",
        "In this example there are two refineries and six customer sites located in 8 cities as shown in the following map. The customer sites are labeled in red, and the refineries are labeled in blue. Oil India needs your help to determine how to distribute the product among customers. As per the given data, Panipet doesn't serve Lakshadweep and Bina doesn't serve Dispur.<br>\n",
        "Transportation costs between sources and destinations are given in units of ₹/ton of goods shipped, and list in the following table along with source capacity and demand requirements.\n",
        "\n",
        "|Customer|Bina (₹/ton)|Panipat (₹/ton)|Demand|\n",
        "| --- | --- | --- | --- |\n",
        "|Dispur| - | 2.5 | 125 |\n",
        "|Lakshadweep| 2.5 | - | 175 |\n",
        "|Bhind| 1.6 | 2.0 | 225 |\n",
        "|Agra| 1.4 | 1.0 | 250 |\n",
        "|Sawai| 0.8 | 1.0 | 225 |\n",
        "|Aligarh| 1.4 | 0.8 | 200 |\n",
        "|<b>Supply|<b>550|<b>700| |"
      ]
    },
    {
      "cell_type": "markdown",
      "metadata": {
        "id": "Dd5WsZGmEUMq"
      },
      "source": [
        "![TransportationProblemDiagram.png](attachment:TransportationProblemDiagram.png)"
      ]
    },
    {
      "cell_type": "markdown",
      "metadata": {
        "id": "Ugf2mgp6EUMq"
      },
      "source": [
        "![AssignmentMap.png](attachment:AssignmentMap.png)"
      ]
    },
    {
      "cell_type": "markdown",
      "metadata": {
        "id": "q0g3W3mzEUMq"
      },
      "source": [
        "### Step1:\n",
        "<b> Import Pyomo Enviornment </b>"
      ]
    },
    {
      "cell_type": "code",
      "execution_count": 1,
      "metadata": {
        "id": "yH1Rpw3zEUMr",
        "outputId": "d0fbd0f6-6e22-4714-ce6a-aa89500cdd74",
        "colab": {
          "base_uri": "https://localhost:8080/"
        }
      },
      "outputs": [
        {
          "output_type": "stream",
          "name": "stdout",
          "text": [
            "\u001b[K     |████████████████████████████████| 9.6 MB 4.5 MB/s \n",
            "\u001b[K     |████████████████████████████████| 49 kB 4.9 MB/s \n",
            "\u001b[?25hSelecting previously unselected package coinor-libcoinutils3v5.\n",
            "(Reading database ... 155320 files and directories currently installed.)\n",
            "Preparing to unpack .../0-coinor-libcoinutils3v5_2.10.14+repack1-1_amd64.deb ...\n",
            "Unpacking coinor-libcoinutils3v5 (2.10.14+repack1-1) ...\n",
            "Selecting previously unselected package coinor-libosi1v5.\n",
            "Preparing to unpack .../1-coinor-libosi1v5_0.107.9+repack1-1_amd64.deb ...\n",
            "Unpacking coinor-libosi1v5 (0.107.9+repack1-1) ...\n",
            "Selecting previously unselected package coinor-libclp1.\n",
            "Preparing to unpack .../2-coinor-libclp1_1.16.11+repack1-1_amd64.deb ...\n",
            "Unpacking coinor-libclp1 (1.16.11+repack1-1) ...\n",
            "Selecting previously unselected package coinor-libcgl1.\n",
            "Preparing to unpack .../3-coinor-libcgl1_0.59.10+repack1-1_amd64.deb ...\n",
            "Unpacking coinor-libcgl1 (0.59.10+repack1-1) ...\n",
            "Selecting previously unselected package coinor-libcbc3.\n",
            "Preparing to unpack .../4-coinor-libcbc3_2.9.9+repack1-1_amd64.deb ...\n",
            "Unpacking coinor-libcbc3 (2.9.9+repack1-1) ...\n",
            "Selecting previously unselected package coinor-cbc.\n",
            "Preparing to unpack .../5-coinor-cbc_2.9.9+repack1-1_amd64.deb ...\n",
            "Unpacking coinor-cbc (2.9.9+repack1-1) ...\n",
            "Setting up coinor-libcoinutils3v5 (2.10.14+repack1-1) ...\n",
            "Setting up coinor-libosi1v5 (0.107.9+repack1-1) ...\n",
            "Setting up coinor-libclp1 (1.16.11+repack1-1) ...\n",
            "Setting up coinor-libcgl1 (0.59.10+repack1-1) ...\n",
            "Setting up coinor-libcbc3 (2.9.9+repack1-1) ...\n",
            "Setting up coinor-cbc (2.9.9+repack1-1) ...\n",
            "Processing triggers for man-db (2.8.3-2ubuntu0.1) ...\n",
            "Processing triggers for libc-bin (2.27-3ubuntu1.3) ...\n",
            "/sbin/ldconfig.real: /usr/local/lib/python3.7/dist-packages/ideep4py/lib/libmkldnn.so.0 is not a symbolic link\n",
            "\n",
            "Selecting previously unselected package libsuitesparseconfig5:amd64.\n",
            "(Reading database ... 155365 files and directories currently installed.)\n",
            "Preparing to unpack .../libsuitesparseconfig5_1%3a5.1.2-2_amd64.deb ...\n",
            "Unpacking libsuitesparseconfig5:amd64 (1:5.1.2-2) ...\n",
            "Selecting previously unselected package libamd2:amd64.\n",
            "Preparing to unpack .../libamd2_1%3a5.1.2-2_amd64.deb ...\n",
            "Unpacking libamd2:amd64 (1:5.1.2-2) ...\n",
            "Selecting previously unselected package libcolamd2:amd64.\n",
            "Preparing to unpack .../libcolamd2_1%3a5.1.2-2_amd64.deb ...\n",
            "Unpacking libcolamd2:amd64 (1:5.1.2-2) ...\n",
            "Selecting previously unselected package libglpk40:amd64.\n",
            "Preparing to unpack .../libglpk40_4.65-1_amd64.deb ...\n",
            "Unpacking libglpk40:amd64 (4.65-1) ...\n",
            "Selecting previously unselected package glpk-utils.\n",
            "Preparing to unpack .../glpk-utils_4.65-1_amd64.deb ...\n",
            "Unpacking glpk-utils (4.65-1) ...\n",
            "Setting up libsuitesparseconfig5:amd64 (1:5.1.2-2) ...\n",
            "Setting up libcolamd2:amd64 (1:5.1.2-2) ...\n",
            "Setting up libamd2:amd64 (1:5.1.2-2) ...\n",
            "Setting up libglpk40:amd64 (4.65-1) ...\n",
            "Setting up glpk-utils (4.65-1) ...\n",
            "Processing triggers for libc-bin (2.27-3ubuntu1.3) ...\n",
            "/sbin/ldconfig.real: /usr/local/lib/python3.7/dist-packages/ideep4py/lib/libmkldnn.so.0 is not a symbolic link\n",
            "\n",
            "Processing triggers for man-db (2.8.3-2ubuntu0.1) ...\n"
          ]
        }
      ],
      "source": [
        "!pip install -q pyomo\n",
        "!apt-get install -y -qq coinor-cbc\n",
        "!apt-get install -y -qq glpk-utils\n",
        "from pyomo.environ import *"
      ]
    },
    {
      "cell_type": "markdown",
      "metadata": {
        "id": "4IutKHcMEUMs"
      },
      "source": [
        "### Step2:\n",
        "<b>Specify / import data</b>"
      ]
    },
    {
      "cell_type": "code",
      "execution_count": 2,
      "metadata": {
        "id": "8M5YuLTjEUMs"
      },
      "outputs": [],
      "source": [
        "Demand = {\n",
        "   'DIS':   125,        # Dispur\n",
        "   'LAK':   175,        # Lakshadweep\n",
        "   'BHI':   225,        # Bhind\n",
        "   'AGR':   250,        # Agra\n",
        "   'SAW':   225,        # Sawai\n",
        "   'ALI':   200         # Aligarh\n",
        "}\n",
        "\n",
        "Supply = {\n",
        "   'BIN':   550,        # Bina\n",
        "   'PAN':   700         # Panipat\n",
        "}\n",
        "\n",
        "# Transportation cost for Dispur-Bina and Lakshadweep-Panipet are assumed to be very high values\n",
        "# to ensure that the optimum solution does not contain this combination as the objective is to minimise the cost.\n",
        "# This is known as big-M method in linear programming and is beyond the scope of this module\n",
        "\n",
        "T = {\n",
        "    ('DIS','BIN'): 1000,\n",
        "    ('DIS','PAN'): 2.5,\n",
        "    ('LAK','BIN'): 2.5,\n",
        "    ('LAK','PAN'): 1000,\n",
        "    ('BHI','BIN'): 1.6,\n",
        "    ('BHI','PAN'): 2.0,\n",
        "    ('AGR','BIN'): 1.4,\n",
        "    ('AGR','PAN'): 1.0,\n",
        "    ('SAW','BIN'): 0.8,\n",
        "    ('SAW','PAN'): 1.0,\n",
        "    ('ALI','BIN'): 1.4,\n",
        "    ('ALI','PAN'): 0.8\n",
        "}"
      ]
    },
    {
      "cell_type": "markdown",
      "metadata": {
        "id": "qA4RQRIIEUMt"
      },
      "source": [
        "### Step3:\n",
        "<b> Create Model Object</b>"
      ]
    },
    {
      "cell_type": "code",
      "execution_count": 23,
      "metadata": {
        "id": "R6iaiKW3EUMu"
      },
      "outputs": [],
      "source": [
        "model = ConcreteModel()"
      ]
    },
    {
      "cell_type": "markdown",
      "metadata": {
        "id": "7VTrQa6AEUMu"
      },
      "source": [
        "### Step4:\n",
        "<b> Define indexes</b> <br>\n",
        " We could directly use, Python lists, dictonaries and other iterable data structures or create a Pyomo set. "
      ]
    },
    {
      "cell_type": "code",
      "execution_count": 24,
      "metadata": {
        "id": "OqPBrp98EUMu"
      },
      "outputs": [],
      "source": [
        "CUS = [\n",
        "   'DIS',        # Dispur\n",
        "   'LAK',        # Lakshadweep\n",
        "   'BHI',        # Bhind\n",
        "   'AGR',        # Agra\n",
        "   'SAW',        # Sawai\n",
        "   'ALI'         # Aligarh\n",
        "]\n",
        "\n",
        "SRC = [\n",
        "   'BIN',        # Bina\n",
        "   'PAN'         # Panipat\n",
        "]"
      ]
    },
    {
      "cell_type": "markdown",
      "metadata": {
        "id": "kyNjmGDKEUMu"
      },
      "source": [
        "### Step5:\n",
        "<b>Define Decision Variable</b>"
      ]
    },
    {
      "cell_type": "code",
      "execution_count": 25,
      "metadata": {
        "id": "ZKfEWVoiEUMu",
        "outputId": "36366643-5230-4600-ce2f-822837244a6b",
        "colab": {
          "base_uri": "https://localhost:8080/"
        }
      },
      "outputs": [
        {
          "output_type": "stream",
          "name": "stdout",
          "text": [
            "x : Size=12, Index=x_index\n",
            "    Key            : Lower : Value : Upper : Fixed : Stale : Domain\n",
            "    ('AGR', 'BIN') :     0 :  None :  None : False :  True : NonNegativeReals\n",
            "    ('AGR', 'PAN') :     0 :  None :  None : False :  True : NonNegativeReals\n",
            "    ('ALI', 'BIN') :     0 :  None :  None : False :  True : NonNegativeReals\n",
            "    ('ALI', 'PAN') :     0 :  None :  None : False :  True : NonNegativeReals\n",
            "    ('BHI', 'BIN') :     0 :  None :  None : False :  True : NonNegativeReals\n",
            "    ('BHI', 'PAN') :     0 :  None :  None : False :  True : NonNegativeReals\n",
            "    ('DIS', 'BIN') :     0 :  None :  None : False :  True : NonNegativeReals\n",
            "    ('DIS', 'PAN') :     0 :  None :  None : False :  True : NonNegativeReals\n",
            "    ('LAK', 'BIN') :     0 :  None :  None : False :  True : NonNegativeReals\n",
            "    ('LAK', 'PAN') :     0 :  None :  None : False :  True : NonNegativeReals\n",
            "    ('SAW', 'BIN') :     0 :  None :  None : False :  True : NonNegativeReals\n",
            "    ('SAW', 'PAN') :     0 :  None :  None : False :  True : NonNegativeReals\n"
          ]
        }
      ],
      "source": [
        "model.x = Var(CUS, SRC, within = NonNegativeReals)\n",
        "model.x.pprint()"
      ]
    },
    {
      "cell_type": "markdown",
      "metadata": {
        "id": "uWlaeq2QEUMv"
      },
      "source": [
        "### Step6:\n",
        "<b>Define Objective</b>"
      ]
    },
    {
      "cell_type": "code",
      "execution_count": 26,
      "metadata": {
        "id": "4c3KteGBEUMv"
      },
      "outputs": [],
      "source": [
        "model.Cost = Objective(expr = sum(model.x[c,s]*T[c,s] for c in CUS for s in SRC), sense = minimize)"
      ]
    },
    {
      "cell_type": "markdown",
      "metadata": {
        "id": "Z5POGpbnEUMv"
      },
      "source": [
        "### Step7:\n",
        "<b>Define Constraints</b>"
      ]
    },
    {
      "cell_type": "code",
      "execution_count": 27,
      "metadata": {
        "id": "Alozk92JEUMv"
      },
      "outputs": [],
      "source": [
        "#Total oil supplied to customers from any refinery, can't exceed the refinery capacity\n",
        "model.src = ConstraintList()\n",
        "for s in SRC:\n",
        "  model.src.add(sum([model.x[c,s] for c in CUS]) <= Supply[s])\n",
        "\n",
        "#Customer demand must be completly met\n",
        "model.cus = ConstraintList()        \n",
        "for c in CUS:\n",
        "  model.cus.add(sum(model.x[c,s] for s in SRC) == Demand[c])"
      ]
    },
    {
      "cell_type": "markdown",
      "metadata": {
        "id": "bOz1UQhfEUMv"
      },
      "source": [
        "<b>Note:</b> Using ConstraintList() is an alternative way of adding subscipted constraints in Pyomo."
      ]
    },
    {
      "cell_type": "markdown",
      "metadata": {
        "id": "ysT7PGhXEUMv"
      },
      "source": [
        "### Step8:\n",
        "<b>Create solver & solve model </b><br>\n",
        "Note: It is important to know if you have created a liner(LP), integer(IP), mixed integer(MIP), non-linear (NLP), or mixed integer non-linear (MINLP) model and choose the most suitable solver accordingly. We have setup glpk for LP, IP and MIP type problems and ipopt for NLP type."
      ]
    },
    {
      "cell_type": "code",
      "execution_count": 28,
      "metadata": {
        "id": "uiqXiY2sEUMw",
        "outputId": "4c3bdc26-b66b-469a-9310-aac4cd7c2960",
        "colab": {
          "base_uri": "https://localhost:8080/"
        }
      },
      "outputs": [
        {
          "output_type": "stream",
          "name": "stdout",
          "text": [
            "# ==========================================================\n",
            "# = Solver Results                                         =\n",
            "# ==========================================================\n",
            "# ----------------------------------------------------------\n",
            "#   Problem Information\n",
            "# ----------------------------------------------------------\n",
            "Problem: \n",
            "- Name: unknown\n",
            "  Lower bound: 1715.0\n",
            "  Upper bound: 1715.0\n",
            "  Number of objectives: 1\n",
            "  Number of constraints: 9\n",
            "  Number of variables: 13\n",
            "  Number of nonzeros: 25\n",
            "  Sense: minimize\n",
            "# ----------------------------------------------------------\n",
            "#   Solver Information\n",
            "# ----------------------------------------------------------\n",
            "Solver: \n",
            "- Status: ok\n",
            "  Termination condition: optimal\n",
            "  Statistics: \n",
            "    Branch and bound: \n",
            "      Number of bounded subproblems: 0\n",
            "      Number of created subproblems: 0\n",
            "  Error rc: 0\n",
            "  Time: 0.015324831008911133\n",
            "# ----------------------------------------------------------\n",
            "#   Solution Information\n",
            "# ----------------------------------------------------------\n",
            "Solution: \n",
            "- number of solutions: 0\n",
            "  number of solutions displayed: 0\n"
          ]
        }
      ],
      "source": [
        "result = SolverFactory('glpk').solve(model)\n",
        "result.write()"
      ]
    },
    {
      "cell_type": "markdown",
      "metadata": {
        "id": "CYKR45THEUMw"
      },
      "source": [
        "### Step8:\n",
        "<b>Display Results </b>"
      ]
    },
    {
      "cell_type": "code",
      "execution_count": 29,
      "metadata": {
        "id": "sQ2CjyCHEUMx",
        "outputId": "5b595bd9-b8cf-4bfa-b3a6-725930a8769a",
        "colab": {
          "base_uri": "https://localhost:8080/"
        }
      },
      "outputs": [
        {
          "output_type": "stream",
          "name": "stdout",
          "text": [
            "DIS BIN 0.0\n",
            "DIS PAN 125.0\n",
            "LAK BIN 175.0\n",
            "LAK PAN 0.0\n",
            "BHI BIN 225.0\n",
            "BHI PAN 0.0\n",
            "AGR BIN 0.0\n",
            "AGR PAN 250.0\n",
            "SAW BIN 150.0\n",
            "SAW PAN 75.0\n",
            "ALI BIN 0.0\n",
            "ALI PAN 200.0\n",
            "Total Shipping Costs =  1715.0\n",
            "\n",
            "Shipping Table:\n",
            "Ship from  BIN  to  LAK : 175.0\n",
            "Ship from  BIN  to  BHI : 225.0\n",
            "Ship from  BIN  to  SAW : 150.0\n",
            "Ship from  PAN  to  DIS : 125.0\n",
            "Ship from  PAN  to  AGR : 250.0\n",
            "Ship from  PAN  to  SAW : 75.0\n",
            "Ship from  PAN  to  ALI : 200.0\n"
          ]
        }
      ],
      "source": [
        "for c in CUS:\n",
        "    for s in SRC:\n",
        "        print(c, s, model.x[c,s]())\n",
        "        \n",
        "if (result.solver.status == SolverStatus.ok) and (result.solver.termination_condition == TerminationCondition.optimal):\n",
        "    print(\"Total Shipping Costs = \",model.Cost())\n",
        "    print(\"\\nShipping Table:\")\n",
        "    for s in SRC:\n",
        "        for c in CUS:\n",
        "            if model.x[c,s]() > 0:\n",
        "                print(\"Ship from \", s,\" to \", c, \":\", model.x[c,s]())\n",
        "else:\n",
        "    print(\"No feasible solution found\")"
      ]
    },
    {
      "cell_type": "markdown",
      "metadata": {
        "id": "CTWqiH8qEUMx"
      },
      "source": [
        "# Excercise"
      ]
    },
    {
      "cell_type": "markdown",
      "metadata": {
        "id": "cJ1XI6FVEUMx"
      },
      "source": [
        "<b> 3.1</b> We introduced the concept of checking solver status before printing solution results. This is because if the supply is lesser than the demand then the constraint forcing to meet customer demand can not be satisfied and no feasible solution would be found. If we reduce the supply of Bina from 550 to 450 what would happen?"
      ]
    },
    {
      "cell_type": "code",
      "execution_count": null,
      "metadata": {
        "scrolled": true,
        "id": "flku_q6UEUMx",
        "outputId": "3df19319-f2a8-4d84-c23f-e56237037a2b"
      },
      "outputs": [
        {
          "name": "stdout",
          "output_type": "stream",
          "text": [
            "# ==========================================================\n",
            "# = Solver Results                                         =\n",
            "# ==========================================================\n",
            "# ----------------------------------------------------------\n",
            "#   Problem Information\n",
            "# ----------------------------------------------------------\n",
            "Problem: \n",
            "- Name: unknown\n",
            "  Lower bound: -inf\n",
            "  Upper bound: inf\n",
            "  Number of objectives: 1\n",
            "  Number of constraints: 9\n",
            "  Number of variables: 13\n",
            "  Number of nonzeros: 25\n",
            "  Sense: minimize\n",
            "# ----------------------------------------------------------\n",
            "#   Solver Information\n",
            "# ----------------------------------------------------------\n",
            "Solver: \n",
            "- Status: ok\n",
            "  Termination condition: other\n",
            "  Statistics: \n",
            "    Branch and bound: \n",
            "      Number of bounded subproblems: 0\n",
            "      Number of created subproblems: 0\n",
            "  Error rc: 0\n",
            "  Time: 0.02905416488647461\n"
          ]
        }
      ],
      "source": [
        "Supply = {\n",
        "   'BIN':   450,        # Bina\n",
        "   'PAN':   700         # Panipat\n",
        "}\n",
        "\n",
        "model2 = ConcreteModel()\n",
        "\n",
        "model2.x = Var(CUS, SRC, domain = NonNegativeReals)\n",
        "\n",
        "model2.Cost = Objective(expr = sum([T[c,s]*model2.x[c,s] for c in CUS for s in SRC]), sense = minimize)\n",
        "\n",
        "#Total demand to customers from 1 refinery, can't exceed the refinery capacity\n",
        "model2.src = ConstraintList()\n",
        "for s in SRC:\n",
        "    model2.src.add(sum([model2.x[c,s] for c in CUS]) <= Supply[s])\n",
        "\n",
        "#Customer deamnd mut be completly met        \n",
        "model2.dmd = ConstraintList()\n",
        "for c in CUS:\n",
        "    model2.dmd.add(sum([model2.x[c,s] for s in SRC]) == Demand[c])\n",
        "\n",
        "result2 = SolverFactory('glpk').solve(model2)\n",
        "result2.write()"
      ]
    },
    {
      "cell_type": "code",
      "execution_count": null,
      "metadata": {
        "id": "rrEg-tEfEUMx",
        "outputId": "af479726-4a96-4198-ae9c-0c458ea8d098"
      },
      "outputs": [
        {
          "name": "stdout",
          "output_type": "stream",
          "text": [
            "No feasible solution found\n"
          ]
        }
      ],
      "source": [
        "if (result2.solver.status == SolverStatus.ok) and (result2.solver.termination_condition == TerminationCondition.optimal):\n",
        "    print(\"Total Shipping Costs = \",model2.Cost())\n",
        "    print(\"\\nShipping Table:\")\n",
        "    for s in SRC:\n",
        "        for c in CUS:\n",
        "            if model.x[c,s]() > 0:\n",
        "                print(\"Ship from \", s,\" to \", c, \":\", model2.x[c,s]())\n",
        "else:\n",
        "    print(\"No feasible solution found\")"
      ]
    },
    {
      "cell_type": "markdown",
      "metadata": {
        "id": "aLlLrv1OEUMy"
      },
      "source": [
        "<b> 3.2</b> How can we return a feasible solution?"
      ]
    },
    {
      "cell_type": "code",
      "execution_count": null,
      "metadata": {
        "scrolled": true,
        "id": "rERyQWEjEUMy",
        "outputId": "d00bd735-851d-4261-b288-af047cc338a7"
      },
      "outputs": [
        {
          "name": "stdout",
          "output_type": "stream",
          "text": [
            "# ==========================================================\n",
            "# = Solver Results                                         =\n",
            "# ==========================================================\n",
            "# ----------------------------------------------------------\n",
            "#   Problem Information\n",
            "# ----------------------------------------------------------\n",
            "Problem: \n",
            "- Name: unknown\n",
            "  Lower bound: 51550.0\n",
            "  Upper bound: 51550.0\n",
            "  Number of objectives: 1\n",
            "  Number of constraints: 9\n",
            "  Number of variables: 19\n",
            "  Number of nonzeros: 31\n",
            "  Sense: minimize\n",
            "# ----------------------------------------------------------\n",
            "#   Solver Information\n",
            "# ----------------------------------------------------------\n",
            "Solver: \n",
            "- Status: ok\n",
            "  Termination condition: optimal\n",
            "  Statistics: \n",
            "    Branch and bound: \n",
            "      Number of bounded subproblems: 0\n",
            "      Number of created subproblems: 0\n",
            "  Error rc: 0\n",
            "  Time: 0.032911062240600586\n",
            "# ----------------------------------------------------------\n",
            "#   Solution Information\n",
            "# ----------------------------------------------------------\n",
            "Solution: \n",
            "- number of solutions: 0\n",
            "  number of solutions displayed: 0\n"
          ]
        }
      ],
      "source": [
        "Supply = {\n",
        "   'BIN':   450,        # Bina\n",
        "   'PAN':   700         # Panipat\n",
        "}\n",
        "\n",
        "model3 = ConcreteModel()\n",
        "\n",
        "# Defining model variables\n",
        "model3.x = Var(CUS, SRC, domain = NonNegativeReals)\n",
        "model3.surplus = Var(CUS, domain = NonNegativeReals)\n",
        "\n",
        "#Making use of Big M concepts\n",
        "model3.Cost = Objective(expr = (sum([T[c,s]*model3.x[c,s] for c in CUS for s in SRC]) + \\\n",
        "                                sum(999 * model3.surplus[c] for c in CUS)), sense = minimize)\n",
        "\n",
        "#Total demand to customers from 1 refinery, can't exceed the refinery capacity\n",
        "model3.src = ConstraintList()\n",
        "for s in SRC:\n",
        "    model3.src.add(sum([model3.x[c,s] for c in CUS]) <= Supply[s])\n",
        "\n",
        "#Customer demand must be completely met        \n",
        "model3.dmd = ConstraintList()\n",
        "for c in CUS:\n",
        "    model3.dmd.add(sum([model3.x[c,s] for s in SRC]) + model3.surplus[c] == Demand[c])\n",
        "\n",
        "result3 = SolverFactory('glpk').solve(model3)\n",
        "result3.write()"
      ]
    },
    {
      "cell_type": "code",
      "execution_count": null,
      "metadata": {
        "id": "QMVKQ-9TEUMy",
        "outputId": "572affec-3fdb-462e-dc49-67f67f00d41e"
      },
      "outputs": [
        {
          "name": "stdout",
          "output_type": "stream",
          "text": [
            "Total Shipping Costs =  51550.0\n",
            "\n",
            "Shipping Table:\n",
            "Ship from  BIN  to  LAK : 125.0\n",
            "Ship from  BIN  to  BHI : 225.0\n",
            "Ship from  BIN  to  SAW : 100.0\n",
            "Ship from  PAN  to  DIS : 125.0\n",
            "Ship from  PAN  to  AGR : 250.0\n",
            "Ship from  PAN  to  SAW : 125.0\n",
            "Ship from  PAN  to  ALI : 200.0\n",
            "\n",
            "Excess supply of 50.0 is needed for LAK\n"
          ]
        }
      ],
      "source": [
        "#Improved printing\n",
        "if (result3.solver.status == SolverStatus.ok) and (result3.solver.termination_condition == TerminationCondition.optimal):\n",
        "    print(\"Total Shipping Costs = \",model3.Cost())\n",
        "    print(\"\\nShipping Table:\")\n",
        "    for s in SRC:\n",
        "        for c in CUS:\n",
        "            if model.x[c,s]() > 0:\n",
        "                print(\"Ship from \", s,\" to \", c, \":\", model3.x[c,s]())\n",
        "    print()\n",
        "    for c in CUS:\n",
        "        if(model3.surplus[c]() > 0):\n",
        "            print(\"Excess supply of\", model3.surplus[c](), 'is needed for', c)\n",
        "else:\n",
        "    print(\"No feasible solution found\")"
      ]
    },
    {
      "cell_type": "code",
      "execution_count": null,
      "metadata": {
        "id": "1NXS_V8wEUMy"
      },
      "outputs": [],
      "source": [
        ""
      ]
    }
  ],
  "metadata": {
    "kernelspec": {
      "display_name": "Python 3",
      "language": "python",
      "name": "python3"
    },
    "language_info": {
      "codemirror_mode": {
        "name": "ipython",
        "version": 3
      },
      "file_extension": ".py",
      "mimetype": "text/x-python",
      "name": "python",
      "nbconvert_exporter": "python",
      "pygments_lexer": "ipython3",
      "version": "3.7.4"
    },
    "colab": {
      "name": "Oil India Corporation Transportation Cost Reduction.ipynb",
      "provenance": [],
      "include_colab_link": true
    }
  },
  "nbformat": 4,
  "nbformat_minor": 0
}