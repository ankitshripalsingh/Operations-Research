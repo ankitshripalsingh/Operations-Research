{
 "cells": [
  {
   "cell_type": "markdown",
   "metadata": {},
   "source": [
    "# Knapsack Problem"
   ]
  },
  {
   "cell_type": "markdown",
   "metadata": {},
   "source": [
    "##  Problem Statement\n",
    "\n",
    "The marketing campaign manager of WallArt, Ecommerce has been assigned a maximum budget of ₹14 Cr to promote the upcoming Diwali sale. He has 4 options(O) to run campaigns on. Each option charges a fixed amount (C) for running promotions. He has historical data to let him know the number of customers (N) he can reach from each . Help him decide on the ideal combination he should use for reaching maximum customers.\n",
    "\n",
    "|Options(O)|Charge(C) ₹Cr|No. of Customers (N), lakhs|\n",
    "| --- | --- | --- |\n",
    "|Social Media| 5 | 8 |\n",
    "|News Paper| 7 | 3 |\n",
    "|TV| 4 | 6 |\n",
    "|Search Engine| 3 | 11 |\n",
    "\n",
    "<center><b>Max Budget:</b> ₹14Cr</center>\n",
    "\n",
    "<b>Formulation:</b>\n",
    "Objective <br>\n",
    "$maximum \\sum_{i \\in O} n_{i}x_{i}$\n",
    "\n",
    "Subject To: <br>\n",
    "$\\sum_{i \\in O} c_{i}x_{i} \\leq c_{max}$<br>\n",
    "\n",
    "$x_{i} \\in \\{0,1\\} \\,\\,\\,\\,\\,\\,\\,\\,\\, \\forall i \\in O$\n"
   ]
  },
  {
   "cell_type": "code",
   "execution_count": null,
   "metadata": {},
   "outputs": [],
   "source": [
    "import matplotlib\n",
    "import seaborn\n",
    "import bokeh\n",
    "%matplotlib inline"
   ]
  },
  {
   "cell_type": "markdown",
   "metadata": {},
   "source": [
    "### Step1:\n",
    "<b> Import Pyomo Enviornment </b>"
   ]
  },
  {
   "cell_type": "code",
   "execution_count": null,
   "metadata": {},
   "outputs": [],
   "source": [
    "from pyomo.environ import *"
   ]
  },
  {
   "cell_type": "markdown",
   "metadata": {},
   "source": [
    "### Step2:\n",
    "<b>Specify / import data</b>"
   ]
  },
  {
   "cell_type": "code",
   "execution_count": null,
   "metadata": {},
   "outputs": [],
   "source": [
    "# Creating datastructures for index and parameters\n",
    "\n",
    "c_max = 14"
   ]
  },
  {
   "cell_type": "markdown",
   "metadata": {},
   "source": [
    "### Step3:\n",
    "<b> Create Model Object</b>"
   ]
  },
  {
   "cell_type": "code",
   "execution_count": null,
   "metadata": {},
   "outputs": [],
   "source": [
    "#Instantiating a model object\n",
    "model = ConcreteModel()"
   ]
  },
  {
   "cell_type": "markdown",
   "metadata": {},
   "source": [
    "### Step4:\n",
    "<b>Define Decision Variable</b>"
   ]
  },
  {
   "cell_type": "code",
   "execution_count": null,
   "metadata": {},
   "outputs": [],
   "source": [
    "#Defining decision variable indexed with elements in the list O\n"
   ]
  },
  {
   "cell_type": "markdown",
   "metadata": {},
   "source": [
    "### Step5:\n",
    "<b>Define Objective</b>"
   ]
  },
  {
   "cell_type": "code",
   "execution_count": null,
   "metadata": {},
   "outputs": [],
   "source": [
    "#Defining the objective - Maximize the customer reach\n"
   ]
  },
  {
   "cell_type": "markdown",
   "metadata": {},
   "source": [
    "### Step6:\n",
    "<b>Define Constraints</b>"
   ]
  },
  {
   "cell_type": "code",
   "execution_count": null,
   "metadata": {},
   "outputs": [],
   "source": [
    "# Budget constraint\n"
   ]
  },
  {
   "cell_type": "markdown",
   "metadata": {},
   "source": [
    "### Step7:\n",
    "<b>Create solver & solve model </b><br>\n",
    "Note: It is important to know if you have created a liner(LP), integer(IP), mixed integer(MIP), non-linear (NLP), or mixed integer non-linear (MINLP) model and choose the most suitable solver accordingly. We have setup glpk for LP, IP and MIP type problems and ipopt for NLP type."
   ]
  },
  {
   "cell_type": "code",
   "execution_count": null,
   "metadata": {
    "scrolled": true
   },
   "outputs": [],
   "source": [
    "# Invoking the solver\n"
   ]
  },
  {
   "cell_type": "markdown",
   "metadata": {},
   "source": [
    "### Step8:\n",
    "<b>Display Results </b>"
   ]
  },
  {
   "cell_type": "code",
   "execution_count": null,
   "metadata": {},
   "outputs": [],
   "source": [
    "# Display the values of decision variables\n"
   ]
  }
 ],
 "metadata": {
  "kernelspec": {
   "display_name": "Python 3",
   "language": "python",
   "name": "python3"
  },
  "language_info": {
   "codemirror_mode": {
    "name": "ipython",
    "version": 3
   },
   "file_extension": ".py",
   "mimetype": "text/x-python",
   "name": "python",
   "nbconvert_exporter": "python",
   "pygments_lexer": "ipython3",
   "version": "3.7.4"
  }
 },
 "nbformat": 4,
 "nbformat_minor": 4
}
