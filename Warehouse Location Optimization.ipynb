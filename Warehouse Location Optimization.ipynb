{
  "cells": [
    {
      "cell_type": "markdown",
      "metadata": {
        "id": "view-in-github",
        "colab_type": "text"
      },
      "source": [
        "<a href=\"https://colab.research.google.com/github/ankitshripalsingh/Operations-Research/blob/OR/Warehouse%20Location%20Optimization.ipynb\" target=\"_parent\"><img src=\"https://colab.research.google.com/assets/colab-badge.svg\" alt=\"Open In Colab\"/></a>"
      ]
    },
    {
      "cell_type": "markdown",
      "metadata": {
        "id": "3x3HgOA19XsN"
      },
      "source": [
        "# Warehouse Location Problem\n",
        "\n",
        "BBasket is an Indian corporation which operates a chain of membership-only grocery clubs. Currently they have thousands of customers in the following locations: Bangalore, Chennai, Hyderabad and Pune. They want to open two warehouses from the given list of locations available to them : Anantapur, Mysore and Vellore. Following is the distance given between warehouse and the customer city. As an analyst, provide them a solution to have minimum total cost of serving all the customers. A customer location can be served by only 1 active warehouse. The table below shows distances between cities in kilometres.\n",
        "\n",
        "| W / C | Hyderabad | Chennai | Bangalore | Pune |\n",
        "| :---- | :---- | :---- | :---- | :---- |\n",
        "|Anantpur|422|482|215|882|\n",
        "|Mysore|797|482|144|934|\n",
        "|Vellore|779|157|201|1138|\n"
      ]
    },
    {
      "cell_type": "markdown",
      "metadata": {
        "id": "HuiQyycz8Q58"
      },
      "source": [
        "##  Mathematical formulation / Pyomo components\n",
        "\n",
        "---\n",
        "\n",
        "**Sets:** \n",
        "\n",
        "To define the indexes for the given problem <br>\n",
        "- Warehouse location, $w \\in W$\n",
        "- Customer location, $c \\in C$\n",
        "\n",
        "---\n",
        "\n",
        "**Parameters:**\n",
        "\n",
        "- Distance between each pair of warehouse-customer location - $\\text {d}_{w,c}$ <br>\n",
        "- Maximum number of warehouses that can be opened - P\n",
        "\n",
        "---\n",
        "\n",
        "**Decision variables:**\n",
        "\n",
        "\n",
        "- Binary/Boolean variable for warehouse supplying to a customer location <br>\n",
        "\n",
        "> ${x}_{w,c} \\ \\ where \\ \\ 0 \\leq x_{w,c} \\leq 1 \\,\\,\\,\\,\\,\\,\\,\\,\\, \\forall c \\in C, w \\in W $<br>\n",
        "\n",
        "- Binary/Boolean variable for active warehouse location <br>\n",
        "\n",
        "> ${y}_{w} \\ \\ where \\ \\ y_{w} \\in \\{0,1\\} \\,\\,\\,\\,\\,\\,\\,\\,\\, \\forall w \\in W $<br>\n",
        "\n",
        "\n",
        "---\n",
        "\n",
        "\n",
        "**Objective:**\n",
        "\n",
        "To *minimize* the sum of distances between the warehouses and customer locations\n",
        "    \n",
        "\\begin{align}\n",
        "\\textrm {min}\\sum \\limits _{w,c} \\text {d}_{w,c} * \\text {x}_{w,c}\n",
        "\\end{align}\n",
        "\n",
        "---\n",
        "\n",
        "**Constraints:**\n",
        "\n",
        "*   One customer location can be satisfied by only one warehouse <br>\n",
        ">$\\sum_{w \\in W} x_{w,c} = 1 \\,\\,\\,\\,\\,\\,\\,\\,\\, \\forall c \\in C$ <br> \n",
        "\n",
        "*   Customer location can get goods from only active warehouse <br>\n",
        "\n",
        " > $x_{w,c} \\leq y_{w} \\,\\,\\,\\,\\,\\,\\,\\,\\, \\forall c \\in C, w \\in W$ <br>\n",
        "\n",
        "*   Active warehouses should be less than or equal to the required number of warehouses <br>\n",
        ">$\\sum_{w \\in W} y_{w} <= P $\n",
        "\n"
      ]
    },
    {
      "cell_type": "markdown",
      "metadata": {
        "id": "iNKDTGFS8Q5-"
      },
      "source": [
        "### Step1:\n",
        "<b> Import Pyomo Environment </b>"
      ]
    },
    {
      "cell_type": "code",
      "execution_count": 1,
      "metadata": {
        "id": "zgI7sh7t0sxw",
        "outputId": "564557f0-8cec-4bc9-e524-806218b69417",
        "colab": {
          "base_uri": "https://localhost:8080/"
        }
      },
      "outputs": [
        {
          "output_type": "stream",
          "name": "stdout",
          "text": [
            "\u001b[K     |████████████████████████████████| 9.6 MB 8.0 MB/s \n",
            "\u001b[K     |████████████████████████████████| 49 kB 5.2 MB/s \n",
            "\u001b[?25hSelecting previously unselected package coinor-libcoinutils3v5.\n",
            "(Reading database ... 155320 files and directories currently installed.)\n",
            "Preparing to unpack .../0-coinor-libcoinutils3v5_2.10.14+repack1-1_amd64.deb ...\n",
            "Unpacking coinor-libcoinutils3v5 (2.10.14+repack1-1) ...\n",
            "Selecting previously unselected package coinor-libosi1v5.\n",
            "Preparing to unpack .../1-coinor-libosi1v5_0.107.9+repack1-1_amd64.deb ...\n",
            "Unpacking coinor-libosi1v5 (0.107.9+repack1-1) ...\n",
            "Selecting previously unselected package coinor-libclp1.\n",
            "Preparing to unpack .../2-coinor-libclp1_1.16.11+repack1-1_amd64.deb ...\n",
            "Unpacking coinor-libclp1 (1.16.11+repack1-1) ...\n",
            "Selecting previously unselected package coinor-libcgl1.\n",
            "Preparing to unpack .../3-coinor-libcgl1_0.59.10+repack1-1_amd64.deb ...\n",
            "Unpacking coinor-libcgl1 (0.59.10+repack1-1) ...\n",
            "Selecting previously unselected package coinor-libcbc3.\n",
            "Preparing to unpack .../4-coinor-libcbc3_2.9.9+repack1-1_amd64.deb ...\n",
            "Unpacking coinor-libcbc3 (2.9.9+repack1-1) ...\n",
            "Selecting previously unselected package coinor-cbc.\n",
            "Preparing to unpack .../5-coinor-cbc_2.9.9+repack1-1_amd64.deb ...\n",
            "Unpacking coinor-cbc (2.9.9+repack1-1) ...\n",
            "Setting up coinor-libcoinutils3v5 (2.10.14+repack1-1) ...\n",
            "Setting up coinor-libosi1v5 (0.107.9+repack1-1) ...\n",
            "Setting up coinor-libclp1 (1.16.11+repack1-1) ...\n",
            "Setting up coinor-libcgl1 (0.59.10+repack1-1) ...\n",
            "Setting up coinor-libcbc3 (2.9.9+repack1-1) ...\n",
            "Setting up coinor-cbc (2.9.9+repack1-1) ...\n",
            "Processing triggers for man-db (2.8.3-2ubuntu0.1) ...\n",
            "Processing triggers for libc-bin (2.27-3ubuntu1.3) ...\n",
            "/sbin/ldconfig.real: /usr/local/lib/python3.7/dist-packages/ideep4py/lib/libmkldnn.so.0 is not a symbolic link\n",
            "\n",
            "Selecting previously unselected package libsuitesparseconfig5:amd64.\n",
            "(Reading database ... 155365 files and directories currently installed.)\n",
            "Preparing to unpack .../libsuitesparseconfig5_1%3a5.1.2-2_amd64.deb ...\n",
            "Unpacking libsuitesparseconfig5:amd64 (1:5.1.2-2) ...\n",
            "Selecting previously unselected package libamd2:amd64.\n",
            "Preparing to unpack .../libamd2_1%3a5.1.2-2_amd64.deb ...\n",
            "Unpacking libamd2:amd64 (1:5.1.2-2) ...\n",
            "Selecting previously unselected package libcolamd2:amd64.\n",
            "Preparing to unpack .../libcolamd2_1%3a5.1.2-2_amd64.deb ...\n",
            "Unpacking libcolamd2:amd64 (1:5.1.2-2) ...\n",
            "Selecting previously unselected package libglpk40:amd64.\n",
            "Preparing to unpack .../libglpk40_4.65-1_amd64.deb ...\n",
            "Unpacking libglpk40:amd64 (4.65-1) ...\n",
            "Selecting previously unselected package glpk-utils.\n",
            "Preparing to unpack .../glpk-utils_4.65-1_amd64.deb ...\n",
            "Unpacking glpk-utils (4.65-1) ...\n",
            "Setting up libsuitesparseconfig5:amd64 (1:5.1.2-2) ...\n",
            "Setting up libcolamd2:amd64 (1:5.1.2-2) ...\n",
            "Setting up libamd2:amd64 (1:5.1.2-2) ...\n",
            "Setting up libglpk40:amd64 (4.65-1) ...\n",
            "Setting up glpk-utils (4.65-1) ...\n",
            "Processing triggers for libc-bin (2.27-3ubuntu1.3) ...\n",
            "/sbin/ldconfig.real: /usr/local/lib/python3.7/dist-packages/ideep4py/lib/libmkldnn.so.0 is not a symbolic link\n",
            "\n",
            "Processing triggers for man-db (2.8.3-2ubuntu0.1) ...\n"
          ]
        }
      ],
      "source": [
        "#Importing Pyomo environment and other required libraries\n",
        "!pip install -q pyomo\n",
        "!apt-get install -y -qq coinor-cbc\n",
        "!apt-get install -y -qq glpk-utils\n",
        "\n",
        "from pyomo.environ import *\n",
        "\n",
        "import pandas as pd"
      ]
    },
    {
      "cell_type": "markdown",
      "metadata": {
        "id": "kDutdmlO8Q5_"
      },
      "source": [
        "### Step2:\n",
        "<b>Specify / import data</b>"
      ]
    },
    {
      "cell_type": "markdown",
      "metadata": {
        "id": "V2VYTFRH0N0-"
      },
      "source": [
        "**Sets:** \n",
        "\n",
        "To define the indexes for the given problem <br>\n",
        "- Warehouse location, $w \\in W$\n",
        "- Customer location, $c \\in C$"
      ]
    },
    {
      "cell_type": "code",
      "execution_count": 2,
      "metadata": {
        "id": "ToKaHWAj0aXK"
      },
      "outputs": [],
      "source": [
        "# Indexes - Defining sets/lists containing the indexes for this problem. This is a two index problem - warehouse location \n",
        "# and customer location will be the indexes\n",
        "\n",
        "W = ['Anantpur', 'Mysore', 'Vellore']\n",
        "C = ['Hyd', 'Chennai', 'Bangalore', 'Pune']"
      ]
    },
    {
      "cell_type": "markdown",
      "metadata": {
        "id": "U6gqBuqV0N0_"
      },
      "source": [
        "**Parameters:**\n",
        "\n",
        "- Distance between each pair of warehouse-customer location - $\\text {d}_{w,c}$ <br>\n",
        "- Maximum number of warehouses that can be opened - P"
      ]
    },
    {
      "cell_type": "code",
      "execution_count": 4,
      "metadata": {
        "id": "9-mw3BgB0qJl"
      },
      "outputs": [],
      "source": [
        "# parameters - distance between each warehouse-customer location\n",
        "d = {\n",
        "    (W[0], C[0]) : 422,\n",
        "    (W[0], C[1]) : 482,\n",
        "    (W[0], C[2]) : 215,\n",
        "    (W[0], C[3]) : 882,\n",
        "    (W[1], C[0]) : 797,\n",
        "    (W[1], C[1]) : 482,\n",
        "    (W[1], C[2]) : 144,\n",
        "    (W[1], C[3]) : 934,\n",
        "    (W[2], C[0]) : 779,\n",
        "    (W[2], C[1]) : 157,\n",
        "    (W[2], C[2]) : 201,\n",
        "    (W[2], C[3]) : 1138\n",
        "}\n",
        "\n",
        "# Maximum number of warehouses that are allowed to be open\n",
        "P = 2"
      ]
    },
    {
      "cell_type": "markdown",
      "metadata": {
        "id": "86aWP66h8Q6C"
      },
      "source": [
        "### Step3:\n",
        "<b> Create Model Object</b> <br>"
      ]
    },
    {
      "cell_type": "code",
      "execution_count": 5,
      "metadata": {
        "id": "u0vCxpu68Q6C"
      },
      "outputs": [],
      "source": [
        "# Creating an instance of a Concrete model since we have all the required data before hand\n",
        "model = ConcreteModel()"
      ]
    },
    {
      "cell_type": "markdown",
      "metadata": {
        "id": "gQFDtNt88Q6D"
      },
      "source": [
        "### Step4 \n",
        "\n",
        "<b>Define Decision Variable</b>:"
      ]
    },
    {
      "cell_type": "markdown",
      "metadata": {
        "id": "VXernruq0N1B"
      },
      "source": [
        "\n",
        "- Binary/Boolean variable for warehouse supplying to a customer location <br>\n",
        "\n",
        "> ${x}_{w,c} \\ \\ where \\ \\ 0 \\leq x_{w,c} \\leq 1 \\,\\,\\,\\,\\,\\,\\,\\,\\, \\forall c \\in C, w \\in W $<br>\n",
        "\n",
        "- Binary/Boolean variable for active warehouse location <br>\n",
        "\n",
        "> ${y}_{w} \\ \\ where \\ \\ y_{w} \\in \\{0,1\\} \\,\\,\\,\\,\\,\\,\\,\\,\\, \\forall w \\in W $<br>"
      ]
    },
    {
      "cell_type": "code",
      "execution_count": 6,
      "metadata": {
        "id": "bQp7cOjk8Q6D"
      },
      "outputs": [],
      "source": [
        "#Define variables\n",
        "model.x = Var(W, C, bounds = (0,1))\n",
        "model.y = Var(W, within = Binary)"
      ]
    },
    {
      "cell_type": "code",
      "source": [
        "model.x.pprint()"
      ],
      "metadata": {
        "id": "_jBT5UZB3xQ9",
        "outputId": "001e5552-1613-4177-f13a-39b98f7f9b6d",
        "colab": {
          "base_uri": "https://localhost:8080/"
        }
      },
      "execution_count": 7,
      "outputs": [
        {
          "output_type": "stream",
          "name": "stdout",
          "text": [
            "x : Size=12, Index=x_index\n",
            "    Key                       : Lower : Value : Upper : Fixed : Stale : Domain\n",
            "    ('Anantpur', 'Bangalore') :     0 :  None :     1 : False :  True :  Reals\n",
            "      ('Anantpur', 'Chennai') :     0 :  None :     1 : False :  True :  Reals\n",
            "          ('Anantpur', 'Hyd') :     0 :  None :     1 : False :  True :  Reals\n",
            "         ('Anantpur', 'Pune') :     0 :  None :     1 : False :  True :  Reals\n",
            "      ('Mysore', 'Bangalore') :     0 :  None :     1 : False :  True :  Reals\n",
            "        ('Mysore', 'Chennai') :     0 :  None :     1 : False :  True :  Reals\n",
            "            ('Mysore', 'Hyd') :     0 :  None :     1 : False :  True :  Reals\n",
            "           ('Mysore', 'Pune') :     0 :  None :     1 : False :  True :  Reals\n",
            "     ('Vellore', 'Bangalore') :     0 :  None :     1 : False :  True :  Reals\n",
            "       ('Vellore', 'Chennai') :     0 :  None :     1 : False :  True :  Reals\n",
            "           ('Vellore', 'Hyd') :     0 :  None :     1 : False :  True :  Reals\n",
            "          ('Vellore', 'Pune') :     0 :  None :     1 : False :  True :  Reals\n"
          ]
        }
      ]
    },
    {
      "cell_type": "code",
      "source": [
        "model.y.pprint()"
      ],
      "metadata": {
        "id": "OHNpzeKT37xa",
        "outputId": "0d2d4abe-c303-45c1-d0de-e9b6f0230b9a",
        "colab": {
          "base_uri": "https://localhost:8080/"
        }
      },
      "execution_count": 8,
      "outputs": [
        {
          "output_type": "stream",
          "name": "stdout",
          "text": [
            "y : Size=3, Index=y_index\n",
            "    Key      : Lower : Value : Upper : Fixed : Stale : Domain\n",
            "    Anantpur :     0 :  None :     1 : False :  True : Binary\n",
            "      Mysore :     0 :  None :     1 : False :  True : Binary\n",
            "     Vellore :     0 :  None :     1 : False :  True : Binary\n"
          ]
        }
      ]
    },
    {
      "cell_type": "markdown",
      "metadata": {
        "id": "kwquPGDJOSow"
      },
      "source": [
        "### Step5:\n",
        "<b>Define Objective</b>\n"
      ]
    },
    {
      "cell_type": "markdown",
      "metadata": {
        "id": "4e7Y2gbu0N1C"
      },
      "source": [
        "To *minimize* the sum of distances between the warehouses and customer locations\n",
        "    \n",
        "\\begin{align}\n",
        "\\textrm {min}\\sum \\limits _{w,c} \\text {d}_{w,c} * \\text {x}_{w,c}\n",
        "\\end{align}"
      ]
    },
    {
      "cell_type": "code",
      "execution_count": 10,
      "metadata": {
        "id": "dbUkh4jf1bTj",
        "outputId": "fd269725-b600-4594-a7e0-a496c4a16b7e",
        "colab": {
          "base_uri": "https://localhost:8080/"
        }
      },
      "outputs": [
        {
          "output_type": "stream",
          "name": "stdout",
          "text": [
            "WARNING: Implicitly replacing the Component attribute obj (type=<class\n",
            "    'pyomo.core.base.objective.ScalarObjective'>) on block unknown with a new\n",
            "    Component (type=<class 'pyomo.core.base.objective.ScalarObjective'>). This\n",
            "    is usually indicative of a modelling error. To avoid this warning, use\n",
            "    block.del_component() and block.add_component().\n"
          ]
        }
      ],
      "source": [
        "# Minimize the distance between warehouse and customer location\n",
        "def obj_rule(m):\n",
        "  return(sum(d[w,c]*model.x[w,c] for w in W for c in C))\n",
        "\n",
        "model.obj = Objective(rule = obj_rule, sense = minimize)"
      ]
    },
    {
      "cell_type": "markdown",
      "metadata": {
        "id": "fjCSLLMaOVPX"
      },
      "source": [
        "### Step6:\n",
        "<b>Define Constraints</b>"
      ]
    },
    {
      "cell_type": "markdown",
      "metadata": {
        "id": "QQSSSEGH0N1C"
      },
      "source": [
        "*   One customer location can be satisfied by only one warehouse <br>\n",
        ">$\\sum_{w \\in W} x_{w,c} = 1 \\,\\,\\,\\,\\,\\,\\,\\,\\, \\forall c \\in C$ <br> \n"
      ]
    },
    {
      "cell_type": "code",
      "execution_count": 11,
      "metadata": {
        "id": "y5FlFn3P1cHR"
      },
      "outputs": [],
      "source": [
        "# single warehouse per customer\n",
        "def warehouse_per_cust(model, C):\n",
        "  return(sum(model.x[w,C] for w in W) == 1)\n",
        "\n",
        "model.cust_warehouse_one = Constraint(C, rule = warehouse_per_cust)"
      ]
    },
    {
      "cell_type": "markdown",
      "metadata": {
        "id": "E1zH8O_V0N1D"
      },
      "source": [
        "*   Customer location can get goods from only active warehouse <br>\n",
        "\n",
        " > $x_{w,c} \\leq y_{w} \\,\\,\\,\\,\\,\\,\\,\\,\\, \\forall c \\in C, w \\in W$ <br>\n"
      ]
    },
    {
      "cell_type": "code",
      "execution_count": 12,
      "metadata": {
        "id": "98PmavMz23sk"
      },
      "outputs": [],
      "source": [
        "#only active warehouse can serve a customer location\n",
        "def active_warehouse(model, w, c):\n",
        "  return(model.x[w,c] <= model.y[w])\n",
        "\n",
        "model.is_active_warehouse = Constraint(W, C, rule = active_warehouse)"
      ]
    },
    {
      "cell_type": "code",
      "source": [
        "model.is_active_warehouse.pprint()"
      ],
      "metadata": {
        "id": "K9cBv6vL-LWH",
        "outputId": "fa06526b-b18f-4233-d818-dd69a50a28b2",
        "colab": {
          "base_uri": "https://localhost:8080/"
        }
      },
      "execution_count": 14,
      "outputs": [
        {
          "output_type": "stream",
          "name": "stdout",
          "text": [
            "is_active_warehouse : Size=12, Index=is_active_warehouse_index, Active=True\n",
            "    Key                       : Lower : Body                                : Upper : Active\n",
            "    ('Anantpur', 'Bangalore') :  -Inf : x[Anantpur,Bangalore] - y[Anantpur] :   0.0 :   True\n",
            "      ('Anantpur', 'Chennai') :  -Inf :   x[Anantpur,Chennai] - y[Anantpur] :   0.0 :   True\n",
            "          ('Anantpur', 'Hyd') :  -Inf :       x[Anantpur,Hyd] - y[Anantpur] :   0.0 :   True\n",
            "         ('Anantpur', 'Pune') :  -Inf :      x[Anantpur,Pune] - y[Anantpur] :   0.0 :   True\n",
            "      ('Mysore', 'Bangalore') :  -Inf :     x[Mysore,Bangalore] - y[Mysore] :   0.0 :   True\n",
            "        ('Mysore', 'Chennai') :  -Inf :       x[Mysore,Chennai] - y[Mysore] :   0.0 :   True\n",
            "            ('Mysore', 'Hyd') :  -Inf :           x[Mysore,Hyd] - y[Mysore] :   0.0 :   True\n",
            "           ('Mysore', 'Pune') :  -Inf :          x[Mysore,Pune] - y[Mysore] :   0.0 :   True\n",
            "     ('Vellore', 'Bangalore') :  -Inf :   x[Vellore,Bangalore] - y[Vellore] :   0.0 :   True\n",
            "       ('Vellore', 'Chennai') :  -Inf :     x[Vellore,Chennai] - y[Vellore] :   0.0 :   True\n",
            "           ('Vellore', 'Hyd') :  -Inf :         x[Vellore,Hyd] - y[Vellore] :   0.0 :   True\n",
            "          ('Vellore', 'Pune') :  -Inf :        x[Vellore,Pune] - y[Vellore] :   0.0 :   True\n"
          ]
        }
      ]
    },
    {
      "cell_type": "markdown",
      "metadata": {
        "id": "YwVbhv4x0N1D"
      },
      "source": [
        "*   Active warehouses should be less than or equal to the required number of warehouses <br>\n",
        ">$\\sum_{w \\in W} y_{w} <= P $"
      ]
    },
    {
      "cell_type": "code",
      "execution_count": 13,
      "metadata": {
        "id": "KPjUB5OJ3GZ0"
      },
      "outputs": [],
      "source": [
        "# number of warehouses can't be more than what is required\n",
        "def max_warehouses(model):\n",
        "  return(sum(model.y[w] for w in W) <= P)\n",
        "\n",
        "model.max_active_warehouses = Constraint(rule = max_warehouses)"
      ]
    },
    {
      "cell_type": "markdown",
      "metadata": {
        "id": "M0A6rEQaOX_B"
      },
      "source": [
        "### Step7:\n",
        "<b>Create solver & solve model </b><br>"
      ]
    },
    {
      "cell_type": "code",
      "execution_count": 15,
      "metadata": {
        "colab": {
          "base_uri": "https://localhost:8080/"
        },
        "id": "pHW8vwfj3X_P",
        "outputId": "768d2106-362e-478c-e122-d2ebadf47be5"
      },
      "outputs": [
        {
          "output_type": "stream",
          "name": "stdout",
          "text": [
            "# ==========================================================\n",
            "# = Solver Results                                         =\n",
            "# ==========================================================\n",
            "# ----------------------------------------------------------\n",
            "#   Problem Information\n",
            "# ----------------------------------------------------------\n",
            "Problem: \n",
            "- Name: unknown\n",
            "  Lower bound: 1662.0\n",
            "  Upper bound: 1662.0\n",
            "  Number of objectives: 1\n",
            "  Number of constraints: 18\n",
            "  Number of variables: 16\n",
            "  Number of nonzeros: 40\n",
            "  Sense: minimize\n",
            "# ----------------------------------------------------------\n",
            "#   Solver Information\n",
            "# ----------------------------------------------------------\n",
            "Solver: \n",
            "- Status: ok\n",
            "  Termination condition: optimal\n",
            "  Statistics: \n",
            "    Branch and bound: \n",
            "      Number of bounded subproblems: 1\n",
            "      Number of created subproblems: 1\n",
            "  Error rc: 0\n",
            "  Time: 0.019756555557250977\n",
            "# ----------------------------------------------------------\n",
            "#   Solution Information\n",
            "# ----------------------------------------------------------\n",
            "Solution: \n",
            "- number of solutions: 0\n",
            "  number of solutions displayed: 0\n"
          ]
        }
      ],
      "source": [
        "result = SolverFactory('glpk').solve(model)\n",
        "result.write()"
      ]
    },
    {
      "cell_type": "code",
      "execution_count": 16,
      "metadata": {
        "colab": {
          "base_uri": "https://localhost:8080/"
        },
        "id": "0x-RaOIh38Lp",
        "outputId": "c6adb618-f37a-43b7-d48d-5cec4624c43c"
      },
      "outputs": [
        {
          "output_type": "stream",
          "name": "stdout",
          "text": [
            "8 Set Declarations\n",
            "    cust_warehouse_one_index : Size=1, Index=None, Ordered=Insertion\n",
            "        Key  : Dimen : Domain : Size : Members\n",
            "        None :     1 :    Any :    4 : {'Hyd', 'Chennai', 'Bangalore', 'Pune'}\n",
            "    is_active_warehouse_index : Size=1, Index=None, Ordered=True\n",
            "        Key  : Dimen : Domain                                                  : Size : Members\n",
            "        None :     2 : is_active_warehouse_index_0*is_active_warehouse_index_1 :   12 : {('Anantpur', 'Hyd'), ('Anantpur', 'Chennai'), ('Anantpur', 'Bangalore'), ('Anantpur', 'Pune'), ('Mysore', 'Hyd'), ('Mysore', 'Chennai'), ('Mysore', 'Bangalore'), ('Mysore', 'Pune'), ('Vellore', 'Hyd'), ('Vellore', 'Chennai'), ('Vellore', 'Bangalore'), ('Vellore', 'Pune')}\n",
            "    is_active_warehouse_index_0 : Size=1, Index=None, Ordered=Insertion\n",
            "        Key  : Dimen : Domain : Size : Members\n",
            "        None :     1 :    Any :    3 : {'Anantpur', 'Mysore', 'Vellore'}\n",
            "    is_active_warehouse_index_1 : Size=1, Index=None, Ordered=Insertion\n",
            "        Key  : Dimen : Domain : Size : Members\n",
            "        None :     1 :    Any :    4 : {'Hyd', 'Chennai', 'Bangalore', 'Pune'}\n",
            "    x_index : Size=1, Index=None, Ordered=True\n",
            "        Key  : Dimen : Domain              : Size : Members\n",
            "        None :     2 : x_index_0*x_index_1 :   12 : {('Anantpur', 'Hyd'), ('Anantpur', 'Chennai'), ('Anantpur', 'Bangalore'), ('Anantpur', 'Pune'), ('Mysore', 'Hyd'), ('Mysore', 'Chennai'), ('Mysore', 'Bangalore'), ('Mysore', 'Pune'), ('Vellore', 'Hyd'), ('Vellore', 'Chennai'), ('Vellore', 'Bangalore'), ('Vellore', 'Pune')}\n",
            "    x_index_0 : Size=1, Index=None, Ordered=Insertion\n",
            "        Key  : Dimen : Domain : Size : Members\n",
            "        None :     1 :    Any :    3 : {'Anantpur', 'Mysore', 'Vellore'}\n",
            "    x_index_1 : Size=1, Index=None, Ordered=Insertion\n",
            "        Key  : Dimen : Domain : Size : Members\n",
            "        None :     1 :    Any :    4 : {'Hyd', 'Chennai', 'Bangalore', 'Pune'}\n",
            "    y_index : Size=1, Index=None, Ordered=Insertion\n",
            "        Key  : Dimen : Domain : Size : Members\n",
            "        None :     1 :    Any :    3 : {'Anantpur', 'Mysore', 'Vellore'}\n",
            "\n",
            "2 Var Declarations\n",
            "    x : Size=12, Index=x_index\n",
            "        Key                       : Lower : Value : Upper : Fixed : Stale : Domain\n",
            "        ('Anantpur', 'Bangalore') :     0 :   0.0 :     1 : False : False :  Reals\n",
            "          ('Anantpur', 'Chennai') :     0 :   0.0 :     1 : False : False :  Reals\n",
            "              ('Anantpur', 'Hyd') :     0 :   1.0 :     1 : False : False :  Reals\n",
            "             ('Anantpur', 'Pune') :     0 :   1.0 :     1 : False : False :  Reals\n",
            "          ('Mysore', 'Bangalore') :     0 :   0.0 :     1 : False : False :  Reals\n",
            "            ('Mysore', 'Chennai') :     0 :   0.0 :     1 : False : False :  Reals\n",
            "                ('Mysore', 'Hyd') :     0 :   0.0 :     1 : False : False :  Reals\n",
            "               ('Mysore', 'Pune') :     0 :   0.0 :     1 : False : False :  Reals\n",
            "         ('Vellore', 'Bangalore') :     0 :   1.0 :     1 : False : False :  Reals\n",
            "           ('Vellore', 'Chennai') :     0 :   1.0 :     1 : False : False :  Reals\n",
            "               ('Vellore', 'Hyd') :     0 :   0.0 :     1 : False : False :  Reals\n",
            "              ('Vellore', 'Pune') :     0 :   0.0 :     1 : False : False :  Reals\n",
            "    y : Size=3, Index=y_index\n",
            "        Key      : Lower : Value : Upper : Fixed : Stale : Domain\n",
            "        Anantpur :     0 :   1.0 :     1 : False : False : Binary\n",
            "          Mysore :     0 :   0.0 :     1 : False : False : Binary\n",
            "         Vellore :     0 :   1.0 :     1 : False : False : Binary\n",
            "\n",
            "1 Objective Declarations\n",
            "    obj : Size=1, Index=None, Active=True\n",
            "        Key  : Active : Sense    : Expression\n",
            "        None :   True : minimize : 422*x[Anantpur,Hyd] + 482*x[Anantpur,Chennai] + 215*x[Anantpur,Bangalore] + 882*x[Anantpur,Pune] + 797*x[Mysore,Hyd] + 482*x[Mysore,Chennai] + 144*x[Mysore,Bangalore] + 934*x[Mysore,Pune] + 779*x[Vellore,Hyd] + 157*x[Vellore,Chennai] + 201*x[Vellore,Bangalore] + 1138*x[Vellore,Pune]\n",
            "\n",
            "3 Constraint Declarations\n",
            "    cust_warehouse_one : Size=4, Index=cust_warehouse_one_index, Active=True\n",
            "        Key       : Lower : Body                                                               : Upper : Active\n",
            "        Bangalore :   1.0 : x[Anantpur,Bangalore] + x[Mysore,Bangalore] + x[Vellore,Bangalore] :   1.0 :   True\n",
            "          Chennai :   1.0 :       x[Anantpur,Chennai] + x[Mysore,Chennai] + x[Vellore,Chennai] :   1.0 :   True\n",
            "              Hyd :   1.0 :                   x[Anantpur,Hyd] + x[Mysore,Hyd] + x[Vellore,Hyd] :   1.0 :   True\n",
            "             Pune :   1.0 :                x[Anantpur,Pune] + x[Mysore,Pune] + x[Vellore,Pune] :   1.0 :   True\n",
            "    is_active_warehouse : Size=12, Index=is_active_warehouse_index, Active=True\n",
            "        Key                       : Lower : Body                                : Upper : Active\n",
            "        ('Anantpur', 'Bangalore') :  -Inf : x[Anantpur,Bangalore] - y[Anantpur] :   0.0 :   True\n",
            "          ('Anantpur', 'Chennai') :  -Inf :   x[Anantpur,Chennai] - y[Anantpur] :   0.0 :   True\n",
            "              ('Anantpur', 'Hyd') :  -Inf :       x[Anantpur,Hyd] - y[Anantpur] :   0.0 :   True\n",
            "             ('Anantpur', 'Pune') :  -Inf :      x[Anantpur,Pune] - y[Anantpur] :   0.0 :   True\n",
            "          ('Mysore', 'Bangalore') :  -Inf :     x[Mysore,Bangalore] - y[Mysore] :   0.0 :   True\n",
            "            ('Mysore', 'Chennai') :  -Inf :       x[Mysore,Chennai] - y[Mysore] :   0.0 :   True\n",
            "                ('Mysore', 'Hyd') :  -Inf :           x[Mysore,Hyd] - y[Mysore] :   0.0 :   True\n",
            "               ('Mysore', 'Pune') :  -Inf :          x[Mysore,Pune] - y[Mysore] :   0.0 :   True\n",
            "         ('Vellore', 'Bangalore') :  -Inf :   x[Vellore,Bangalore] - y[Vellore] :   0.0 :   True\n",
            "           ('Vellore', 'Chennai') :  -Inf :     x[Vellore,Chennai] - y[Vellore] :   0.0 :   True\n",
            "               ('Vellore', 'Hyd') :  -Inf :         x[Vellore,Hyd] - y[Vellore] :   0.0 :   True\n",
            "              ('Vellore', 'Pune') :  -Inf :        x[Vellore,Pune] - y[Vellore] :   0.0 :   True\n",
            "    max_active_warehouses : Size=1, Index=None, Active=True\n",
            "        Key  : Lower : Body                                 : Upper : Active\n",
            "        None :  -Inf : y[Anantpur] + y[Mysore] + y[Vellore] :   2.0 :   True\n",
            "\n",
            "14 Declarations: x_index_0 x_index_1 x_index x y_index y obj cust_warehouse_one_index cust_warehouse_one is_active_warehouse_index_0 is_active_warehouse_index_1 is_active_warehouse_index is_active_warehouse max_active_warehouses\n"
          ]
        }
      ],
      "source": [
        "model.pprint()"
      ]
    },
    {
      "cell_type": "markdown",
      "metadata": {
        "id": "5RsRON6rOcUa"
      },
      "source": [
        "### Step8:\n",
        "<b>Display Results </b>"
      ]
    },
    {
      "cell_type": "code",
      "execution_count": 17,
      "metadata": {
        "colab": {
          "base_uri": "https://localhost:8080/"
        },
        "id": "-7Q7S7RO3-eB",
        "outputId": "19f6fc52-a255-4141-c2d2-04b212ab8ad9"
      },
      "outputs": [
        {
          "output_type": "stream",
          "name": "stdout",
          "text": [
            "[['Anantpur', 'Hyd', 1.0, 422.0], ['Anantpur', 'Chennai', 0.0, 0.0], ['Anantpur', 'Bangalore', 0.0, 0.0], ['Anantpur', 'Pune', 1.0, 882.0], ['Mysore', 'Hyd', 0.0, 0.0], ['Mysore', 'Chennai', 0.0, 0.0], ['Mysore', 'Bangalore', 0.0, 0.0], ['Mysore', 'Pune', 0.0, 0.0], ['Vellore', 'Hyd', 0.0, 0.0], ['Vellore', 'Chennai', 1.0, 157.0], ['Vellore', 'Bangalore', 1.0, 201.0], ['Vellore', 'Pune', 0.0, 0.0]]\n"
          ]
        }
      ],
      "source": [
        "output = []\n",
        "\n",
        "for w in W:\n",
        "  for c in C:\n",
        "    active = model.x[w,c].value\n",
        "    distance = d[w,c]\n",
        "    output.append([w, c, active, active*distance])\n",
        "\n",
        "print(output)"
      ]
    },
    {
      "cell_type": "code",
      "execution_count": 18,
      "metadata": {
        "colab": {
          "base_uri": "https://localhost:8080/",
          "height": 175
        },
        "id": "yhzjBveJTeAw",
        "outputId": "1090031f-645e-45f1-9d7b-afb2aee57212"
      },
      "outputs": [
        {
          "output_type": "execute_result",
          "data": {
            "text/html": [
              "\n",
              "  <div id=\"df-243cc5ab-9597-44df-ad56-f6eb6707ec9d\">\n",
              "    <div class=\"colab-df-container\">\n",
              "      <div>\n",
              "<style scoped>\n",
              "    .dataframe tbody tr th:only-of-type {\n",
              "        vertical-align: middle;\n",
              "    }\n",
              "\n",
              "    .dataframe tbody tr th {\n",
              "        vertical-align: top;\n",
              "    }\n",
              "\n",
              "    .dataframe thead th {\n",
              "        text-align: right;\n",
              "    }\n",
              "</style>\n",
              "<table border=\"1\" class=\"dataframe\">\n",
              "  <thead>\n",
              "    <tr style=\"text-align: right;\">\n",
              "      <th>Customer</th>\n",
              "      <th>Bangalore</th>\n",
              "      <th>Chennai</th>\n",
              "      <th>Hyd</th>\n",
              "      <th>Pune</th>\n",
              "    </tr>\n",
              "    <tr>\n",
              "      <th>Warehouse</th>\n",
              "      <th></th>\n",
              "      <th></th>\n",
              "      <th></th>\n",
              "      <th></th>\n",
              "    </tr>\n",
              "  </thead>\n",
              "  <tbody>\n",
              "    <tr>\n",
              "      <th>Anantpur</th>\n",
              "      <td>0.0</td>\n",
              "      <td>0.0</td>\n",
              "      <td>1.0</td>\n",
              "      <td>1.0</td>\n",
              "    </tr>\n",
              "    <tr>\n",
              "      <th>Mysore</th>\n",
              "      <td>0.0</td>\n",
              "      <td>0.0</td>\n",
              "      <td>0.0</td>\n",
              "      <td>0.0</td>\n",
              "    </tr>\n",
              "    <tr>\n",
              "      <th>Vellore</th>\n",
              "      <td>1.0</td>\n",
              "      <td>1.0</td>\n",
              "      <td>0.0</td>\n",
              "      <td>0.0</td>\n",
              "    </tr>\n",
              "  </tbody>\n",
              "</table>\n",
              "</div>\n",
              "      <button class=\"colab-df-convert\" onclick=\"convertToInteractive('df-243cc5ab-9597-44df-ad56-f6eb6707ec9d')\"\n",
              "              title=\"Convert this dataframe to an interactive table.\"\n",
              "              style=\"display:none;\">\n",
              "        \n",
              "  <svg xmlns=\"http://www.w3.org/2000/svg\" height=\"24px\"viewBox=\"0 0 24 24\"\n",
              "       width=\"24px\">\n",
              "    <path d=\"M0 0h24v24H0V0z\" fill=\"none\"/>\n",
              "    <path d=\"M18.56 5.44l.94 2.06.94-2.06 2.06-.94-2.06-.94-.94-2.06-.94 2.06-2.06.94zm-11 1L8.5 8.5l.94-2.06 2.06-.94-2.06-.94L8.5 2.5l-.94 2.06-2.06.94zm10 10l.94 2.06.94-2.06 2.06-.94-2.06-.94-.94-2.06-.94 2.06-2.06.94z\"/><path d=\"M17.41 7.96l-1.37-1.37c-.4-.4-.92-.59-1.43-.59-.52 0-1.04.2-1.43.59L10.3 9.45l-7.72 7.72c-.78.78-.78 2.05 0 2.83L4 21.41c.39.39.9.59 1.41.59.51 0 1.02-.2 1.41-.59l7.78-7.78 2.81-2.81c.8-.78.8-2.07 0-2.86zM5.41 20L4 18.59l7.72-7.72 1.47 1.35L5.41 20z\"/>\n",
              "  </svg>\n",
              "      </button>\n",
              "      \n",
              "  <style>\n",
              "    .colab-df-container {\n",
              "      display:flex;\n",
              "      flex-wrap:wrap;\n",
              "      gap: 12px;\n",
              "    }\n",
              "\n",
              "    .colab-df-convert {\n",
              "      background-color: #E8F0FE;\n",
              "      border: none;\n",
              "      border-radius: 50%;\n",
              "      cursor: pointer;\n",
              "      display: none;\n",
              "      fill: #1967D2;\n",
              "      height: 32px;\n",
              "      padding: 0 0 0 0;\n",
              "      width: 32px;\n",
              "    }\n",
              "\n",
              "    .colab-df-convert:hover {\n",
              "      background-color: #E2EBFA;\n",
              "      box-shadow: 0px 1px 2px rgba(60, 64, 67, 0.3), 0px 1px 3px 1px rgba(60, 64, 67, 0.15);\n",
              "      fill: #174EA6;\n",
              "    }\n",
              "\n",
              "    [theme=dark] .colab-df-convert {\n",
              "      background-color: #3B4455;\n",
              "      fill: #D2E3FC;\n",
              "    }\n",
              "\n",
              "    [theme=dark] .colab-df-convert:hover {\n",
              "      background-color: #434B5C;\n",
              "      box-shadow: 0px 1px 3px 1px rgba(0, 0, 0, 0.15);\n",
              "      filter: drop-shadow(0px 1px 2px rgba(0, 0, 0, 0.3));\n",
              "      fill: #FFFFFF;\n",
              "    }\n",
              "  </style>\n",
              "\n",
              "      <script>\n",
              "        const buttonEl =\n",
              "          document.querySelector('#df-243cc5ab-9597-44df-ad56-f6eb6707ec9d button.colab-df-convert');\n",
              "        buttonEl.style.display =\n",
              "          google.colab.kernel.accessAllowed ? 'block' : 'none';\n",
              "\n",
              "        async function convertToInteractive(key) {\n",
              "          const element = document.querySelector('#df-243cc5ab-9597-44df-ad56-f6eb6707ec9d');\n",
              "          const dataTable =\n",
              "            await google.colab.kernel.invokeFunction('convertToInteractive',\n",
              "                                                     [key], {});\n",
              "          if (!dataTable) return;\n",
              "\n",
              "          const docLinkHtml = 'Like what you see? Visit the ' +\n",
              "            '<a target=\"_blank\" href=https://colab.research.google.com/notebooks/data_table.ipynb>data table notebook</a>'\n",
              "            + ' to learn more about interactive tables.';\n",
              "          element.innerHTML = '';\n",
              "          dataTable['output_type'] = 'display_data';\n",
              "          await google.colab.output.renderOutput(dataTable, element);\n",
              "          const docLink = document.createElement('div');\n",
              "          docLink.innerHTML = docLinkHtml;\n",
              "          element.appendChild(docLink);\n",
              "        }\n",
              "      </script>\n",
              "    </div>\n",
              "  </div>\n",
              "  "
            ],
            "text/plain": [
              "Customer   Bangalore  Chennai  Hyd  Pune\n",
              "Warehouse                               \n",
              "Anantpur         0.0      0.0  1.0   1.0\n",
              "Mysore           0.0      0.0  0.0   0.0\n",
              "Vellore          1.0      1.0  0.0   0.0"
            ]
          },
          "metadata": {},
          "execution_count": 18
        }
      ],
      "source": [
        "pd.DataFrame(output, columns = ['Warehouse', 'Customer', 'Is_Active', 'Distance']).pivot(index = 'Warehouse', columns = 'Customer', values = 'Is_Active')"
      ]
    },
    {
      "cell_type": "code",
      "execution_count": 19,
      "metadata": {
        "colab": {
          "base_uri": "https://localhost:8080/",
          "height": 175
        },
        "id": "3BALqYB0Tkfg",
        "outputId": "3a0259c8-c2b4-49a4-cc10-371f51c3d9c2"
      },
      "outputs": [
        {
          "output_type": "execute_result",
          "data": {
            "text/html": [
              "\n",
              "  <div id=\"df-05b9a993-9c86-4540-92da-0711814b2c98\">\n",
              "    <div class=\"colab-df-container\">\n",
              "      <div>\n",
              "<style scoped>\n",
              "    .dataframe tbody tr th:only-of-type {\n",
              "        vertical-align: middle;\n",
              "    }\n",
              "\n",
              "    .dataframe tbody tr th {\n",
              "        vertical-align: top;\n",
              "    }\n",
              "\n",
              "    .dataframe thead th {\n",
              "        text-align: right;\n",
              "    }\n",
              "</style>\n",
              "<table border=\"1\" class=\"dataframe\">\n",
              "  <thead>\n",
              "    <tr style=\"text-align: right;\">\n",
              "      <th>Customer</th>\n",
              "      <th>Bangalore</th>\n",
              "      <th>Chennai</th>\n",
              "      <th>Hyd</th>\n",
              "      <th>Pune</th>\n",
              "    </tr>\n",
              "    <tr>\n",
              "      <th>Warehouse</th>\n",
              "      <th></th>\n",
              "      <th></th>\n",
              "      <th></th>\n",
              "      <th></th>\n",
              "    </tr>\n",
              "  </thead>\n",
              "  <tbody>\n",
              "    <tr>\n",
              "      <th>Anantpur</th>\n",
              "      <td>0.0</td>\n",
              "      <td>0.0</td>\n",
              "      <td>422.0</td>\n",
              "      <td>882.0</td>\n",
              "    </tr>\n",
              "    <tr>\n",
              "      <th>Mysore</th>\n",
              "      <td>0.0</td>\n",
              "      <td>0.0</td>\n",
              "      <td>0.0</td>\n",
              "      <td>0.0</td>\n",
              "    </tr>\n",
              "    <tr>\n",
              "      <th>Vellore</th>\n",
              "      <td>201.0</td>\n",
              "      <td>157.0</td>\n",
              "      <td>0.0</td>\n",
              "      <td>0.0</td>\n",
              "    </tr>\n",
              "  </tbody>\n",
              "</table>\n",
              "</div>\n",
              "      <button class=\"colab-df-convert\" onclick=\"convertToInteractive('df-05b9a993-9c86-4540-92da-0711814b2c98')\"\n",
              "              title=\"Convert this dataframe to an interactive table.\"\n",
              "              style=\"display:none;\">\n",
              "        \n",
              "  <svg xmlns=\"http://www.w3.org/2000/svg\" height=\"24px\"viewBox=\"0 0 24 24\"\n",
              "       width=\"24px\">\n",
              "    <path d=\"M0 0h24v24H0V0z\" fill=\"none\"/>\n",
              "    <path d=\"M18.56 5.44l.94 2.06.94-2.06 2.06-.94-2.06-.94-.94-2.06-.94 2.06-2.06.94zm-11 1L8.5 8.5l.94-2.06 2.06-.94-2.06-.94L8.5 2.5l-.94 2.06-2.06.94zm10 10l.94 2.06.94-2.06 2.06-.94-2.06-.94-.94-2.06-.94 2.06-2.06.94z\"/><path d=\"M17.41 7.96l-1.37-1.37c-.4-.4-.92-.59-1.43-.59-.52 0-1.04.2-1.43.59L10.3 9.45l-7.72 7.72c-.78.78-.78 2.05 0 2.83L4 21.41c.39.39.9.59 1.41.59.51 0 1.02-.2 1.41-.59l7.78-7.78 2.81-2.81c.8-.78.8-2.07 0-2.86zM5.41 20L4 18.59l7.72-7.72 1.47 1.35L5.41 20z\"/>\n",
              "  </svg>\n",
              "      </button>\n",
              "      \n",
              "  <style>\n",
              "    .colab-df-container {\n",
              "      display:flex;\n",
              "      flex-wrap:wrap;\n",
              "      gap: 12px;\n",
              "    }\n",
              "\n",
              "    .colab-df-convert {\n",
              "      background-color: #E8F0FE;\n",
              "      border: none;\n",
              "      border-radius: 50%;\n",
              "      cursor: pointer;\n",
              "      display: none;\n",
              "      fill: #1967D2;\n",
              "      height: 32px;\n",
              "      padding: 0 0 0 0;\n",
              "      width: 32px;\n",
              "    }\n",
              "\n",
              "    .colab-df-convert:hover {\n",
              "      background-color: #E2EBFA;\n",
              "      box-shadow: 0px 1px 2px rgba(60, 64, 67, 0.3), 0px 1px 3px 1px rgba(60, 64, 67, 0.15);\n",
              "      fill: #174EA6;\n",
              "    }\n",
              "\n",
              "    [theme=dark] .colab-df-convert {\n",
              "      background-color: #3B4455;\n",
              "      fill: #D2E3FC;\n",
              "    }\n",
              "\n",
              "    [theme=dark] .colab-df-convert:hover {\n",
              "      background-color: #434B5C;\n",
              "      box-shadow: 0px 1px 3px 1px rgba(0, 0, 0, 0.15);\n",
              "      filter: drop-shadow(0px 1px 2px rgba(0, 0, 0, 0.3));\n",
              "      fill: #FFFFFF;\n",
              "    }\n",
              "  </style>\n",
              "\n",
              "      <script>\n",
              "        const buttonEl =\n",
              "          document.querySelector('#df-05b9a993-9c86-4540-92da-0711814b2c98 button.colab-df-convert');\n",
              "        buttonEl.style.display =\n",
              "          google.colab.kernel.accessAllowed ? 'block' : 'none';\n",
              "\n",
              "        async function convertToInteractive(key) {\n",
              "          const element = document.querySelector('#df-05b9a993-9c86-4540-92da-0711814b2c98');\n",
              "          const dataTable =\n",
              "            await google.colab.kernel.invokeFunction('convertToInteractive',\n",
              "                                                     [key], {});\n",
              "          if (!dataTable) return;\n",
              "\n",
              "          const docLinkHtml = 'Like what you see? Visit the ' +\n",
              "            '<a target=\"_blank\" href=https://colab.research.google.com/notebooks/data_table.ipynb>data table notebook</a>'\n",
              "            + ' to learn more about interactive tables.';\n",
              "          element.innerHTML = '';\n",
              "          dataTable['output_type'] = 'display_data';\n",
              "          await google.colab.output.renderOutput(dataTable, element);\n",
              "          const docLink = document.createElement('div');\n",
              "          docLink.innerHTML = docLinkHtml;\n",
              "          element.appendChild(docLink);\n",
              "        }\n",
              "      </script>\n",
              "    </div>\n",
              "  </div>\n",
              "  "
            ],
            "text/plain": [
              "Customer   Bangalore  Chennai    Hyd   Pune\n",
              "Warehouse                                  \n",
              "Anantpur         0.0      0.0  422.0  882.0\n",
              "Mysore           0.0      0.0    0.0    0.0\n",
              "Vellore        201.0    157.0    0.0    0.0"
            ]
          },
          "metadata": {},
          "execution_count": 19
        }
      ],
      "source": [
        "pd.DataFrame(output, columns = ['Warehouse', 'Customer', 'Is_Active', 'Distance']).pivot(index = 'Warehouse', columns = 'Customer', values = 'Distance')"
      ]
    },
    {
      "cell_type": "code",
      "source": [
        "model.display()"
      ],
      "metadata": {
        "id": "wlOLPSuFBGQW",
        "outputId": "2e24f809-a0f6-4543-956c-be653c0d3d1a",
        "colab": {
          "base_uri": "https://localhost:8080/"
        }
      },
      "execution_count": 20,
      "outputs": [
        {
          "output_type": "stream",
          "name": "stdout",
          "text": [
            "Model unknown\n",
            "\n",
            "  Variables:\n",
            "    x : Size=12, Index=x_index\n",
            "        Key                       : Lower : Value : Upper : Fixed : Stale : Domain\n",
            "        ('Anantpur', 'Bangalore') :     0 :   0.0 :     1 : False : False :  Reals\n",
            "          ('Anantpur', 'Chennai') :     0 :   0.0 :     1 : False : False :  Reals\n",
            "              ('Anantpur', 'Hyd') :     0 :   1.0 :     1 : False : False :  Reals\n",
            "             ('Anantpur', 'Pune') :     0 :   1.0 :     1 : False : False :  Reals\n",
            "          ('Mysore', 'Bangalore') :     0 :   0.0 :     1 : False : False :  Reals\n",
            "            ('Mysore', 'Chennai') :     0 :   0.0 :     1 : False : False :  Reals\n",
            "                ('Mysore', 'Hyd') :     0 :   0.0 :     1 : False : False :  Reals\n",
            "               ('Mysore', 'Pune') :     0 :   0.0 :     1 : False : False :  Reals\n",
            "         ('Vellore', 'Bangalore') :     0 :   1.0 :     1 : False : False :  Reals\n",
            "           ('Vellore', 'Chennai') :     0 :   1.0 :     1 : False : False :  Reals\n",
            "               ('Vellore', 'Hyd') :     0 :   0.0 :     1 : False : False :  Reals\n",
            "              ('Vellore', 'Pune') :     0 :   0.0 :     1 : False : False :  Reals\n",
            "    y : Size=3, Index=y_index\n",
            "        Key      : Lower : Value : Upper : Fixed : Stale : Domain\n",
            "        Anantpur :     0 :   1.0 :     1 : False : False : Binary\n",
            "          Mysore :     0 :   0.0 :     1 : False : False : Binary\n",
            "         Vellore :     0 :   1.0 :     1 : False : False : Binary\n",
            "\n",
            "  Objectives:\n",
            "    obj : Size=1, Index=None, Active=True\n",
            "        Key  : Active : Value\n",
            "        None :   True : 1662.0\n",
            "\n",
            "  Constraints:\n",
            "    cust_warehouse_one : Size=4\n",
            "        Key       : Lower : Body : Upper\n",
            "        Bangalore :   1.0 :  1.0 :   1.0\n",
            "          Chennai :   1.0 :  1.0 :   1.0\n",
            "              Hyd :   1.0 :  1.0 :   1.0\n",
            "             Pune :   1.0 :  1.0 :   1.0\n",
            "    is_active_warehouse : Size=12\n",
            "        Key                       : Lower : Body : Upper\n",
            "        ('Anantpur', 'Bangalore') :  None : -1.0 :   0.0\n",
            "          ('Anantpur', 'Chennai') :  None : -1.0 :   0.0\n",
            "              ('Anantpur', 'Hyd') :  None :  0.0 :   0.0\n",
            "             ('Anantpur', 'Pune') :  None :  0.0 :   0.0\n",
            "          ('Mysore', 'Bangalore') :  None :  0.0 :   0.0\n",
            "            ('Mysore', 'Chennai') :  None :  0.0 :   0.0\n",
            "                ('Mysore', 'Hyd') :  None :  0.0 :   0.0\n",
            "               ('Mysore', 'Pune') :  None :  0.0 :   0.0\n",
            "         ('Vellore', 'Bangalore') :  None :  0.0 :   0.0\n",
            "           ('Vellore', 'Chennai') :  None :  0.0 :   0.0\n",
            "               ('Vellore', 'Hyd') :  None : -1.0 :   0.0\n",
            "              ('Vellore', 'Pune') :  None : -1.0 :   0.0\n",
            "    max_active_warehouses : Size=1\n",
            "        Key  : Lower : Body : Upper\n",
            "        None :  None :  2.0 :   2.0\n"
          ]
        }
      ]
    }
  ],
  "metadata": {
    "colab": {
      "collapsed_sections": [],
      "name": "Model_Warehouse_Location (1).ipynb",
      "provenance": [],
      "include_colab_link": true
    },
    "kernelspec": {
      "display_name": "Python 3",
      "language": "python",
      "name": "python3"
    },
    "language_info": {
      "codemirror_mode": {
        "name": "ipython",
        "version": 3
      },
      "file_extension": ".py",
      "mimetype": "text/x-python",
      "name": "python",
      "nbconvert_exporter": "python",
      "pygments_lexer": "ipython3",
      "version": "3.7.4"
    }
  },
  "nbformat": 4,
  "nbformat_minor": 0
}