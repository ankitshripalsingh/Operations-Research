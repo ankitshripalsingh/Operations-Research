{
 "cells": [
  {
   "cell_type": "markdown",
   "metadata": {
    "id": "3x3HgOA19XsN"
   },
   "source": [
    "# Warehouse Location Problem\n",
    "\n",
    "BBasket is an Indian corporation which operates a chain of membership-only grocery clubs. Currently they have thousands of customers in the following locations: Bangalore, Chennai, Hyderabad and Pune. They want to open two warehouses from the given list of locations available to them : Anantapur, Mysore and Vellore. Following is the distance given between warehouse and the customer city. As an analyst, provide them a solution to have minimum total cost of serving all the customers. A customer location can be served by only 1 active warehouse. The table below shows distances between cities in kilometres.\n",
    "\n",
    "| W / C | Hyderabad | Chennai | Bangalore | Pune |\n",
    "| :---- | :---- | :---- | :---- | :---- |\n",
    "|Anantpur|422|482|215|882|\n",
    "|Mysore|797|482|144|934|\n",
    "|Vellore|779|157|201|1138|\n"
   ]
  },
  {
   "cell_type": "markdown",
   "metadata": {
    "id": "HuiQyycz8Q58"
   },
   "source": [
    "##  Mathematical formulation / Pyomo components\n",
    "\n",
    "---\n",
    "\n",
    "**Sets:** \n",
    "\n",
    "To define the indexes for the given problem <br>\n",
    "- Warehouse location, $w \\in W$\n",
    "- Customer location, $c \\in C$\n",
    "\n",
    "---\n",
    "\n",
    "**Parameters:**\n",
    "\n",
    "- Distance between each pair of warehouse-customer location - $\\text {d}_{w,c}$ <br>\n",
    "- Maximum number of warehouses that can be opened - P\n",
    "\n",
    "---\n",
    "\n",
    "**Decision variables:**\n",
    "\n",
    "\n",
    "- Binary/Boolean variable for warehouse supplying to a customer location <br>\n",
    "\n",
    "> ${x}_{w,c} \\ \\ where \\ \\ 0 \\leq x_{w,c} \\leq 1 \\,\\,\\,\\,\\,\\,\\,\\,\\, \\forall c \\in C, w \\in W $<br>\n",
    "\n",
    "- Binary/Boolean variable for active warehouse location <br>\n",
    "\n",
    "> ${y}_{w} \\ \\ where \\ \\ y_{w} \\in \\{0,1\\} \\,\\,\\,\\,\\,\\,\\,\\,\\, \\forall w \\in W $<br>\n",
    "\n",
    "\n",
    "---\n",
    "\n",
    "\n",
    "**Objective:**\n",
    "\n",
    "To *minimize* the sum of distances between the warehouses and customer locations\n",
    "    \n",
    "\\begin{align}\n",
    "\\textrm {min}\\sum \\limits _{w,c} \\text {d}_{w,c} * \\text {x}_{w,c}\n",
    "\\end{align}\n",
    "\n",
    "---\n",
    "\n",
    "**Constraints:**\n",
    "\n",
    "*   One customer location can be satisfied by only one warehouse <br>\n",
    ">$\\sum_{w \\in W} x_{w,c} = 1 \\,\\,\\,\\,\\,\\,\\,\\,\\, \\forall c \\in C$ <br> \n",
    "\n",
    "*   Customer location can get goods from only active warehouse <br>\n",
    "\n",
    " > $x_{w,c} \\leq y_{w} \\,\\,\\,\\,\\,\\,\\,\\,\\, \\forall c \\in C, w \\in W$ <br>\n",
    "\n",
    "*   Active warehouses should be less than or equal to the required number of warehouses <br>\n",
    ">$\\sum_{w \\in W} y_{w} <= P $\n",
    "\n"
   ]
  },
  {
   "cell_type": "markdown",
   "metadata": {
    "id": "iNKDTGFS8Q5-"
   },
   "source": [
    "### Step1:\n",
    "<b> Import Pyomo Environment </b>"
   ]
  },
  {
   "cell_type": "code",
   "execution_count": null,
   "metadata": {
    "id": "zgI7sh7t0sxw"
   },
   "outputs": [],
   "source": [
    "#Importing Pyomo environment and other required libraries\n",
    "\n",
    "from pyomo.environ import *\n",
    "\n",
    "import pandas as pd"
   ]
  },
  {
   "cell_type": "markdown",
   "metadata": {
    "id": "kDutdmlO8Q5_"
   },
   "source": [
    "### Step2:\n",
    "<b>Specify / import data</b>"
   ]
  },
  {
   "cell_type": "markdown",
   "metadata": {},
   "source": [
    "**Sets:** \n",
    "\n",
    "To define the indexes for the given problem <br>\n",
    "- Warehouse location, $w \\in W$\n",
    "- Customer location, $c \\in C$"
   ]
  },
  {
   "cell_type": "code",
   "execution_count": null,
   "metadata": {
    "id": "ToKaHWAj0aXK"
   },
   "outputs": [],
   "source": [
    "# Indexes - Defining sets/lists containing the indexes for this problem. This is a two index problem - warehouse location \n",
    "# and customer location will be the indexes\n",
    "\n",
    "\n"
   ]
  },
  {
   "cell_type": "markdown",
   "metadata": {},
   "source": [
    "**Parameters:**\n",
    "\n",
    "- Distance between each pair of warehouse-customer location - $\\text {d}_{w,c}$ <br>\n",
    "- Maximum number of warehouses that can be opened - P"
   ]
  },
  {
   "cell_type": "code",
   "execution_count": null,
   "metadata": {
    "id": "9-mw3BgB0qJl"
   },
   "outputs": [],
   "source": [
    "# parameters - distance between each warehouse-customer location\n",
    "\n",
    "# Maximum number of warehouses that are allowed to be open\n"
   ]
  },
  {
   "cell_type": "markdown",
   "metadata": {
    "id": "86aWP66h8Q6C"
   },
   "source": [
    "### Step3:\n",
    "<b> Create Model Object</b> <br>"
   ]
  },
  {
   "cell_type": "code",
   "execution_count": null,
   "metadata": {
    "id": "u0vCxpu68Q6C"
   },
   "outputs": [],
   "source": [
    "# Creating an instance of a Concrete model since we have all the required data before hand\n",
    "\n"
   ]
  },
  {
   "cell_type": "markdown",
   "metadata": {
    "id": "gQFDtNt88Q6D"
   },
   "source": [
    "### Step4 \n",
    "\n",
    "<b>Define Decision Variable</b>:"
   ]
  },
  {
   "cell_type": "markdown",
   "metadata": {},
   "source": [
    "\n",
    "- Binary/Boolean variable for warehouse supplying to a customer location <br>\n",
    "\n",
    "> ${x}_{w,c} \\ \\ where \\ \\ 0 \\leq x_{w,c} \\leq 1 \\,\\,\\,\\,\\,\\,\\,\\,\\, \\forall c \\in C, w \\in W $<br>\n",
    "\n",
    "- Binary/Boolean variable for active warehouse location <br>\n",
    "\n",
    "> ${y}_{w} \\ \\ where \\ \\ y_{w} \\in \\{0,1\\} \\,\\,\\,\\,\\,\\,\\,\\,\\, \\forall w \\in W $<br>"
   ]
  },
  {
   "cell_type": "code",
   "execution_count": null,
   "metadata": {
    "id": "bQp7cOjk8Q6D"
   },
   "outputs": [],
   "source": [
    "#Define variables\n"
   ]
  },
  {
   "cell_type": "markdown",
   "metadata": {
    "id": "kwquPGDJOSow"
   },
   "source": [
    "### Step5:\n",
    "<b>Define Objective</b>\n"
   ]
  },
  {
   "cell_type": "markdown",
   "metadata": {},
   "source": [
    "To *minimize* the sum of distances between the warehouses and customer locations\n",
    "    \n",
    "\\begin{align}\n",
    "\\textrm {min}\\sum \\limits _{w,c} \\text {d}_{w,c} * \\text {x}_{w,c}\n",
    "\\end{align}"
   ]
  },
  {
   "cell_type": "code",
   "execution_count": null,
   "metadata": {
    "id": "dbUkh4jf1bTj"
   },
   "outputs": [],
   "source": [
    "# Minimize the distance between warehouse and customer location\n",
    "\n"
   ]
  },
  {
   "cell_type": "markdown",
   "metadata": {
    "id": "fjCSLLMaOVPX"
   },
   "source": [
    "### Step6:\n",
    "<b>Define Constraints</b>"
   ]
  },
  {
   "cell_type": "markdown",
   "metadata": {},
   "source": [
    "*   One customer location can be satisfied by only one warehouse <br>\n",
    ">$\\sum_{w \\in W} x_{w,c} = 1 \\,\\,\\,\\,\\,\\,\\,\\,\\, \\forall c \\in C$ <br> \n"
   ]
  },
  {
   "cell_type": "code",
   "execution_count": null,
   "metadata": {
    "id": "y5FlFn3P1cHR"
   },
   "outputs": [],
   "source": [
    "# single warehouse per customer\n",
    "\n"
   ]
  },
  {
   "cell_type": "markdown",
   "metadata": {},
   "source": [
    "*   Customer location can get goods from only active warehouse <br>\n",
    "\n",
    " > $x_{w,c} \\leq y_{w} \\,\\,\\,\\,\\,\\,\\,\\,\\, \\forall c \\in C, w \\in W$ <br>\n"
   ]
  },
  {
   "cell_type": "code",
   "execution_count": null,
   "metadata": {
    "id": "98PmavMz23sk"
   },
   "outputs": [],
   "source": [
    "#only active warehouse can serve a customer location\n",
    "\n"
   ]
  },
  {
   "cell_type": "markdown",
   "metadata": {},
   "source": [
    "*   Active warehouses should be less than or equal to the required number of warehouses <br>\n",
    ">$\\sum_{w \\in W} y_{w} <= P $"
   ]
  },
  {
   "cell_type": "code",
   "execution_count": null,
   "metadata": {
    "id": "KPjUB5OJ3GZ0"
   },
   "outputs": [],
   "source": [
    "# number of warehouses can't be more than what is required\n",
    "\n"
   ]
  },
  {
   "cell_type": "markdown",
   "metadata": {
    "id": "M0A6rEQaOX_B"
   },
   "source": [
    "### Step7:\n",
    "<b>Create solver & solve model </b><br>"
   ]
  },
  {
   "cell_type": "code",
   "execution_count": null,
   "metadata": {
    "colab": {
     "base_uri": "https://localhost:8080/"
    },
    "id": "pHW8vwfj3X_P",
    "outputId": "4761fdf2-f68b-4a6b-88da-5d38dfd6bc3c"
   },
   "outputs": [],
   "source": []
  },
  {
   "cell_type": "code",
   "execution_count": null,
   "metadata": {
    "colab": {
     "base_uri": "https://localhost:8080/"
    },
    "id": "0x-RaOIh38Lp",
    "outputId": "b16af023-87f8-4d7f-b24e-686845a67b3c"
   },
   "outputs": [],
   "source": []
  },
  {
   "cell_type": "code",
   "execution_count": null,
   "metadata": {},
   "outputs": [],
   "source": []
  },
  {
   "cell_type": "markdown",
   "metadata": {
    "id": "5RsRON6rOcUa"
   },
   "source": [
    "### Step8:\n",
    "<b>Display Results </b>"
   ]
  },
  {
   "cell_type": "code",
   "execution_count": null,
   "metadata": {
    "colab": {
     "base_uri": "https://localhost:8080/"
    },
    "id": "-7Q7S7RO3-eB",
    "outputId": "3092f767-fe91-43f2-d77d-24aaaad66837"
   },
   "outputs": [],
   "source": []
  },
  {
   "cell_type": "code",
   "execution_count": null,
   "metadata": {
    "colab": {
     "base_uri": "https://localhost:8080/",
     "height": 162
    },
    "id": "yhzjBveJTeAw",
    "outputId": "3af725bd-7f02-4260-8c3f-12bf0fac2fb0"
   },
   "outputs": [],
   "source": []
  },
  {
   "cell_type": "code",
   "execution_count": null,
   "metadata": {
    "colab": {
     "base_uri": "https://localhost:8080/",
     "height": 162
    },
    "id": "3BALqYB0Tkfg",
    "outputId": "6fdd067e-6c9f-4cca-a23e-70d9aa01a888"
   },
   "outputs": [],
   "source": []
  }
 ],
 "metadata": {
  "colab": {
   "collapsed_sections": [],
   "name": "Model_Warehouse_Location (1).ipynb",
   "provenance": []
  },
  "kernelspec": {
   "display_name": "Python 3",
   "language": "python",
   "name": "python3"
  },
  "language_info": {
   "codemirror_mode": {
    "name": "ipython",
    "version": 3
   },
   "file_extension": ".py",
   "mimetype": "text/x-python",
   "name": "python",
   "nbconvert_exporter": "python",
   "pygments_lexer": "ipython3",
   "version": "3.7.4"
  }
 },
 "nbformat": 4,
 "nbformat_minor": 1
}
