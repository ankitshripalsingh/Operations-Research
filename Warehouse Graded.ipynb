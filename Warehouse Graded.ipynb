{
 "cells": [
  {
   "cell_type": "markdown",
   "metadata": {},
   "source": [
    "# Warehouse Problem "
   ]
  },
  {
   "cell_type": "markdown",
   "metadata": {},
   "source": [
    "##  Problem Statement\n",
    "\n",
    "Suppose that you're working as an operations manager at Amazon. You work in a smaller city so a lot of the goods have to be shipped from outside. The city has two docks from where you transfer the goods into three different warehouses located in the city. The cost of transporting 100kgs of goods at once from the two docks to the three different warehouses is shown in the chart below. The chart also shows the capacity of each warehouse.\n",
    "\n",
    "\n",
    "\n",
    "\n"
   ]
  },
  {
   "cell_type": "markdown",
   "metadata": {},
   "source": [
    "![Warehouse_Graded_Image](Warehouse_Graded_Image.png \"Dock-Warehouse\")"
   ]
  },
  {
   "cell_type": "code",
   "execution_count": null,
   "metadata": {},
   "outputs": [],
   "source": [
    "import pandas as pd"
   ]
  },
  {
   "cell_type": "markdown",
   "metadata": {},
   "source": [
    "### Step1:\n",
    "<b> Import Pyomo Enviornment </b>"
   ]
  },
  {
   "cell_type": "code",
   "execution_count": null,
   "metadata": {},
   "outputs": [],
   "source": []
  },
  {
   "cell_type": "markdown",
   "metadata": {},
   "source": [
    "### Step2:\n",
    "<b>Specify / import data</b>"
   ]
  },
  {
   "cell_type": "code",
   "execution_count": null,
   "metadata": {},
   "outputs": [],
   "source": [
    "#List of Docks\n",
    "D = \n",
    "\n",
    "#List of warehouses\n",
    "W = \n",
    "\n",
    "#Parameter - capacity of each warehouse\n",
    "capacity = {' ': , ' ': ,' ':  }\n",
    "\n",
    "#Cost of transporting per 100kg          \n",
    "cost_per_100kg = {(' ',' '): ,(' ',' '): , (' ',' '): ,\\\n",
    "      (' ',' '): ,(' ',' '): , (' ',' '): }\n",
    "\n",
    "#Supply from each dock\n",
    "supply = {' ': ,' ': }\n",
    "\n",
    "#Minimum capacity of each warehouse\n",
    "min_capacity=0.20"
   ]
  },
  {
   "cell_type": "markdown",
   "metadata": {},
   "source": [
    "### Step3:\n",
    "<b> Create Model Object</b>"
   ]
  },
  {
   "cell_type": "code",
   "execution_count": null,
   "metadata": {},
   "outputs": [],
   "source": [
    "model = ConcreteModel()"
   ]
  },
  {
   "cell_type": "markdown",
   "metadata": {},
   "source": [
    "### Step4:\n",
    "<b>Define Decision Variable</b>"
   ]
  },
  {
   "cell_type": "code",
   "execution_count": null,
   "metadata": {},
   "outputs": [],
   "source": [
    "#\n",
    "model.x ="
   ]
  },
  {
   "cell_type": "markdown",
   "metadata": {},
   "source": [
    "### Step5:\n",
    "<b>Define Objective</b>"
   ]
  },
  {
   "cell_type": "code",
   "execution_count": null,
   "metadata": {},
   "outputs": [],
   "source": [
    "#Defining objective rule\n",
    "def obj_rule(___):\n",
    "    return(___)\n"
   ]
  },
  {
   "cell_type": "code",
   "execution_count": null,
   "metadata": {},
   "outputs": [],
   "source": [
    "# Defining the objective function\n",
    "model.value = Objective( , )"
   ]
  },
  {
   "cell_type": "markdown",
   "metadata": {},
   "source": [
    "### Step6:\n",
    "<b>Define Constraints</b>"
   ]
  },
  {
   "cell_type": "code",
   "execution_count": null,
   "metadata": {},
   "outputs": [],
   "source": [
    "#Supply constraint of the docks\n",
    "\n",
    "def dock_supply( ):\n",
    "    return( )\n",
    "                \n",
    "model.supply = Constraint(  )\n",
    "\n",
    "\n",
    "#capacity constraint of the warehouse\n",
    "\n",
    "def warehouse_capacity( ):\n",
    "    return( )\n",
    "        \n",
    "model.capacity = Constraint(  )\n",
    "\n",
    " \n",
    "# warehouse should be filled to at least 20% of its capacity\n",
    "\n",
    "def warehouse_min_load( ):\n",
    "    return( )\n",
    "\n",
    "model.min_load = Constraint( )\n"
   ]
  },
  {
   "cell_type": "markdown",
   "metadata": {},
   "source": [
    "### Step7:\n",
    "<b>Create solver & solve model </b><br>\n",
    "Note: It is important to know if you have created a liner(LP), integer(IP), mixed integer(MIP), non-linear (NLP), or mixed integer non-linear (MINLP) model and choose the most suitable solver accordingly. We have setup glpk for LP, IP and MIP type problems and ipopt for NLP type."
   ]
  },
  {
   "cell_type": "code",
   "execution_count": null,
   "metadata": {},
   "outputs": [],
   "source": [
    "# Invoking the solver\n",
    "result = \n",
    "result.write()"
   ]
  },
  {
   "cell_type": "markdown",
   "metadata": {},
   "source": [
    "### Step8:\n",
    "<b>Display Results </b>"
   ]
  },
  {
   "cell_type": "code",
   "execution_count": null,
   "metadata": {},
   "outputs": [],
   "source": [
    "model.pprint()"
   ]
  }
 ],
 "metadata": {
  "kernelspec": {
   "display_name": "Python 3",
   "language": "python",
   "name": "python3"
  },
  "language_info": {
   "codemirror_mode": {
    "name": "ipython",
    "version": 3
   },
   "file_extension": ".py",
   "mimetype": "text/x-python",
   "name": "python",
   "nbconvert_exporter": "python",
   "pygments_lexer": "ipython3",
   "version": "3.7.4"
  }
 },
 "nbformat": 4,
 "nbformat_minor": 4
}
