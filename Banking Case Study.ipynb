{
 "cells": [
  {
   "cell_type": "markdown",
   "metadata": {
    "id": "JEg86H036fYt"
   },
   "source": [
    "## **Bank marketing**"
   ]
  },
  {
   "cell_type": "markdown",
   "metadata": {
    "id": "DOkak4386fYz"
   },
   "source": [
    "##  Problem Statement\n",
    "\n",
    "You work as a Business Analytics Consultant at the Bank of Corporate. The bank provides financial services/products such as savings accounts, current accounts, debit cards, etc. to its customers. In order to increase its overall revenue, the bank conducts various marketing campaigns for its financial products such as credit cards, term deposits, loans, etc. These campaigns are intended for the bank’s existing customers. However, the marketing campaigns need to be cost-efficient so that the bank not only increases their overall revenues but also the total profit.\n",
    "\n",
    "In 2019, the bank conducted a telemarketing campaign for one of its financial products ‘Term Deposits’ to help foster long-term relationships with the existing customers. The dataset (provided below) contains the information about all the customers who were contacted during this year to open term deposit accounts.\n",
    "\n",
    "\n",
    "What are term deposits?\n",
    "\n",
    "Term deposits, also called fixed deposits, are the cash investments made for a specific time period ranging from 1 month to 5 years for predetermined fixed interest rates. The fixed interest rates offered for term deposits are higher than the regular interest rates for savings accounts. The customers receive the total amount (investment plus the interest) at the end of the maturity period. Also, the money can only be withdrawn at the end of the maturity period. Withdrawing money before that will result in an added penalty associated, and the customer will not receive any interest returns. This kind of investment deposits provides the required funds to the bank for lending money to the corporates or individuals at a higher interest rate than what is paid to the customer.\n",
    "\n",
    "**Business objectives**\n",
    "\n",
    "Your aim is to identify the target customer segments for the term deposits from the pool of the bank’s existing customers.\n",
    "\n",
    "\n",
    "**Optimisation**\n",
    "For its future marketing campaign, the bank has allocated a budget of ₹1,50,000 and has also decided to segment the customers based on their marital status and educational background. Also, notably, the cost incurred by the bank for a one-minute call to any customer is ₹10. Considering all these factors, you, as a consultant, need to provide the analysis to the bank regarding the number of calls to be made to each customer segment ('Customer segment' is explained below) such that the total number of customers opening the term deposit account is maximised.\n",
    "\n",
    "**Customer Segment**\n",
    "\n",
    "In the data set, the customers are segregated based on their marital status and educational background. 'Marital status' and 'educational background' has three categories as follows.\n",
    "\n",
    "| Marital Status | Educational Background |\n",
    "| :---- | :---- |\n",
    "Single|Bachelors\n",
    "Married|Masters\n",
    "Divorced|Doctorate\n",
    "\n",
    "\n",
    "Each combination of marital status and educational background is considered as a customer segment. \n",
    "\n",
    "\n",
    "\n",
    "*Examples:* ‘Single - Bachelors’ is considered as one segment. ‘Single - Masters’ is considered as one segment. Similarly, ‘Married - Masters’ is considered as one segment, ‘Married - Doctorates’ is considered as one segment and so on.\n",
    "\n",
    "\n",
    "\n",
    "*The Conditions of the Bank*:\n",
    "\n",
    "- The bank is concerned about the overall customer diversification. It wants to ensure that it reaches out to all the customer segments. For this, it has provided you with the following information to include in your analysis:\n",
    "\n",
    "    - From each customer segment (‘customer segment’ as explained above), at least 50 customers need to be contacted.\n",
    "\n",
    "    - The total number of calls made to each customer category should meet the minimum number of calls (provided in the data file). \n",
    "    - The total number of conversions for the customer categories should match a minimum number.\n",
    " \n",
    "*Main Objective of the optimisation problem*:\n",
    "\n",
    "Within the conditions given above, you need to estimate the number of calls that have to be made for each customer segment such that the total estimated no of converted calls for the future marketing campaign is maximised.\n"
   ]
  },
  {
   "cell_type": "markdown",
   "metadata": {
    "colab": {
     "base_uri": "https://localhost:8080/"
    },
    "id": "zaMhsBtW6fY0",
    "outputId": "d5c9c069-08dc-46cb-e537-12c09fc9047f"
   },
   "source": [
    "##  Mathematical formulation / Pyomo components\n",
    "\n",
    "---\n",
    "\n",
    "**Sets:** \n",
    "\n",
    "The indexes for the given problem are, <br>\n",
    "- Marital status, $m \\in marital\\_status$\n",
    "- Degree status, $d \\in degree$\n",
    "\n",
    "---\n",
    "\n",
    "**Parameters:** \n",
    "\n",
    "- $\\text{duration_nconverted}_{m,d} \\text{ - Avg. call duration for non-converted calls}$ <br>\n",
    "- $\\text{duration_converted}_{m,d} \\text{ - Avg. call duration for converted calls}$ <br>\n",
    "- $\\text{conv_rate}_{m,d} \\text{ - Conversion rate}$ <br>\n",
    "- $\\text{min_tcalls}_{m | d} \\text{ - Minimum no. of calls by either marital status / degree}$ <br>\n",
    "- $\\text{min_ccalls}_{m | d} \\text{ - Minimum no. of converted calls by either marital status / degree}$ <br>\n",
    "\n",
    "\n",
    "---\n",
    "\n",
    "**Decision variables:**\n",
    "- Total number of  calls (converted + non-converted) to be made for each customer segment <br>\n",
    "\n",
    "> ${total\\_calls}_{m,d} \\,\\,\\,\\,\\,\\,\\, \\text{where} \\ m \\in marital\\_status, d \\in degree $<br>\n",
    "\n",
    "\n",
    "---\n",
    "\n",
    "**Objective:** <br>\n",
    "\n",
    "To maximize conversions for each combination of marital status and degree\n",
    "\n",
    "\n",
    "\n",
    "\\begin{align}\n",
    "\\textrm{max} \\sum \\limits _{m,d} \\text{total_calls}_{m,d}* \\text{conv_rate}_{m,d}\n",
    "\\end{align}\n",
    "where $m \\in marital\\_status$ and $d \\in degree$\n",
    "\n",
    "---\n",
    "\n",
    "**Constraints:**\n",
    "\n",
    "\n",
    "\n",
    "*   At-least 50 customers need to be contacted from each segment\n",
    "\n",
    "\n",
    ">- $\\text{total_calls}_{m,d}\\geq\\text{50}\\ \\ \\ \\ \\forall {d \\in degree, m \\in marital\\_status}$\n",
    "\n",
    "\n",
    "*   Minimum number of total calls for each marital status\n",
    "\n",
    "\n",
    ">- $\\sum \\limits _{d} \\text{total_calls}_{m,d} \\geq\\text{min_tcalls}_{m}$\n",
    "\n",
    "\n",
    "*   Minimum number of total calls for each degree\n",
    "\n",
    "\n",
    ">- $\\sum \\limits _{m} \\text{total_calls}_{m,d} \\geq\\text{min_tcalls}_{d}$\n",
    "\n",
    "\n",
    "*   Minimum number of converted calls for each marital status\n",
    "\n",
    "\n",
    ">- $\\sum \\limits _{d} (\\text{total_calls}_{m,d}* \\text{conv_rate}_{m,d})  \\geq\\text{min_tcalls}_{m}$\n",
    "\n",
    "\n",
    "*   Minimum number of converted calls for each degree\n",
    "\n",
    "\n",
    ">- $\\sum \\limits _{m} (\\text{total_calls}_{m,d}* \\text{conv_rate}_{m,d})  \\geq\\text{min_tcalls}_{d}$\n",
    "\n",
    "\n",
    "*   Budget Constraint\n",
    "\n",
    "\\begin{align}\n",
    "\\sum \\limits _{m,d} \\Bigg[\\text{total_calls}_{m,d}* \\text{conv_rate}_{m,d}* \\frac{\\text{duration_converted}_{m,d}}{60}* \\text{cost_per_min}\\Bigg] & +\\Bigg[\\text{total_calls}_{m,d}* \\text{(1- conv_rate}_{m,d})* \\frac{\\text{duration_nconverted}_{m,d}}{60}* \\text{cost_per_min}\\Bigg]  \\leq\\text{total_budget}\n",
    "\\end{align}\n",
    "\n",
    "----\n"
   ]
  },
  {
   "cell_type": "code",
   "execution_count": null,
   "metadata": {},
   "outputs": [],
   "source": [
    "# Only for colab users\n",
    "# !pip install -q pyomo\n",
    "# !apt-get install -y -qq coinor-cbc\n",
    "# !apt-get install -y -qq glpk-utils"
   ]
  },
  {
   "cell_type": "markdown",
   "metadata": {
    "id": "iNKDTGFS8Q5-"
   },
   "source": [
    "### Step1:\n",
    "<b> Import Pyomo Environment </b>"
   ]
  },
  {
   "cell_type": "code",
   "execution_count": null,
   "metadata": {
    "id": "OypnZUBz6fY0"
   },
   "outputs": [],
   "source": []
  },
  {
   "cell_type": "markdown",
   "metadata": {
    "id": "kDutdmlO8Q5_"
   },
   "source": [
    "### Step2:\n",
    "<b>Specify / import data</b>"
   ]
  },
  {
   "cell_type": "code",
   "execution_count": null,
   "metadata": {
    "id": "SHjYZB4n6fY2"
   },
   "outputs": [],
   "source": [
    "# Reading the data from the Excel workbook - Bank_marketing.xlsx\n",
    "\n",
    "InputData = \"Bank_marketing_input.xlsx\"\n",
    "\n",
    "#Read the data from Campaign_Data sheet\n",
    "data = pd.read_excel(InputData,sheet_name='Campaign_Data')\n",
    "\n",
    "#Read the data from Call criterias sheet\n",
    "criteria = pd.read_excel (InputData,sheet_name='Call criterias')\n",
    "\n",
    "#Total budget for marketing\n",
    "total_budget=150000\n",
    "\n",
    "#cost per 10 mins of a call\n",
    "cost_per_min=10"
   ]
  },
  {
   "cell_type": "code",
   "execution_count": null,
   "metadata": {
    "id": "nzYWvwwS6fY2",
    "outputId": "9a50405d-624b-46d6-ebce-ef46eee1076f"
   },
   "outputs": [],
   "source": [
    "#Printing the dataframe \n"
   ]
  },
  {
   "cell_type": "code",
   "execution_count": null,
   "metadata": {
    "colab": {
     "base_uri": "https://localhost:8080/",
     "height": 220
    },
    "id": "C03lTxT_6fY3",
    "outputId": "6510527f-4d64-44da-b532-d0f367cb953d",
    "scrolled": true
   },
   "outputs": [],
   "source": [
    "#Printing the dataframe \n"
   ]
  },
  {
   "cell_type": "markdown",
   "metadata": {},
   "source": [
    "**Sets:** \n",
    "\n",
    "The indexes for the given problem are, <br>\n",
    "- Marital status, $m \\in marital\\_status$\n",
    "- Degree status, $d \\in degree$"
   ]
  },
  {
   "cell_type": "code",
   "execution_count": null,
   "metadata": {
    "id": "CxDpcF4S6fY3"
   },
   "outputs": [],
   "source": [
    "# Extracting the unique values of marital status and the educational degree which will act as indexes for\n",
    "#the decision variables and the parameters\n",
    "\n"
   ]
  },
  {
   "cell_type": "markdown",
   "metadata": {},
   "source": [
    "**Parameters:** \n",
    "\n",
    "- $\\text{duration_nconverted}_{m,d} \\text{ - Avg. call duration for non-converted calls}$ <br>\n",
    "- $\\text{duration_converted}_{m,d} \\text{ - Avg. call duration for converted calls}$ <br>\n",
    "- $\\text{conv_rate}_{m,d} \\text{ - Conversion rate}$ <br>\n",
    "- $\\text{min_tcalls}_{m | d} \\text{ - Minimum no. of calls by either marital status / degree}$ <br>\n",
    "- $\\text{min_ccalls}_{m | d} \\text{ - Minimum no. of converted calls by either marital status / degree}$ <br>\n"
   ]
  },
  {
   "cell_type": "code",
   "execution_count": null,
   "metadata": {
    "id": "LUmm07Hf6fY3"
   },
   "outputs": [],
   "source": [
    "# Creating the required data structures for the parameters with [Marital status, Degree] as indexes\n",
    "\n",
    "# Duration of calls for the customers not converted\n",
    "\n",
    "\n",
    "# Duration of calls for the customers converted\n",
    "\n",
    "\n",
    "# Conversion rate\n",
    "\n",
    "#Minimum no. of  total calls\n",
    "\n",
    "\n",
    "#Minimum no. of converted calls\n"
   ]
  },
  {
   "cell_type": "markdown",
   "metadata": {
    "id": "86aWP66h8Q6C"
   },
   "source": [
    "### Step3:\n",
    "<b> Create Model Object</b> <br>"
   ]
  },
  {
   "cell_type": "code",
   "execution_count": null,
   "metadata": {
    "id": "pdYzcubf6fY5"
   },
   "outputs": [],
   "source": [
    "#Instantiating a model\n"
   ]
  },
  {
   "cell_type": "markdown",
   "metadata": {
    "id": "gQFDtNt88Q6D"
   },
   "source": [
    "### Step4 \n",
    "\n",
    "<b>Define Decision Variable</b>:"
   ]
  },
  {
   "cell_type": "markdown",
   "metadata": {},
   "source": [
    "- Total number of  calls (converted + non-converted) to be made for each customer segment <br>\n",
    "\n",
    "> ${total\\_calls}_{m,d} \\,\\,\\,\\,\\,\\,\\, \\text{where} \\ m \\in marital\\_status, d \\in degree $<br>\n",
    "\n"
   ]
  },
  {
   "cell_type": "code",
   "execution_count": null,
   "metadata": {
    "id": "8Fj64hrv6fY6"
   },
   "outputs": [],
   "source": [
    "#Total number of  calls\n",
    "\n"
   ]
  },
  {
   "cell_type": "markdown",
   "metadata": {
    "id": "kwquPGDJOSow"
   },
   "source": [
    "### Step5:\n",
    "<b>Define Objective</b>"
   ]
  },
  {
   "cell_type": "markdown",
   "metadata": {},
   "source": [
    "\n",
    "$\\textrm{max} \\sum \\limits _{m,d} \\text{total_calls}_{m,d}* \\text{conv_rate}_{m,d}$\n"
   ]
  },
  {
   "cell_type": "code",
   "execution_count": null,
   "metadata": {
    "id": "nETk-jJF6fY6"
   },
   "outputs": [],
   "source": [
    "# Defining the objective rule\n",
    "\n",
    "\n"
   ]
  },
  {
   "cell_type": "code",
   "execution_count": null,
   "metadata": {
    "id": "3cn2MgO_6fY6"
   },
   "outputs": [],
   "source": [
    "# Maximize the reach i.e, converted calls\n"
   ]
  },
  {
   "cell_type": "markdown",
   "metadata": {
    "id": "fjCSLLMaOVPX"
   },
   "source": [
    "### Step6:\n",
    "<b>Define Constraints</b>\n",
    "\n",
    "*   At-least 50 customers need to be contacted from each segment\n",
    "\n",
    "\n",
    ">- $\\text{total_calls}_{m,d}\\geq\\text{50}\\ \\ \\ \\ \\forall {d \\in degree, m \\in marital\\_status}$\n",
    "\n",
    "\n"
   ]
  },
  {
   "cell_type": "code",
   "execution_count": null,
   "metadata": {
    "id": "wgfVO2YK6fY7"
   },
   "outputs": [],
   "source": [
    "#At least 50 customers need to be contacted from each customer segment.\n",
    "\n",
    "\n"
   ]
  },
  {
   "cell_type": "code",
   "execution_count": null,
   "metadata": {
    "colab": {
     "base_uri": "https://localhost:8080/"
    },
    "id": "bwvnAtyY6fY7",
    "outputId": "64d5eaa8-a90a-4e25-dc2b-5859566b416f"
   },
   "outputs": [],
   "source": [
    "# Print the dictionary of minimum number of total calls to be made for each segment\n"
   ]
  },
  {
   "cell_type": "markdown",
   "metadata": {},
   "source": [
    "*   Minimum number of total calls for each marital status\n",
    "\n",
    "\n",
    ">- $\\sum \\limits _{d} \\text{total_calls}_{m,d} \\geq\\text{min_tcalls}_{m}$\n",
    "\n",
    "\n",
    "*   Minimum number of total calls for each degree\n",
    "\n",
    "\n",
    ">- $\\sum \\limits _{m} \\text{total_calls}_{m,d} \\geq\\text{min_tcalls}_{d}$\n",
    "\n"
   ]
  },
  {
   "cell_type": "code",
   "execution_count": null,
   "metadata": {
    "id": "H0sX_Sv96fY7"
   },
   "outputs": [],
   "source": [
    "#The total number of calls made to each customer segment should meet the minimum number (based on marital status)\n",
    "\n",
    "\n",
    "\n",
    "#The total number of calls made to each customer segment should meet the minimum number (based on the degree)\n",
    "\n",
    "\n"
   ]
  },
  {
   "cell_type": "code",
   "execution_count": null,
   "metadata": {
    "colab": {
     "base_uri": "https://localhost:8080/"
    },
    "id": "DJLuFNPh6fY8",
    "outputId": "bc08b40d-7caa-43fc-ed9c-38c818424da7"
   },
   "outputs": [],
   "source": [
    "# Minimum number of converted calls to be made for each segment\n",
    "\n"
   ]
  },
  {
   "cell_type": "markdown",
   "metadata": {},
   "source": [
    "\n",
    "*   Minimum number of converted calls for each marital status\n",
    "\n",
    "\n",
    ">- $\\sum \\limits _{d} (\\text{total_calls}_{m,d}* \\text{conv_rate}_{m,d})  \\geq\\text{min_tcalls}_{m}$"
   ]
  },
  {
   "cell_type": "code",
   "execution_count": null,
   "metadata": {
    "id": "zuQLOZWY6fY8"
   },
   "outputs": [],
   "source": [
    "#The total number of conversions/converted calls of the customer segments should match a minimum number(based on marital status)\n",
    "\n"
   ]
  },
  {
   "cell_type": "markdown",
   "metadata": {},
   "source": [
    "*   Minimum number of converted calls for each degree\n",
    "\n",
    "\n",
    ">- $\\sum \\limits _{m} (\\text{total_calls}_{m,d}* \\text{conv_rate}_{m,d})  \\geq\\text{min_tcalls}_{d}$\n"
   ]
  },
  {
   "cell_type": "code",
   "execution_count": null,
   "metadata": {},
   "outputs": [],
   "source": [
    "#The total number of conversions/converted calls of the customer segments should match a minimum number (based on degree)\n",
    "\n"
   ]
  },
  {
   "cell_type": "markdown",
   "metadata": {},
   "source": [
    "*   Budget Constraint\n",
    "\n",
    "\\begin{align}\n",
    "\\sum \\limits _{m,d} \\Bigg[\\text{total_calls}_{m,d}* \\text{conv_rate}_{m,d}* \\frac{\\text{duration_converted}_{m,d}}{60}* \\text{cost_per_min}\\Bigg] & +\\Bigg[\\text{total_calls}_{m,d}* \\text{(1- conv_rate}_{m,d})* \\frac{\\text{duration_nconverted}_{m,d}}{60}* \\text{cost_per_min}\\Bigg]  \\leq\\text{total_budget}\n",
    "\\end{align}"
   ]
  },
  {
   "cell_type": "code",
   "execution_count": null,
   "metadata": {
    "id": "RzrTrC_-6fY8"
   },
   "outputs": [],
   "source": [
    "#Budget constraint\n",
    "\n"
   ]
  },
  {
   "cell_type": "markdown",
   "metadata": {
    "id": "M0A6rEQaOX_B"
   },
   "source": [
    "### Step7:\n",
    "<b>Create solver & solve model </b><br>"
   ]
  },
  {
   "cell_type": "code",
   "execution_count": null,
   "metadata": {
    "colab": {
     "base_uri": "https://localhost:8080/"
    },
    "id": "4JtXyV8S6fY9",
    "outputId": "d3eda288-f2ed-4e46-c999-0de844906a62"
   },
   "outputs": [],
   "source": [
    "#Invoking the solver\n"
   ]
  },
  {
   "cell_type": "markdown",
   "metadata": {
    "id": "5RsRON6rOcUa"
   },
   "source": [
    "### Step8:\n",
    "<b>Display Results </b>"
   ]
  },
  {
   "cell_type": "code",
   "execution_count": null,
   "metadata": {
    "colab": {
     "base_uri": "https://localhost:8080/"
    },
    "id": "zzGS5j-96fY9",
    "outputId": "991633ff-d550-4db1-8441-472fdebe1a6b"
   },
   "outputs": [],
   "source": [
    "model.pprint()"
   ]
  },
  {
   "cell_type": "code",
   "execution_count": null,
   "metadata": {
    "colab": {
     "base_uri": "https://localhost:8080/"
    },
    "id": "PHwYDpSx6fY9",
    "outputId": "346f803e-4747-47fd-98ef-ac06204147c1"
   },
   "outputs": [],
   "source": [
    "#Total number of calls to be made\n"
   ]
  },
  {
   "cell_type": "code",
   "execution_count": null,
   "metadata": {
    "colab": {
     "base_uri": "https://localhost:8080/"
    },
    "id": "TdCeMDF06fY-",
    "outputId": "1bc51e0b-f1db-48fb-96f3-2ac0e0efc9f9"
   },
   "outputs": [],
   "source": [
    "# Creating a dataframe for the output data\n",
    "\n",
    "#Creating an empty list\n",
    "\n",
    "\n",
    "# For every iteration, the code below will create a list containing 5 values - marital status, degree, number of calls for each segment\n",
    "#number of converted calls and estimated cost for those calls\n",
    "\n",
    "        \n",
    "        #Number of calls to be made for each segment\n",
    "       \n",
    "        \n",
    "        #converted calls\n",
    "       \n",
    "        \n",
    "        #estimated cost\n",
    "        \n",
    "        \n",
    "\n",
    "\n",
    "\n"
   ]
  },
  {
   "cell_type": "code",
   "execution_count": null,
   "metadata": {
    "id": "lG1DniT76fY-"
   },
   "outputs": [],
   "source": [
    "#Converting a 2D list into a dataframe\n",
    "\n"
   ]
  },
  {
   "cell_type": "code",
   "execution_count": null,
   "metadata": {},
   "outputs": [],
   "source": [
    "# Printing the data frame"
   ]
  }
 ],
 "metadata": {
  "colab": {
   "collapsed_sections": [
    "DOkak4386fYz"
   ],
   "name": "banking_case_study.ipynb",
   "provenance": [],
   "toc_visible": true
  },
  "kernelspec": {
   "display_name": "Python 3",
   "language": "python",
   "name": "python3"
  },
  "language_info": {
   "codemirror_mode": {
    "name": "ipython",
    "version": 3
   },
   "file_extension": ".py",
   "mimetype": "text/x-python",
   "name": "python",
   "nbconvert_exporter": "python",
   "pygments_lexer": "ipython3",
   "version": "3.7.4"
  }
 },
 "nbformat": 4,
 "nbformat_minor": 1
}
