{
  "cells": [
    {
      "cell_type": "markdown",
      "metadata": {
        "id": "view-in-github",
        "colab_type": "text"
      },
      "source": [
        "<a href=\"https://colab.research.google.com/github/ankitshripalsingh/Operations-Research/blob/OR/Banking%20Case%20Study.ipynb\" target=\"_parent\"><img src=\"https://colab.research.google.com/assets/colab-badge.svg\" alt=\"Open In Colab\"/></a>"
      ]
    },
    {
      "cell_type": "markdown",
      "metadata": {
        "id": "JEg86H036fYt"
      },
      "source": [
        "## **Bank marketing**"
      ]
    },
    {
      "cell_type": "markdown",
      "metadata": {
        "id": "DOkak4386fYz"
      },
      "source": [
        "##  Problem Statement\n",
        "\n",
        "You work as a Business Analytics Consultant at the Bank of Corporate. The bank provides financial services/products such as savings accounts, current accounts, debit cards, etc. to its customers. In order to increase its overall revenue, the bank conducts various marketing campaigns for its financial products such as credit cards, term deposits, loans, etc. These campaigns are intended for the bank’s existing customers. However, the marketing campaigns need to be cost-efficient so that the bank not only increases their overall revenues but also the total profit.\n",
        "\n",
        "In 2019, the bank conducted a telemarketing campaign for one of its financial products ‘Term Deposits’ to help foster long-term relationships with the existing customers. The dataset (provided below) contains the information about all the customers who were contacted during this year to open term deposit accounts.\n",
        "\n",
        "\n",
        "What are term deposits?\n",
        "\n",
        "Term deposits, also called fixed deposits, are the cash investments made for a specific time period ranging from 1 month to 5 years for predetermined fixed interest rates. The fixed interest rates offered for term deposits are higher than the regular interest rates for savings accounts. The customers receive the total amount (investment plus the interest) at the end of the maturity period. Also, the money can only be withdrawn at the end of the maturity period. Withdrawing money before that will result in an added penalty associated, and the customer will not receive any interest returns. This kind of investment deposits provides the required funds to the bank for lending money to the corporates or individuals at a higher interest rate than what is paid to the customer.\n",
        "\n",
        "**Business objectives**\n",
        "\n",
        "Your aim is to identify the target customer segments for the term deposits from the pool of the bank’s existing customers.\n",
        "\n",
        "\n",
        "**Optimisation**\n",
        "For its future marketing campaign, the bank has allocated a budget of ₹1,50,000 and has also decided to segment the customers based on their marital status and educational background. Also, notably, the cost incurred by the bank for a one-minute call to any customer is ₹10. Considering all these factors, you, as a consultant, need to provide the analysis to the bank regarding the number of calls to be made to each customer segment ('Customer segment' is explained below) such that the total number of customers opening the term deposit account is maximised.\n",
        "\n",
        "**Customer Segment**\n",
        "\n",
        "In the data set, the customers are segregated based on their marital status and educational background. 'Marital status' and 'educational background' has three categories as follows.\n",
        "\n",
        "| Marital Status | Educational Background |\n",
        "| :---- | :---- |\n",
        "Single|Bachelors\n",
        "Married|Masters\n",
        "Divorced|Doctorate\n",
        "\n",
        "\n",
        "Each combination of marital status and educational background is considered as a customer segment. \n",
        "\n",
        "\n",
        "\n",
        "*Examples:* ‘Single - Bachelors’ is considered as one segment. ‘Single - Masters’ is considered as one segment. Similarly, ‘Married - Masters’ is considered as one segment, ‘Married - Doctorates’ is considered as one segment and so on.\n",
        "\n",
        "\n",
        "\n",
        "*The Conditions of the Bank*:\n",
        "\n",
        "- The bank is concerned about the overall customer diversification. It wants to ensure that it reaches out to all the customer segments. For this, it has provided you with the following information to include in your analysis:\n",
        "\n",
        "    - From each customer segment (‘customer segment’ as explained above), at least 50 customers need to be contacted.\n",
        "\n",
        "    - The total number of calls made to each customer category should meet the minimum number of calls (provided in the data file). \n",
        "    - The total number of conversions for the customer categories should match a minimum number.\n",
        " \n",
        "*Main Objective of the optimisation problem*:\n",
        "\n",
        "Within the conditions given above, you need to estimate the number of calls that have to be made for each customer segment such that the total estimated no of converted calls for the future marketing campaign is maximised.\n"
      ]
    },
    {
      "cell_type": "markdown",
      "metadata": {
        "id": "zaMhsBtW6fY0",
        "outputId": "d5c9c069-08dc-46cb-e537-12c09fc9047f"
      },
      "source": [
        "##  Mathematical formulation / Pyomo components\n",
        "\n",
        "---\n",
        "\n",
        "**Sets:** \n",
        "\n",
        "The indexes for the given problem are, <br>\n",
        "- Marital status, $m \\in marital\\_status$\n",
        "- Degree status, $d \\in degree$\n",
        "\n",
        "---\n",
        "\n",
        "**Parameters:** \n",
        "\n",
        "- $\\text{duration_nconverted}_{m,d} \\text{ - Avg. call duration for non-converted calls}$ <br>\n",
        "- $\\text{duration_converted}_{m,d} \\text{ - Avg. call duration for converted calls}$ <br>\n",
        "- $\\text{conv_rate}_{m,d} \\text{ - Conversion rate}$ <br>\n",
        "- $\\text{min_tcalls}_{m | d} \\text{ - Minimum no. of calls by either marital status / degree}$ <br>\n",
        "- $\\text{min_ccalls}_{m | d} \\text{ - Minimum no. of converted calls by either marital status / degree}$ <br>\n",
        "\n",
        "\n",
        "---\n",
        "\n",
        "**Decision variables:**\n",
        "- Total number of  calls (converted + non-converted) to be made for each customer segment <br>\n",
        "\n",
        "> ${total\\_calls}_{m,d} \\,\\,\\,\\,\\,\\,\\, \\text{where} \\ m \\in marital\\_status, d \\in degree $<br>\n",
        "\n",
        "\n",
        "---\n",
        "\n",
        "**Objective:** <br>\n",
        "\n",
        "To maximize conversions for each combination of marital status and degree\n",
        "\n",
        "\n",
        "\n",
        "\\begin{align}\n",
        "\\textrm{max} \\sum \\limits _{m,d} \\text{total_calls}_{m,d}* \\text{conv_rate}_{m,d}\n",
        "\\end{align}\n",
        "where $m \\in marital\\_status$ and $d \\in degree$\n",
        "\n",
        "---\n",
        "\n",
        "**Constraints:**\n",
        "\n",
        "\n",
        "\n",
        "*   At-least 50 customers need to be contacted from each segment\n",
        "\n",
        "\n",
        ">- $\\text{total_calls}_{m,d}\\geq\\text{50}\\ \\ \\ \\ \\forall {d \\in degree, m \\in marital\\_status}$\n",
        "\n",
        "\n",
        "*   Minimum number of total calls for each marital status\n",
        "\n",
        "\n",
        ">- $\\sum \\limits _{d} \\text{total_calls}_{m,d} \\geq\\text{min_tcalls}_{m}$\n",
        "\n",
        "\n",
        "*   Minimum number of total calls for each degree\n",
        "\n",
        "\n",
        ">- $\\sum \\limits _{m} \\text{total_calls}_{m,d} \\geq\\text{min_tcalls}_{d}$\n",
        "\n",
        "\n",
        "*   Minimum number of converted calls for each marital status\n",
        "\n",
        "\n",
        ">- $\\sum \\limits _{d} (\\text{total_calls}_{m,d}* \\text{conv_rate}_{m,d})  \\geq\\text{min_tcalls}_{m}$\n",
        "\n",
        "\n",
        "*   Minimum number of converted calls for each degree\n",
        "\n",
        "\n",
        ">- $\\sum \\limits _{m} (\\text{total_calls}_{m,d}* \\text{conv_rate}_{m,d})  \\geq\\text{min_tcalls}_{d}$\n",
        "\n",
        "\n",
        "*   Budget Constraint\n",
        "\n",
        "\\begin{align}\n",
        "\\sum \\limits _{m,d} \\Bigg[\\text{total_calls}_{m,d}* \\text{conv_rate}_{m,d}* \\frac{\\text{duration_converted}_{m,d}}{60}* \\text{cost_per_min}\\Bigg] & +\\Bigg[\\text{total_calls}_{m,d}* \\text{(1- conv_rate}_{m,d})* \\frac{\\text{duration_nconverted}_{m,d}}{60}* \\text{cost_per_min}\\Bigg]  \\leq\\text{total_budget}\n",
        "\\end{align}\n",
        "\n",
        "----\n"
      ]
    },
    {
      "cell_type": "code",
      "execution_count": 1,
      "metadata": {
        "id": "vYvy_5K-eLWo",
        "outputId": "3da24ca2-76eb-47f7-bb13-debfeaac62ff",
        "colab": {
          "base_uri": "https://localhost:8080/"
        }
      },
      "outputs": [
        {
          "output_type": "stream",
          "name": "stdout",
          "text": [
            "\u001b[K     |████████████████████████████████| 9.6 MB 5.2 MB/s \n",
            "\u001b[K     |████████████████████████████████| 49 kB 4.7 MB/s \n",
            "\u001b[?25hSelecting previously unselected package coinor-libcoinutils3v5.\n",
            "(Reading database ... 155320 files and directories currently installed.)\n",
            "Preparing to unpack .../0-coinor-libcoinutils3v5_2.10.14+repack1-1_amd64.deb ...\n",
            "Unpacking coinor-libcoinutils3v5 (2.10.14+repack1-1) ...\n",
            "Selecting previously unselected package coinor-libosi1v5.\n",
            "Preparing to unpack .../1-coinor-libosi1v5_0.107.9+repack1-1_amd64.deb ...\n",
            "Unpacking coinor-libosi1v5 (0.107.9+repack1-1) ...\n",
            "Selecting previously unselected package coinor-libclp1.\n",
            "Preparing to unpack .../2-coinor-libclp1_1.16.11+repack1-1_amd64.deb ...\n",
            "Unpacking coinor-libclp1 (1.16.11+repack1-1) ...\n",
            "Selecting previously unselected package coinor-libcgl1.\n",
            "Preparing to unpack .../3-coinor-libcgl1_0.59.10+repack1-1_amd64.deb ...\n",
            "Unpacking coinor-libcgl1 (0.59.10+repack1-1) ...\n",
            "Selecting previously unselected package coinor-libcbc3.\n",
            "Preparing to unpack .../4-coinor-libcbc3_2.9.9+repack1-1_amd64.deb ...\n",
            "Unpacking coinor-libcbc3 (2.9.9+repack1-1) ...\n",
            "Selecting previously unselected package coinor-cbc.\n",
            "Preparing to unpack .../5-coinor-cbc_2.9.9+repack1-1_amd64.deb ...\n",
            "Unpacking coinor-cbc (2.9.9+repack1-1) ...\n",
            "Setting up coinor-libcoinutils3v5 (2.10.14+repack1-1) ...\n",
            "Setting up coinor-libosi1v5 (0.107.9+repack1-1) ...\n",
            "Setting up coinor-libclp1 (1.16.11+repack1-1) ...\n",
            "Setting up coinor-libcgl1 (0.59.10+repack1-1) ...\n",
            "Setting up coinor-libcbc3 (2.9.9+repack1-1) ...\n",
            "Setting up coinor-cbc (2.9.9+repack1-1) ...\n",
            "Processing triggers for man-db (2.8.3-2ubuntu0.1) ...\n",
            "Processing triggers for libc-bin (2.27-3ubuntu1.3) ...\n",
            "/sbin/ldconfig.real: /usr/local/lib/python3.7/dist-packages/ideep4py/lib/libmkldnn.so.0 is not a symbolic link\n",
            "\n",
            "Selecting previously unselected package libsuitesparseconfig5:amd64.\n",
            "(Reading database ... 155365 files and directories currently installed.)\n",
            "Preparing to unpack .../libsuitesparseconfig5_1%3a5.1.2-2_amd64.deb ...\n",
            "Unpacking libsuitesparseconfig5:amd64 (1:5.1.2-2) ...\n",
            "Selecting previously unselected package libamd2:amd64.\n",
            "Preparing to unpack .../libamd2_1%3a5.1.2-2_amd64.deb ...\n",
            "Unpacking libamd2:amd64 (1:5.1.2-2) ...\n",
            "Selecting previously unselected package libcolamd2:amd64.\n",
            "Preparing to unpack .../libcolamd2_1%3a5.1.2-2_amd64.deb ...\n",
            "Unpacking libcolamd2:amd64 (1:5.1.2-2) ...\n",
            "Selecting previously unselected package libglpk40:amd64.\n",
            "Preparing to unpack .../libglpk40_4.65-1_amd64.deb ...\n",
            "Unpacking libglpk40:amd64 (4.65-1) ...\n",
            "Selecting previously unselected package glpk-utils.\n",
            "Preparing to unpack .../glpk-utils_4.65-1_amd64.deb ...\n",
            "Unpacking glpk-utils (4.65-1) ...\n",
            "Setting up libsuitesparseconfig5:amd64 (1:5.1.2-2) ...\n",
            "Setting up libcolamd2:amd64 (1:5.1.2-2) ...\n",
            "Setting up libamd2:amd64 (1:5.1.2-2) ...\n",
            "Setting up libglpk40:amd64 (4.65-1) ...\n",
            "Setting up glpk-utils (4.65-1) ...\n",
            "Processing triggers for libc-bin (2.27-3ubuntu1.3) ...\n",
            "/sbin/ldconfig.real: /usr/local/lib/python3.7/dist-packages/ideep4py/lib/libmkldnn.so.0 is not a symbolic link\n",
            "\n",
            "Processing triggers for man-db (2.8.3-2ubuntu0.1) ...\n"
          ]
        }
      ],
      "source": [
        "# Only for colab users\n",
        "!pip install -q pyomo\n",
        "!apt-get install -y -qq coinor-cbc\n",
        "!apt-get install -y -qq glpk-utils"
      ]
    },
    {
      "cell_type": "markdown",
      "metadata": {
        "id": "iNKDTGFS8Q5-"
      },
      "source": [
        "### Step1:\n",
        "<b> Import Pyomo Environment </b>"
      ]
    },
    {
      "cell_type": "code",
      "execution_count": 4,
      "metadata": {
        "id": "OypnZUBz6fY0"
      },
      "outputs": [],
      "source": [
        "from pyomo.environ import *\n",
        "import pandas as pd"
      ]
    },
    {
      "cell_type": "markdown",
      "metadata": {
        "id": "kDutdmlO8Q5_"
      },
      "source": [
        "### Step2:\n",
        "<b>Specify / import data</b>"
      ]
    },
    {
      "cell_type": "code",
      "execution_count": 9,
      "metadata": {
        "id": "SHjYZB4n6fY2"
      },
      "outputs": [],
      "source": [
        "# Reading the data from the Excel workbook - Bank_marketing.xlsx\n",
        "InputData = \"https://github.com/ankitshripalsingh/Operations-Research/raw/OR/Bank_marketing_input.xlsx\"\n",
        "\n",
        "#Read the data from Campaign_Data sheet\n",
        "data = pd.read_excel(InputData, sheet_name='Campaign_Data')\n",
        "\n",
        "#Read the data from Call criterias sheet\n",
        "criteria = pd.read_excel (InputData, sheet_name='Call criterias')\n",
        "\n",
        "#Total budget for marketing\n",
        "total_budget=150000\n",
        "\n",
        "#cost per 10 mins of a call\n",
        "cost_per_min=10"
      ]
    },
    {
      "cell_type": "code",
      "execution_count": 10,
      "metadata": {
        "id": "nzYWvwwS6fY2",
        "outputId": "6273ccbe-edc4-4bff-cc7a-bd16c10fdd2f",
        "colab": {
          "base_uri": "https://localhost:8080/",
          "height": 331
        }
      },
      "outputs": [
        {
          "output_type": "execute_result",
          "data": {
            "text/html": [
              "\n",
              "  <div id=\"df-90900198-110c-4a9c-81a0-5a695f8a53f4\">\n",
              "    <div class=\"colab-df-container\">\n",
              "      <div>\n",
              "<style scoped>\n",
              "    .dataframe tbody tr th:only-of-type {\n",
              "        vertical-align: middle;\n",
              "    }\n",
              "\n",
              "    .dataframe tbody tr th {\n",
              "        vertical-align: top;\n",
              "    }\n",
              "\n",
              "    .dataframe thead th {\n",
              "        text-align: right;\n",
              "    }\n",
              "</style>\n",
              "<table border=\"1\" class=\"dataframe\">\n",
              "  <thead>\n",
              "    <tr style=\"text-align: right;\">\n",
              "      <th></th>\n",
              "      <th>Marital Status</th>\n",
              "      <th>Degree</th>\n",
              "      <th>Avg. Call Duration (Not Converted)</th>\n",
              "      <th>Avg. Call Duration (Converted)</th>\n",
              "      <th>Conversion Rate</th>\n",
              "    </tr>\n",
              "  </thead>\n",
              "  <tbody>\n",
              "    <tr>\n",
              "      <th>0</th>\n",
              "      <td>Married</td>\n",
              "      <td>Bachelors</td>\n",
              "      <td>220.73</td>\n",
              "      <td>626.00</td>\n",
              "      <td>0.0755</td>\n",
              "    </tr>\n",
              "    <tr>\n",
              "      <th>1</th>\n",
              "      <td>Married</td>\n",
              "      <td>Masters</td>\n",
              "      <td>217.85</td>\n",
              "      <td>565.00</td>\n",
              "      <td>0.0929</td>\n",
              "    </tr>\n",
              "    <tr>\n",
              "      <th>2</th>\n",
              "      <td>Married</td>\n",
              "      <td>Doctorates</td>\n",
              "      <td>222.91</td>\n",
              "      <td>485.00</td>\n",
              "      <td>0.1278</td>\n",
              "    </tr>\n",
              "    <tr>\n",
              "      <th>3</th>\n",
              "      <td>Single</td>\n",
              "      <td>Bachelors</td>\n",
              "      <td>217.49</td>\n",
              "      <td>708.03</td>\n",
              "      <td>0.1062</td>\n",
              "    </tr>\n",
              "    <tr>\n",
              "      <th>4</th>\n",
              "      <td>Single</td>\n",
              "      <td>Masters</td>\n",
              "      <td>216.28</td>\n",
              "      <td>544.57</td>\n",
              "      <td>0.1271</td>\n",
              "    </tr>\n",
              "    <tr>\n",
              "      <th>5</th>\n",
              "      <td>Single</td>\n",
              "      <td>Doctorates</td>\n",
              "      <td>226.55</td>\n",
              "      <td>494.00</td>\n",
              "      <td>0.1812</td>\n",
              "    </tr>\n",
              "    <tr>\n",
              "      <th>6</th>\n",
              "      <td>Divorced</td>\n",
              "      <td>Bachelors</td>\n",
              "      <td>222.65</td>\n",
              "      <td>589.86</td>\n",
              "      <td>0.1367</td>\n",
              "    </tr>\n",
              "    <tr>\n",
              "      <th>7</th>\n",
              "      <td>Divorced</td>\n",
              "      <td>Masters</td>\n",
              "      <td>213.91</td>\n",
              "      <td>607.00</td>\n",
              "      <td>0.1030</td>\n",
              "    </tr>\n",
              "    <tr>\n",
              "      <th>8</th>\n",
              "      <td>Divorced</td>\n",
              "      <td>Doctorates</td>\n",
              "      <td>218.11</td>\n",
              "      <td>567.00</td>\n",
              "      <td>0.1383</td>\n",
              "    </tr>\n",
              "  </tbody>\n",
              "</table>\n",
              "</div>\n",
              "      <button class=\"colab-df-convert\" onclick=\"convertToInteractive('df-90900198-110c-4a9c-81a0-5a695f8a53f4')\"\n",
              "              title=\"Convert this dataframe to an interactive table.\"\n",
              "              style=\"display:none;\">\n",
              "        \n",
              "  <svg xmlns=\"http://www.w3.org/2000/svg\" height=\"24px\"viewBox=\"0 0 24 24\"\n",
              "       width=\"24px\">\n",
              "    <path d=\"M0 0h24v24H0V0z\" fill=\"none\"/>\n",
              "    <path d=\"M18.56 5.44l.94 2.06.94-2.06 2.06-.94-2.06-.94-.94-2.06-.94 2.06-2.06.94zm-11 1L8.5 8.5l.94-2.06 2.06-.94-2.06-.94L8.5 2.5l-.94 2.06-2.06.94zm10 10l.94 2.06.94-2.06 2.06-.94-2.06-.94-.94-2.06-.94 2.06-2.06.94z\"/><path d=\"M17.41 7.96l-1.37-1.37c-.4-.4-.92-.59-1.43-.59-.52 0-1.04.2-1.43.59L10.3 9.45l-7.72 7.72c-.78.78-.78 2.05 0 2.83L4 21.41c.39.39.9.59 1.41.59.51 0 1.02-.2 1.41-.59l7.78-7.78 2.81-2.81c.8-.78.8-2.07 0-2.86zM5.41 20L4 18.59l7.72-7.72 1.47 1.35L5.41 20z\"/>\n",
              "  </svg>\n",
              "      </button>\n",
              "      \n",
              "  <style>\n",
              "    .colab-df-container {\n",
              "      display:flex;\n",
              "      flex-wrap:wrap;\n",
              "      gap: 12px;\n",
              "    }\n",
              "\n",
              "    .colab-df-convert {\n",
              "      background-color: #E8F0FE;\n",
              "      border: none;\n",
              "      border-radius: 50%;\n",
              "      cursor: pointer;\n",
              "      display: none;\n",
              "      fill: #1967D2;\n",
              "      height: 32px;\n",
              "      padding: 0 0 0 0;\n",
              "      width: 32px;\n",
              "    }\n",
              "\n",
              "    .colab-df-convert:hover {\n",
              "      background-color: #E2EBFA;\n",
              "      box-shadow: 0px 1px 2px rgba(60, 64, 67, 0.3), 0px 1px 3px 1px rgba(60, 64, 67, 0.15);\n",
              "      fill: #174EA6;\n",
              "    }\n",
              "\n",
              "    [theme=dark] .colab-df-convert {\n",
              "      background-color: #3B4455;\n",
              "      fill: #D2E3FC;\n",
              "    }\n",
              "\n",
              "    [theme=dark] .colab-df-convert:hover {\n",
              "      background-color: #434B5C;\n",
              "      box-shadow: 0px 1px 3px 1px rgba(0, 0, 0, 0.15);\n",
              "      filter: drop-shadow(0px 1px 2px rgba(0, 0, 0, 0.3));\n",
              "      fill: #FFFFFF;\n",
              "    }\n",
              "  </style>\n",
              "\n",
              "      <script>\n",
              "        const buttonEl =\n",
              "          document.querySelector('#df-90900198-110c-4a9c-81a0-5a695f8a53f4 button.colab-df-convert');\n",
              "        buttonEl.style.display =\n",
              "          google.colab.kernel.accessAllowed ? 'block' : 'none';\n",
              "\n",
              "        async function convertToInteractive(key) {\n",
              "          const element = document.querySelector('#df-90900198-110c-4a9c-81a0-5a695f8a53f4');\n",
              "          const dataTable =\n",
              "            await google.colab.kernel.invokeFunction('convertToInteractive',\n",
              "                                                     [key], {});\n",
              "          if (!dataTable) return;\n",
              "\n",
              "          const docLinkHtml = 'Like what you see? Visit the ' +\n",
              "            '<a target=\"_blank\" href=https://colab.research.google.com/notebooks/data_table.ipynb>data table notebook</a>'\n",
              "            + ' to learn more about interactive tables.';\n",
              "          element.innerHTML = '';\n",
              "          dataTable['output_type'] = 'display_data';\n",
              "          await google.colab.output.renderOutput(dataTable, element);\n",
              "          const docLink = document.createElement('div');\n",
              "          docLink.innerHTML = docLinkHtml;\n",
              "          element.appendChild(docLink);\n",
              "        }\n",
              "      </script>\n",
              "    </div>\n",
              "  </div>\n",
              "  "
            ],
            "text/plain": [
              "  Marital Status      Degree  ...  Avg. Call Duration (Converted)  Conversion Rate\n",
              "0        Married   Bachelors  ...                          626.00           0.0755\n",
              "1        Married     Masters  ...                          565.00           0.0929\n",
              "2        Married  Doctorates  ...                          485.00           0.1278\n",
              "3         Single   Bachelors  ...                          708.03           0.1062\n",
              "4         Single     Masters  ...                          544.57           0.1271\n",
              "5         Single  Doctorates  ...                          494.00           0.1812\n",
              "6       Divorced   Bachelors  ...                          589.86           0.1367\n",
              "7       Divorced     Masters  ...                          607.00           0.1030\n",
              "8       Divorced  Doctorates  ...                          567.00           0.1383\n",
              "\n",
              "[9 rows x 5 columns]"
            ]
          },
          "metadata": {},
          "execution_count": 10
        }
      ],
      "source": [
        "#Printing the dataframe \n",
        "data"
      ]
    },
    {
      "cell_type": "code",
      "execution_count": 11,
      "metadata": {
        "colab": {
          "base_uri": "https://localhost:8080/",
          "height": 237
        },
        "id": "C03lTxT_6fY3",
        "outputId": "4c5824b9-8d4a-429b-e65f-035284d918e7",
        "scrolled": true
      },
      "outputs": [
        {
          "output_type": "execute_result",
          "data": {
            "text/html": [
              "\n",
              "  <div id=\"df-aeff8c19-5b40-45e5-a7cd-1824cf8a2775\">\n",
              "    <div class=\"colab-df-container\">\n",
              "      <div>\n",
              "<style scoped>\n",
              "    .dataframe tbody tr th:only-of-type {\n",
              "        vertical-align: middle;\n",
              "    }\n",
              "\n",
              "    .dataframe tbody tr th {\n",
              "        vertical-align: top;\n",
              "    }\n",
              "\n",
              "    .dataframe thead th {\n",
              "        text-align: right;\n",
              "    }\n",
              "</style>\n",
              "<table border=\"1\" class=\"dataframe\">\n",
              "  <thead>\n",
              "    <tr style=\"text-align: right;\">\n",
              "      <th></th>\n",
              "      <th>Customer Segment</th>\n",
              "      <th>Minimum conversion</th>\n",
              "      <th>Minimum number of calls</th>\n",
              "    </tr>\n",
              "  </thead>\n",
              "  <tbody>\n",
              "    <tr>\n",
              "      <th>0</th>\n",
              "      <td>Bachelors</td>\n",
              "      <td>120</td>\n",
              "      <td>400</td>\n",
              "    </tr>\n",
              "    <tr>\n",
              "      <th>1</th>\n",
              "      <td>Masters</td>\n",
              "      <td>120</td>\n",
              "      <td>500</td>\n",
              "    </tr>\n",
              "    <tr>\n",
              "      <th>2</th>\n",
              "      <td>Doctorates</td>\n",
              "      <td>120</td>\n",
              "      <td>600</td>\n",
              "    </tr>\n",
              "    <tr>\n",
              "      <th>3</th>\n",
              "      <td>Married</td>\n",
              "      <td>150</td>\n",
              "      <td>600</td>\n",
              "    </tr>\n",
              "    <tr>\n",
              "      <th>4</th>\n",
              "      <td>Single</td>\n",
              "      <td>150</td>\n",
              "      <td>300</td>\n",
              "    </tr>\n",
              "    <tr>\n",
              "      <th>5</th>\n",
              "      <td>Divorced</td>\n",
              "      <td>100</td>\n",
              "      <td>350</td>\n",
              "    </tr>\n",
              "  </tbody>\n",
              "</table>\n",
              "</div>\n",
              "      <button class=\"colab-df-convert\" onclick=\"convertToInteractive('df-aeff8c19-5b40-45e5-a7cd-1824cf8a2775')\"\n",
              "              title=\"Convert this dataframe to an interactive table.\"\n",
              "              style=\"display:none;\">\n",
              "        \n",
              "  <svg xmlns=\"http://www.w3.org/2000/svg\" height=\"24px\"viewBox=\"0 0 24 24\"\n",
              "       width=\"24px\">\n",
              "    <path d=\"M0 0h24v24H0V0z\" fill=\"none\"/>\n",
              "    <path d=\"M18.56 5.44l.94 2.06.94-2.06 2.06-.94-2.06-.94-.94-2.06-.94 2.06-2.06.94zm-11 1L8.5 8.5l.94-2.06 2.06-.94-2.06-.94L8.5 2.5l-.94 2.06-2.06.94zm10 10l.94 2.06.94-2.06 2.06-.94-2.06-.94-.94-2.06-.94 2.06-2.06.94z\"/><path d=\"M17.41 7.96l-1.37-1.37c-.4-.4-.92-.59-1.43-.59-.52 0-1.04.2-1.43.59L10.3 9.45l-7.72 7.72c-.78.78-.78 2.05 0 2.83L4 21.41c.39.39.9.59 1.41.59.51 0 1.02-.2 1.41-.59l7.78-7.78 2.81-2.81c.8-.78.8-2.07 0-2.86zM5.41 20L4 18.59l7.72-7.72 1.47 1.35L5.41 20z\"/>\n",
              "  </svg>\n",
              "      </button>\n",
              "      \n",
              "  <style>\n",
              "    .colab-df-container {\n",
              "      display:flex;\n",
              "      flex-wrap:wrap;\n",
              "      gap: 12px;\n",
              "    }\n",
              "\n",
              "    .colab-df-convert {\n",
              "      background-color: #E8F0FE;\n",
              "      border: none;\n",
              "      border-radius: 50%;\n",
              "      cursor: pointer;\n",
              "      display: none;\n",
              "      fill: #1967D2;\n",
              "      height: 32px;\n",
              "      padding: 0 0 0 0;\n",
              "      width: 32px;\n",
              "    }\n",
              "\n",
              "    .colab-df-convert:hover {\n",
              "      background-color: #E2EBFA;\n",
              "      box-shadow: 0px 1px 2px rgba(60, 64, 67, 0.3), 0px 1px 3px 1px rgba(60, 64, 67, 0.15);\n",
              "      fill: #174EA6;\n",
              "    }\n",
              "\n",
              "    [theme=dark] .colab-df-convert {\n",
              "      background-color: #3B4455;\n",
              "      fill: #D2E3FC;\n",
              "    }\n",
              "\n",
              "    [theme=dark] .colab-df-convert:hover {\n",
              "      background-color: #434B5C;\n",
              "      box-shadow: 0px 1px 3px 1px rgba(0, 0, 0, 0.15);\n",
              "      filter: drop-shadow(0px 1px 2px rgba(0, 0, 0, 0.3));\n",
              "      fill: #FFFFFF;\n",
              "    }\n",
              "  </style>\n",
              "\n",
              "      <script>\n",
              "        const buttonEl =\n",
              "          document.querySelector('#df-aeff8c19-5b40-45e5-a7cd-1824cf8a2775 button.colab-df-convert');\n",
              "        buttonEl.style.display =\n",
              "          google.colab.kernel.accessAllowed ? 'block' : 'none';\n",
              "\n",
              "        async function convertToInteractive(key) {\n",
              "          const element = document.querySelector('#df-aeff8c19-5b40-45e5-a7cd-1824cf8a2775');\n",
              "          const dataTable =\n",
              "            await google.colab.kernel.invokeFunction('convertToInteractive',\n",
              "                                                     [key], {});\n",
              "          if (!dataTable) return;\n",
              "\n",
              "          const docLinkHtml = 'Like what you see? Visit the ' +\n",
              "            '<a target=\"_blank\" href=https://colab.research.google.com/notebooks/data_table.ipynb>data table notebook</a>'\n",
              "            + ' to learn more about interactive tables.';\n",
              "          element.innerHTML = '';\n",
              "          dataTable['output_type'] = 'display_data';\n",
              "          await google.colab.output.renderOutput(dataTable, element);\n",
              "          const docLink = document.createElement('div');\n",
              "          docLink.innerHTML = docLinkHtml;\n",
              "          element.appendChild(docLink);\n",
              "        }\n",
              "      </script>\n",
              "    </div>\n",
              "  </div>\n",
              "  "
            ],
            "text/plain": [
              "  Customer Segment  Minimum conversion  Minimum number of calls\n",
              "0        Bachelors                 120                      400\n",
              "1          Masters                 120                      500\n",
              "2       Doctorates                 120                      600\n",
              "3          Married                 150                      600\n",
              "4           Single                 150                      300\n",
              "5         Divorced                 100                      350"
            ]
          },
          "metadata": {},
          "execution_count": 11
        }
      ],
      "source": [
        "#Printing the dataframe \n",
        "criteria"
      ]
    },
    {
      "cell_type": "markdown",
      "metadata": {
        "id": "nQcogVqfeLWs"
      },
      "source": [
        "**Sets:** \n",
        "\n",
        "The indexes for the given problem are, <br>\n",
        "- Marital status, $m \\in marital\\_status$\n",
        "- Degree status, $d \\in degree$"
      ]
    },
    {
      "cell_type": "code",
      "execution_count": 13,
      "metadata": {
        "id": "CxDpcF4S6fY3",
        "outputId": "82f96096-5078-49e7-c55a-e21d54598b49",
        "colab": {
          "base_uri": "https://localhost:8080/"
        }
      },
      "outputs": [
        {
          "output_type": "stream",
          "name": "stdout",
          "text": [
            "['Married' 'Single' 'Divorced'] ['Bachelors' 'Masters' 'Doctorates']\n"
          ]
        }
      ],
      "source": [
        "# Extracting the unique values of marital status and the educational degree which will act as indexes for\n",
        "# the decision variables and the parameters\n",
        "M_status = data['Marital Status'].unique()\n",
        "Degree = data['Degree'].unique()\n",
        "print(M_status, Degree)"
      ]
    },
    {
      "cell_type": "markdown",
      "metadata": {
        "id": "BiPH1O78eLWs"
      },
      "source": [
        "**Parameters:** \n",
        "\n",
        "- $\\text{duration_nconverted}_{m,d} \\text{ - Avg. call duration for non-converted calls}$ <br>\n",
        "- $\\text{duration_converted}_{m,d} \\text{ - Avg. call duration for converted calls}$ <br>\n",
        "- $\\text{conv_rate}_{m,d} \\text{ - Conversion rate}$ <br>\n",
        "- $\\text{min_tcalls}_{m | d} \\text{ - Minimum no. of calls by either marital status / degree}$ <br>\n",
        "- $\\text{min_ccalls}_{m | d} \\text{ - Minimum no. of converted calls by either marital status / degree}$ <br>\n"
      ]
    },
    {
      "cell_type": "code",
      "execution_count": 16,
      "metadata": {
        "id": "LUmm07Hf6fY3"
      },
      "outputs": [],
      "source": [
        "# Creating the required data structures for the parameters with [Marital status, Degree] as indexes\n",
        "\n",
        "# Duration of calls for the customers not converted\n",
        "duration_nconverted = data.set_index(['Marital Status', 'Degree'])['Avg. Call Duration (Not Converted)'].to_dict()\n",
        "\n",
        "# Duration of calls for the customers converted\n",
        "duration_converted = data.set_index(['Marital Status', 'Degree'])['Avg. Call Duration (Converted)'].to_dict()\n",
        "\n",
        "# Conversion rate\n",
        "conv_rate = data.set_index(['Marital Status', 'Degree'])['Conversion Rate'].to_dict()\n",
        "\n",
        "# Minimum no. of  total calls\n",
        "min_tcalls = criteria.set_index(['Customer Segment'])['Minimum number of calls'].to_dict()\n",
        "\n",
        "# Minimum no. of converted calls\n",
        "min_ccalls = criteria.set_index(['Customer Segment'])['Minimum conversion'].to_dict()"
      ]
    },
    {
      "cell_type": "code",
      "source": [
        "duration_nconverted"
      ],
      "metadata": {
        "id": "7mw0alqSk1YH",
        "outputId": "3aa0e23f-b238-4a78-c028-c7830adf8781",
        "colab": {
          "base_uri": "https://localhost:8080/"
        }
      },
      "execution_count": 17,
      "outputs": [
        {
          "output_type": "execute_result",
          "data": {
            "text/plain": [
              "{('Divorced', 'Bachelors'): 222.65,\n",
              " ('Divorced', 'Doctorates'): 218.11,\n",
              " ('Divorced', 'Masters'): 213.91,\n",
              " ('Married', 'Bachelors'): 220.73,\n",
              " ('Married', 'Doctorates'): 222.91,\n",
              " ('Married', 'Masters'): 217.85,\n",
              " ('Single', 'Bachelors'): 217.49,\n",
              " ('Single', 'Doctorates'): 226.55,\n",
              " ('Single', 'Masters'): 216.28}"
            ]
          },
          "metadata": {},
          "execution_count": 17
        }
      ]
    },
    {
      "cell_type": "code",
      "source": [
        "duration_converted"
      ],
      "metadata": {
        "id": "CwXWnpf0kyqT",
        "outputId": "e6edb412-bb61-418b-f6f3-51197f7f7fc3",
        "colab": {
          "base_uri": "https://localhost:8080/"
        }
      },
      "execution_count": 18,
      "outputs": [
        {
          "output_type": "execute_result",
          "data": {
            "text/plain": [
              "{('Divorced', 'Bachelors'): 589.86,\n",
              " ('Divorced', 'Doctorates'): 567.0,\n",
              " ('Divorced', 'Masters'): 607.0,\n",
              " ('Married', 'Bachelors'): 626.0,\n",
              " ('Married', 'Doctorates'): 485.0,\n",
              " ('Married', 'Masters'): 565.0,\n",
              " ('Single', 'Bachelors'): 708.03,\n",
              " ('Single', 'Doctorates'): 494.0,\n",
              " ('Single', 'Masters'): 544.57}"
            ]
          },
          "metadata": {},
          "execution_count": 18
        }
      ]
    },
    {
      "cell_type": "code",
      "source": [
        "conv_rate"
      ],
      "metadata": {
        "id": "omk1LcZclBl2",
        "outputId": "f6f2e3b1-01d2-4ca8-ca08-530e9bdb7680",
        "colab": {
          "base_uri": "https://localhost:8080/"
        }
      },
      "execution_count": 19,
      "outputs": [
        {
          "output_type": "execute_result",
          "data": {
            "text/plain": [
              "{('Divorced', 'Bachelors'): 0.1367,\n",
              " ('Divorced', 'Doctorates'): 0.1383,\n",
              " ('Divorced', 'Masters'): 0.103,\n",
              " ('Married', 'Bachelors'): 0.0755,\n",
              " ('Married', 'Doctorates'): 0.1278,\n",
              " ('Married', 'Masters'): 0.0929,\n",
              " ('Single', 'Bachelors'): 0.1062,\n",
              " ('Single', 'Doctorates'): 0.1812,\n",
              " ('Single', 'Masters'): 0.1271}"
            ]
          },
          "metadata": {},
          "execution_count": 19
        }
      ]
    },
    {
      "cell_type": "code",
      "source": [
        "min_tcalls"
      ],
      "metadata": {
        "id": "QmAmVK_AlFP0",
        "outputId": "240b3ce3-0937-48f0-c6b4-99922a9c388f",
        "colab": {
          "base_uri": "https://localhost:8080/"
        }
      },
      "execution_count": 20,
      "outputs": [
        {
          "output_type": "execute_result",
          "data": {
            "text/plain": [
              "{'Bachelors': 400,\n",
              " 'Divorced': 350,\n",
              " 'Doctorates': 600,\n",
              " 'Married': 600,\n",
              " 'Masters': 500,\n",
              " 'Single': 300}"
            ]
          },
          "metadata": {},
          "execution_count": 20
        }
      ]
    },
    {
      "cell_type": "code",
      "source": [
        "min_ccalls"
      ],
      "metadata": {
        "id": "h68H0XpZlIi4",
        "outputId": "d78760f9-277c-4a29-a573-59501ac34edf",
        "colab": {
          "base_uri": "https://localhost:8080/"
        }
      },
      "execution_count": 21,
      "outputs": [
        {
          "output_type": "execute_result",
          "data": {
            "text/plain": [
              "{'Bachelors': 120,\n",
              " 'Divorced': 100,\n",
              " 'Doctorates': 120,\n",
              " 'Married': 150,\n",
              " 'Masters': 120,\n",
              " 'Single': 150}"
            ]
          },
          "metadata": {},
          "execution_count": 21
        }
      ]
    },
    {
      "cell_type": "markdown",
      "metadata": {
        "id": "86aWP66h8Q6C"
      },
      "source": [
        "### Step3:\n",
        "<b> Create Model Object</b> <br>"
      ]
    },
    {
      "cell_type": "code",
      "execution_count": 30,
      "metadata": {
        "id": "pdYzcubf6fY5"
      },
      "outputs": [],
      "source": [
        "#Instantiating a model\n",
        "model = ConcreteModel()"
      ]
    },
    {
      "cell_type": "markdown",
      "metadata": {
        "id": "gQFDtNt88Q6D"
      },
      "source": [
        "### Step4 \n",
        "\n",
        "<b>Define Decision Variable</b>:"
      ]
    },
    {
      "cell_type": "markdown",
      "metadata": {
        "id": "jSBxIAEneLWt"
      },
      "source": [
        "- Total number of  calls (converted + non-converted) to be made for each customer segment <br>\n",
        "\n",
        "> ${total\\_calls}_{m,d} \\,\\,\\,\\,\\,\\,\\, \\text{where} \\ m \\in marital\\_status, d \\in degree $<br>\n",
        "\n"
      ]
    },
    {
      "cell_type": "code",
      "execution_count": 31,
      "metadata": {
        "id": "8Fj64hrv6fY6",
        "outputId": "0833c758-5843-487e-eabd-e80f576dc465",
        "colab": {
          "base_uri": "https://localhost:8080/"
        }
      },
      "outputs": [
        {
          "output_type": "stream",
          "name": "stdout",
          "text": [
            "total_calls : Size=9, Index=total_calls_index\n",
            "    Key                        : Lower : Value : Upper : Fixed : Stale : Domain\n",
            "     ('Divorced', 'Bachelors') :     1 :  None :  None : False :  True : PositiveIntegers\n",
            "    ('Divorced', 'Doctorates') :     1 :  None :  None : False :  True : PositiveIntegers\n",
            "       ('Divorced', 'Masters') :     1 :  None :  None : False :  True : PositiveIntegers\n",
            "      ('Married', 'Bachelors') :     1 :  None :  None : False :  True : PositiveIntegers\n",
            "     ('Married', 'Doctorates') :     1 :  None :  None : False :  True : PositiveIntegers\n",
            "        ('Married', 'Masters') :     1 :  None :  None : False :  True : PositiveIntegers\n",
            "       ('Single', 'Bachelors') :     1 :  None :  None : False :  True : PositiveIntegers\n",
            "      ('Single', 'Doctorates') :     1 :  None :  None : False :  True : PositiveIntegers\n",
            "         ('Single', 'Masters') :     1 :  None :  None : False :  True : PositiveIntegers\n"
          ]
        }
      ],
      "source": [
        "#Total number of  calls\n",
        "model.total_calls = Var(M_status, Degree, within = PositiveIntegers)\n",
        "model.total_calls.pprint()"
      ]
    },
    {
      "cell_type": "markdown",
      "metadata": {
        "id": "kwquPGDJOSow"
      },
      "source": [
        "### Step5:\n",
        "<b>Define Objective</b>"
      ]
    },
    {
      "cell_type": "markdown",
      "metadata": {
        "id": "fw9sG6A3eLWu"
      },
      "source": [
        "\n",
        "$\\textrm{max} \\sum \\limits _{m,d} \\text{total_calls}_{m,d}* \\text{conv_rate}_{m,d}$\n"
      ]
    },
    {
      "cell_type": "code",
      "execution_count": 32,
      "metadata": {
        "id": "nETk-jJF6fY6"
      },
      "outputs": [],
      "source": [
        "# Defining the objective rule\n",
        "def obj_rule(model):\n",
        "  return(sum(model.total_calls[m,d]*conv_rate[m,d] for m in M_status for d in Degree))"
      ]
    },
    {
      "cell_type": "code",
      "execution_count": 33,
      "metadata": {
        "id": "3cn2MgO_6fY6"
      },
      "outputs": [],
      "source": [
        "# Maximize the reach i.e, converted calls\n",
        "model.value = Objective(rule = obj_rule, sense = maximize)"
      ]
    },
    {
      "cell_type": "markdown",
      "metadata": {
        "id": "fjCSLLMaOVPX"
      },
      "source": [
        "### Step6:\n",
        "<b>Define Constraints</b>\n",
        "\n",
        "*   At-least 50 customers need to be contacted from each segment\n",
        "\n",
        "\n",
        ">- $\\text{total_calls}_{m,d}\\geq\\text{50}\\ \\ \\ \\ \\forall {d \\in degree, m \\in marital\\_status}$\n",
        "\n",
        "\n"
      ]
    },
    {
      "cell_type": "code",
      "execution_count": 34,
      "metadata": {
        "id": "wgfVO2YK6fY7"
      },
      "outputs": [],
      "source": [
        "#At least 50 customers need to be contacted from each customer segment.\n",
        "def min_calls_per_segment(model, m, d):\n",
        "  return(model.total_calls[m,d] >= 50)\n",
        "\n",
        "model.min_calls = Constraint(M_status, Degree, rule = min_calls_per_segment)"
      ]
    },
    {
      "cell_type": "code",
      "execution_count": 35,
      "metadata": {
        "colab": {
          "base_uri": "https://localhost:8080/"
        },
        "id": "bwvnAtyY6fY7",
        "outputId": "43517a2f-dbd2-46d4-8bf3-907831272231"
      },
      "outputs": [
        {
          "output_type": "execute_result",
          "data": {
            "text/plain": [
              "{'Bachelors': 400,\n",
              " 'Divorced': 350,\n",
              " 'Doctorates': 600,\n",
              " 'Married': 600,\n",
              " 'Masters': 500,\n",
              " 'Single': 300}"
            ]
          },
          "metadata": {},
          "execution_count": 35
        }
      ],
      "source": [
        "# Print the dictionary of minimum number of total calls to be made for each segment\n",
        "min_tcalls"
      ]
    },
    {
      "cell_type": "markdown",
      "metadata": {
        "id": "XxBtmboeeLWv"
      },
      "source": [
        "*   Minimum number of total calls for each marital status\n",
        "\n",
        "\n",
        ">- $\\sum \\limits _{d} \\text{total_calls}_{m,d} \\geq\\text{min_tcalls}_{m}$\n",
        "\n",
        "\n",
        "*   Minimum number of total calls for each degree\n",
        "\n",
        "\n",
        ">- $\\sum \\limits _{m} \\text{total_calls}_{m,d} \\geq\\text{min_tcalls}_{d}$\n",
        "\n"
      ]
    },
    {
      "cell_type": "code",
      "execution_count": 36,
      "metadata": {
        "id": "H0sX_Sv96fY7"
      },
      "outputs": [],
      "source": [
        "#The total number of calls made to each customer segment should meet the minimum number (based on marital status)\n",
        "def min_tcalls_marital_status(model, m):\n",
        "  return(sum(model.total_calls[m,d] for d in Degree) >= min_tcalls[m])\n",
        "\n",
        "model.min_tcalls_mstatus = Constraint(M_status, rule = min_tcalls_marital_status)\n",
        "\n",
        "#The total number of calls made to each customer segment should meet the minimum number (based on the degree)\n",
        "def min_tcalls_degree(model, d):\n",
        "  return(sum(model.total_calls[m,d] for m in M_status) >= min_tcalls[d])\n",
        "\n",
        "model.min_tcalls_deg = Constraint(Degree, rule = min_tcalls_degree)"
      ]
    },
    {
      "cell_type": "code",
      "execution_count": 37,
      "metadata": {
        "colab": {
          "base_uri": "https://localhost:8080/"
        },
        "id": "DJLuFNPh6fY8",
        "outputId": "74af364a-1031-4409-974c-58cd21f1e63a"
      },
      "outputs": [
        {
          "output_type": "execute_result",
          "data": {
            "text/plain": [
              "{'Bachelors': 120,\n",
              " 'Divorced': 100,\n",
              " 'Doctorates': 120,\n",
              " 'Married': 150,\n",
              " 'Masters': 120,\n",
              " 'Single': 150}"
            ]
          },
          "metadata": {},
          "execution_count": 37
        }
      ],
      "source": [
        "# Minimum number of converted calls to be made for each segment\n",
        "min_ccalls"
      ]
    },
    {
      "cell_type": "markdown",
      "metadata": {
        "id": "IPZ1_k4deLWv"
      },
      "source": [
        "\n",
        "*   Minimum number of converted calls for each marital status\n",
        "\n",
        "\n",
        ">- $\\sum \\limits _{d} (\\text{total_calls}_{m,d}* \\text{conv_rate}_{m,d})  \\geq\\text{min_tcalls}_{m}$"
      ]
    },
    {
      "cell_type": "code",
      "execution_count": 39,
      "metadata": {
        "id": "zuQLOZWY6fY8"
      },
      "outputs": [],
      "source": [
        "#The total number of conversions/converted calls of the customer segments should match a minimum number(based on marital status)\n",
        "def min_ccalls_marital_status(model, m):\n",
        "  return(sum(conv_rate[m,d]*model.total_calls[m,d] for d in Degree) >= min_tcalls[m])\n",
        "\n",
        "model.min_ccalls_mstatus = Constraint(M_status, rule = min_ccalls_marital_status)"
      ]
    },
    {
      "cell_type": "markdown",
      "metadata": {
        "id": "SzsaVjOheLWv"
      },
      "source": [
        "*   Minimum number of converted calls for each degree\n",
        "\n",
        "\n",
        ">- $\\sum \\limits _{m} (\\text{total_calls}_{m,d}* \\text{conv_rate}_{m,d})  \\geq\\text{min_tcalls}_{d}$\n"
      ]
    },
    {
      "cell_type": "code",
      "execution_count": 40,
      "metadata": {
        "id": "qrBRR2XueLWv"
      },
      "outputs": [],
      "source": [
        "#The total number of conversions/converted calls of the customer segments should match a minimum number (based on degree)\n",
        "def min_ccalls_degree(model, d):\n",
        "  return(sum(conv_rate[m,d]*model.total_calls[m,d] for m in M_status) >= min_tcalls[d])\n",
        "\n",
        "model.min_ccalls_deg = Constraint(Degree, rule = min_ccalls_degree)"
      ]
    },
    {
      "cell_type": "markdown",
      "metadata": {
        "id": "OOOZ1CPSeLWw"
      },
      "source": [
        "*   Budget Constraint\n",
        "\n",
        "\\begin{align}\n",
        "\\sum \\limits _{m,d} \\Bigg[\\text{total_calls}_{m,d}* \\text{conv_rate}_{m,d}* \\frac{\\text{duration_converted}_{m,d}}{60}* \\text{cost_per_min}\\Bigg] & +\\Bigg[\\text{total_calls}_{m,d}* \\text{(1- conv_rate}_{m,d})* \\frac{\\text{duration_nconverted}_{m,d}}{60}* \\text{cost_per_min}\\Bigg]  \\leq\\text{total_budget}\n",
        "\\end{align}"
      ]
    },
    {
      "cell_type": "code",
      "execution_count": 41,
      "metadata": {
        "id": "RzrTrC_-6fY8"
      },
      "outputs": [],
      "source": [
        "#Budget constraint\n",
        "def maximum_budget(model):\n",
        "  return(sum((duration_converted[m,d]/60)*cost_per_min*model.total_calls[m,d]*conv_rate[m,d] + (duration_nconverted[m,d]/60)*cost_per_min*model.total_calls[m,d]*(1-conv_rate[m,d]) for m in M_status for d in Degree) <= total_budget)\n",
        "\n",
        "model.max_budget = Constraint(rule = maximum_budget)"
      ]
    },
    {
      "cell_type": "markdown",
      "metadata": {
        "id": "M0A6rEQaOX_B"
      },
      "source": [
        "### Step7:\n",
        "<b>Create solver & solve model </b><br>"
      ]
    },
    {
      "cell_type": "code",
      "execution_count": 42,
      "metadata": {
        "colab": {
          "base_uri": "https://localhost:8080/"
        },
        "id": "4JtXyV8S6fY9",
        "outputId": "90880001-1cb6-426b-f86e-d3de25da2b5c"
      },
      "outputs": [
        {
          "output_type": "stream",
          "name": "stdout",
          "text": [
            "# ==========================================================\n",
            "# = Solver Results                                         =\n",
            "# ==========================================================\n",
            "# ----------------------------------------------------------\n",
            "#   Problem Information\n",
            "# ----------------------------------------------------------\n",
            "Problem: \n",
            "- Name: unknown\n",
            "  Lower bound: -inf\n",
            "  Upper bound: inf\n",
            "  Number of objectives: 1\n",
            "  Number of constraints: 20\n",
            "  Number of variables: 10\n",
            "  Number of nonzeros: 46\n",
            "  Sense: maximize\n",
            "# ----------------------------------------------------------\n",
            "#   Solver Information\n",
            "# ----------------------------------------------------------\n",
            "Solver: \n",
            "- Status: ok\n",
            "  Termination condition: infeasible\n",
            "  Statistics: \n",
            "    Branch and bound: \n",
            "      Number of bounded subproblems: 0\n",
            "      Number of created subproblems: 0\n",
            "  Error rc: 0\n",
            "  Time: 0.017731666564941406\n"
          ]
        }
      ],
      "source": [
        "#Invoking the solver\n",
        "result = SolverFactory('glpk').solve(model)\n",
        "result.write()"
      ]
    },
    {
      "cell_type": "markdown",
      "metadata": {
        "id": "5RsRON6rOcUa"
      },
      "source": [
        "### Step8:\n",
        "<b>Display Results </b>"
      ]
    },
    {
      "cell_type": "code",
      "execution_count": 43,
      "metadata": {
        "colab": {
          "base_uri": "https://localhost:8080/"
        },
        "id": "zzGS5j-96fY9",
        "outputId": "fca47bb8-c0f1-404f-e35e-aad7c782b87c"
      },
      "outputs": [
        {
          "output_type": "stream",
          "name": "stdout",
          "text": [
            "10 Set Declarations\n",
            "    min_calls_index : Size=1, Index=None, Ordered=False\n",
            "        Key  : Dimen : Domain                              : Size : Members\n",
            "        None :     2 : min_calls_index_0*min_calls_index_1 :    9 : {('Divorced', 'Bachelors'), ('Divorced', 'Doctorates'), ('Divorced', 'Masters'), ('Married', 'Bachelors'), ('Married', 'Doctorates'), ('Married', 'Masters'), ('Single', 'Bachelors'), ('Single', 'Doctorates'), ('Single', 'Masters')}\n",
            "    min_calls_index_0 : Size=1, Index=None, Ordered=False\n",
            "        Key  : Dimen : Domain : Size : Members\n",
            "        None :     1 :    Any :    3 : {'Divorced', 'Married', 'Single'}\n",
            "    min_calls_index_1 : Size=1, Index=None, Ordered=False\n",
            "        Key  : Dimen : Domain : Size : Members\n",
            "        None :     1 :    Any :    3 : {'Bachelors', 'Doctorates', 'Masters'}\n",
            "    min_ccalls_deg_index : Size=1, Index=None, Ordered=False\n",
            "        Key  : Dimen : Domain : Size : Members\n",
            "        None :     1 :    Any :    3 : {'Bachelors', 'Doctorates', 'Masters'}\n",
            "    min_ccalls_mstatus_index : Size=1, Index=None, Ordered=False\n",
            "        Key  : Dimen : Domain : Size : Members\n",
            "        None :     1 :    Any :    3 : {'Divorced', 'Married', 'Single'}\n",
            "    min_tcalls_deg_index : Size=1, Index=None, Ordered=False\n",
            "        Key  : Dimen : Domain : Size : Members\n",
            "        None :     1 :    Any :    3 : {'Bachelors', 'Doctorates', 'Masters'}\n",
            "    min_tcalls_mstatus_index : Size=1, Index=None, Ordered=False\n",
            "        Key  : Dimen : Domain : Size : Members\n",
            "        None :     1 :    Any :    3 : {'Divorced', 'Married', 'Single'}\n",
            "    total_calls_index : Size=1, Index=None, Ordered=False\n",
            "        Key  : Dimen : Domain                                  : Size : Members\n",
            "        None :     2 : total_calls_index_0*total_calls_index_1 :    9 : {('Divorced', 'Bachelors'), ('Divorced', 'Doctorates'), ('Divorced', 'Masters'), ('Married', 'Bachelors'), ('Married', 'Doctorates'), ('Married', 'Masters'), ('Single', 'Bachelors'), ('Single', 'Doctorates'), ('Single', 'Masters')}\n",
            "    total_calls_index_0 : Size=1, Index=None, Ordered=False\n",
            "        Key  : Dimen : Domain : Size : Members\n",
            "        None :     1 :    Any :    3 : {'Divorced', 'Married', 'Single'}\n",
            "    total_calls_index_1 : Size=1, Index=None, Ordered=False\n",
            "        Key  : Dimen : Domain : Size : Members\n",
            "        None :     1 :    Any :    3 : {'Bachelors', 'Doctorates', 'Masters'}\n",
            "\n",
            "1 Var Declarations\n",
            "    total_calls : Size=9, Index=total_calls_index\n",
            "        Key                        : Lower : Value : Upper : Fixed : Stale : Domain\n",
            "         ('Divorced', 'Bachelors') :     1 :  None :  None : False :  True : PositiveIntegers\n",
            "        ('Divorced', 'Doctorates') :     1 :  None :  None : False :  True : PositiveIntegers\n",
            "           ('Divorced', 'Masters') :     1 :  None :  None : False :  True : PositiveIntegers\n",
            "          ('Married', 'Bachelors') :     1 :  None :  None : False :  True : PositiveIntegers\n",
            "         ('Married', 'Doctorates') :     1 :  None :  None : False :  True : PositiveIntegers\n",
            "            ('Married', 'Masters') :     1 :  None :  None : False :  True : PositiveIntegers\n",
            "           ('Single', 'Bachelors') :     1 :  None :  None : False :  True : PositiveIntegers\n",
            "          ('Single', 'Doctorates') :     1 :  None :  None : False :  True : PositiveIntegers\n",
            "             ('Single', 'Masters') :     1 :  None :  None : False :  True : PositiveIntegers\n",
            "\n",
            "1 Objective Declarations\n",
            "    value : Size=1, Index=None, Active=True\n",
            "        Key  : Active : Sense    : Expression\n",
            "        None :   True : maximize : 0.0755*total_calls[Married,Bachelors] + 0.0929*total_calls[Married,Masters] + 0.1278*total_calls[Married,Doctorates] + 0.1062*total_calls[Single,Bachelors] + 0.1271*total_calls[Single,Masters] + 0.1812*total_calls[Single,Doctorates] + 0.1367*total_calls[Divorced,Bachelors] + 0.103*total_calls[Divorced,Masters] + 0.1383*total_calls[Divorced,Doctorates]\n",
            "\n",
            "5 Constraint Declarations\n",
            "    max_budget : Size=1, Index=None, Active=True\n",
            "        Key  : Lower : Body                                                                                                                                                                                                                                                                                                                                                                                                                                                                                                                                                                                                                                                                                                                                                                                                                                                                                                      : Upper    : Active\n",
            "        None :  -Inf : 7.8771666666666675*total_calls[Married,Bachelors] + 34.01081416666666*total_calls[Married,Bachelors] + 8.748083333333332*total_calls[Married,Masters] + 32.93528916666667*total_calls[Married,Masters] + 10.3305*total_calls[Married,Doctorates] + 32.403683666666666*total_calls[Married,Doctorates] + 12.532131*total_calls[Single,Bachelors] + 32.398760333333335*total_calls[Single,Bachelors] + 11.535807833333333*total_calls[Single,Masters] + 31.465135333333333*total_calls[Single,Masters] + 14.9188*total_calls[Single,Doctorates] + 30.91652333333333*total_calls[Single,Doctorates] + 13.438977*total_calls[Divorced,Bachelors] + 32.035624166666665*total_calls[Divorced,Bachelors] + 10.420166666666667*total_calls[Divorced,Masters] + 31.979545000000005*total_calls[Divorced,Masters] + 13.06935*total_calls[Divorced,Doctorates] + 31.324231166666674*total_calls[Divorced,Doctorates] : 150000.0 :   True\n",
            "    min_calls : Size=9, Index=min_calls_index, Active=True\n",
            "        Key                        : Lower : Body                             : Upper : Active\n",
            "         ('Divorced', 'Bachelors') :  50.0 :  total_calls[Divorced,Bachelors] :  +Inf :   True\n",
            "        ('Divorced', 'Doctorates') :  50.0 : total_calls[Divorced,Doctorates] :  +Inf :   True\n",
            "           ('Divorced', 'Masters') :  50.0 :    total_calls[Divorced,Masters] :  +Inf :   True\n",
            "          ('Married', 'Bachelors') :  50.0 :   total_calls[Married,Bachelors] :  +Inf :   True\n",
            "         ('Married', 'Doctorates') :  50.0 :  total_calls[Married,Doctorates] :  +Inf :   True\n",
            "            ('Married', 'Masters') :  50.0 :     total_calls[Married,Masters] :  +Inf :   True\n",
            "           ('Single', 'Bachelors') :  50.0 :    total_calls[Single,Bachelors] :  +Inf :   True\n",
            "          ('Single', 'Doctorates') :  50.0 :   total_calls[Single,Doctorates] :  +Inf :   True\n",
            "             ('Single', 'Masters') :  50.0 :      total_calls[Single,Masters] :  +Inf :   True\n",
            "    min_ccalls_deg : Size=3, Index=min_ccalls_deg_index, Active=True\n",
            "        Key        : Lower : Body                                                                                                                     : Upper : Active\n",
            "         Bachelors : 400.0 :    0.0755*total_calls[Married,Bachelors] + 0.1062*total_calls[Single,Bachelors] + 0.1367*total_calls[Divorced,Bachelors] :  +Inf :   True\n",
            "        Doctorates : 600.0 : 0.1278*total_calls[Married,Doctorates] + 0.1812*total_calls[Single,Doctorates] + 0.1383*total_calls[Divorced,Doctorates] :  +Inf :   True\n",
            "           Masters : 500.0 :           0.0929*total_calls[Married,Masters] + 0.1271*total_calls[Single,Masters] + 0.103*total_calls[Divorced,Masters] :  +Inf :   True\n",
            "    min_ccalls_mstatus : Size=3, Index=min_ccalls_mstatus_index, Active=True\n",
            "        Key      : Lower : Body                                                                                                                   : Upper : Active\n",
            "        Divorced : 350.0 : 0.1367*total_calls[Divorced,Bachelors] + 0.103*total_calls[Divorced,Masters] + 0.1383*total_calls[Divorced,Doctorates] :  +Inf :   True\n",
            "         Married : 600.0 :   0.0755*total_calls[Married,Bachelors] + 0.0929*total_calls[Married,Masters] + 0.1278*total_calls[Married,Doctorates] :  +Inf :   True\n",
            "          Single : 300.0 :      0.1062*total_calls[Single,Bachelors] + 0.1271*total_calls[Single,Masters] + 0.1812*total_calls[Single,Doctorates] :  +Inf :   True\n",
            "    min_tcalls_deg : Size=3, Index=min_tcalls_deg_index, Active=True\n",
            "        Key        : Lower : Body                                                                                                : Upper : Active\n",
            "         Bachelors : 400.0 :    total_calls[Married,Bachelors] + total_calls[Single,Bachelors] + total_calls[Divorced,Bachelors] :  +Inf :   True\n",
            "        Doctorates : 600.0 : total_calls[Married,Doctorates] + total_calls[Single,Doctorates] + total_calls[Divorced,Doctorates] :  +Inf :   True\n",
            "           Masters : 500.0 :          total_calls[Married,Masters] + total_calls[Single,Masters] + total_calls[Divorced,Masters] :  +Inf :   True\n",
            "\n",
            "17 Declarations: total_calls_index_0 total_calls_index_1 total_calls_index total_calls value min_calls_index_0 min_calls_index_1 min_calls_index min_calls min_tcalls_mstatus_index min_tcalls_deg_index min_tcalls_deg min_ccalls_mstatus_index min_ccalls_mstatus min_ccalls_deg_index min_ccalls_deg max_budget\n"
          ]
        }
      ],
      "source": [
        "model.pprint()"
      ]
    },
    {
      "cell_type": "code",
      "execution_count": null,
      "metadata": {
        "id": "PHwYDpSx6fY9"
      },
      "outputs": [],
      "source": [
        "#Total number of calls to be made\n"
      ]
    },
    {
      "cell_type": "code",
      "execution_count": null,
      "metadata": {
        "id": "TdCeMDF06fY-"
      },
      "outputs": [],
      "source": [
        "# Creating a dataframe for the output data\n",
        "\n",
        "#Creating an empty list\n",
        "\n",
        "\n",
        "# For every iteration, the code below will create a list containing 5 values - marital status, degree, number of calls for each segment\n",
        "#number of converted calls and estimated cost for those calls\n",
        "\n",
        "        \n",
        "        #Number of calls to be made for each segment\n",
        "       \n",
        "        \n",
        "        #converted calls\n",
        "       \n",
        "        \n",
        "        #estimated cost\n",
        "        \n",
        "        \n",
        "\n",
        "\n",
        "\n"
      ]
    },
    {
      "cell_type": "code",
      "execution_count": null,
      "metadata": {
        "id": "lG1DniT76fY-"
      },
      "outputs": [],
      "source": [
        "#Converting a 2D list into a dataframe\n",
        "\n"
      ]
    },
    {
      "cell_type": "code",
      "execution_count": null,
      "metadata": {
        "id": "Z7lxbvKBeLWx"
      },
      "outputs": [],
      "source": [
        "# Printing the data frame"
      ]
    }
  ],
  "metadata": {
    "colab": {
      "collapsed_sections": [
        "DOkak4386fYz"
      ],
      "name": "banking_case_study.ipynb",
      "provenance": [],
      "include_colab_link": true
    },
    "kernelspec": {
      "display_name": "Python 3",
      "language": "python",
      "name": "python3"
    },
    "language_info": {
      "codemirror_mode": {
        "name": "ipython",
        "version": 3
      },
      "file_extension": ".py",
      "mimetype": "text/x-python",
      "name": "python",
      "nbconvert_exporter": "python",
      "pygments_lexer": "ipython3",
      "version": "3.7.4"
    }
  },
  "nbformat": 4,
  "nbformat_minor": 0
}