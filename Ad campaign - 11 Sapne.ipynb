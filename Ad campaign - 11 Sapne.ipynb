{
 "cells": [
  {
   "cell_type": "markdown",
   "metadata": {},
   "source": [
    "##  Problem Statement\n",
    "\n",
    "Suppose you are working at a company named XYZ. It is looking to launch a new product. For this, the company has prepared a 10-second ad to be showcased on television. Now, your company wants to undertake an ad campaign for this product on television on the three main types of channels, which are news, sports and entertainment. The cost of the ad time is different for each of these channels, and this cost also varies owing to the day of the week, i.e., the cost on weekends is <b>20%</b> more than that on weekdays. The cost/10 seconds of ad time (on weekdays) on these three types of channels is as follows:\n",
    "\n",
    "<b>News:</b> ₹40,000 <br>\n",
    "<b>Sports:</b> ₹80,000 <br>\n",
    "<b>Entertainment:</b> ₹65,000 <br>\n",
    "\n",
    "The marketing budget allotted for this ad campaign is <b>₹10 crores</b>, and the plan to distribute it is as follows:\n",
    "\n",
    "At least <b>₹2 crores</b> spent on each of the three types of channels <br>\n",
    "At least <b>₹2.5 crores</b> spent during the weekdays  <br>\n",
    "At least <b>₹4 crores</b> spent during the weekends  <br>\n",
    "At least <b>₹50 lakh spent/type of channel/type of day</b>, i.e., at least ₹50 lakh should be spent on every type of channel and on every type of the day, i.e., both weekdays and weekends. For example, the money spent on the ad time, say, news channels on weekdays, should be at least ₹50 lakh. Similarly, the money spent on entertainment channels on weekends should be at least ₹50 lakh.\\\n",
    "So, using the budget allocated and all the above-mentioned constraints, you want to maximise the number of times for which the ad is shown on TV. Formulate your constraints in Excel, find the optimal solution and answer the questions given below.\n"
   ]
  },
  {
   "cell_type": "code",
   "execution_count": null,
   "metadata": {},
   "outputs": [],
   "source": [
    "import numpy as np\n",
    "import pandas as pd"
   ]
  },
  {
   "cell_type": "code",
   "execution_count": null,
   "metadata": {},
   "outputs": [],
   "source": [
    "from __future__ import division\n",
    "from pyomo.opt import SolverFactory"
   ]
  },
  {
   "cell_type": "markdown",
   "metadata": {},
   "source": [
    "### Step1:\n",
    "<b> Import Pyomo Enviornment </b>"
   ]
  },
  {
   "cell_type": "code",
   "execution_count": null,
   "metadata": {},
   "outputs": [],
   "source": [
    "from pyomo.environ import *"
   ]
  },
  {
   "cell_type": "markdown",
   "metadata": {},
   "source": [
    "### Step2:\n",
    "<b>Specify / import data</b>"
   ]
  },
  {
   "cell_type": "code",
   "execution_count": null,
   "metadata": {},
   "outputs": [],
   "source": [
    "# channels - index\n",
    "C = ['News', 'Sports','Entertainment']\n",
    "\n",
    "#Type of day - index\n",
    "W=['Weekday','Weekend']\n",
    "\n",
    "# weekdays cost - parameter (given)\n",
    "Cost = {'News':0.40, 'Sports': 0.80, 'Entertainment':0.65}\n"
   ]
  },
  {
   "cell_type": "code",
   "execution_count": null,
   "metadata": {},
   "outputs": [],
   "source": [
    "# Define the minimum amount to be spent for various scenarios\n",
    "c_min_tot_WD = 250\n",
    "c_min_tot_WE = 400\n",
    "c_min_tot_per_channel=200\n",
    "c_min_per_day_channel=50\n",
    "c_total_budget=1000"
   ]
  },
  {
   "cell_type": "code",
   "execution_count": null,
   "metadata": {},
   "outputs": [],
   "source": [
    " # cost parameter\n",
    "    \n",
    "cost_10s=\n"
   ]
  },
  {
   "cell_type": "markdown",
   "metadata": {},
   "source": [
    "### Step3:\n",
    "<b> Create Model Object</b>"
   ]
  },
  {
   "cell_type": "code",
   "execution_count": null,
   "metadata": {},
   "outputs": [],
   "source": [
    "model = ConcreteModel()"
   ]
  },
  {
   "cell_type": "markdown",
   "metadata": {},
   "source": [
    "### Step4:\n",
    "<b>Define Decision Variable</b>"
   ]
  },
  {
   "cell_type": "code",
   "execution_count": null,
   "metadata": {},
   "outputs": [],
   "source": [
    "# creating a variable object x. Variable x is indexed with C,W\n",
    "model.x = "
   ]
  },
  {
   "cell_type": "code",
   "execution_count": null,
   "metadata": {},
   "outputs": [],
   "source": [
    "#Defining the cost indexed with C,W as model parameter\n",
    "#This step is optional. You can work with a python dictionary only instead of converting that into a pyomo parameter\n",
    "#model.cost_10s = Param(C, W,initialize=cost_10s)"
   ]
  },
  {
   "cell_type": "markdown",
   "metadata": {},
   "source": [
    "### Step5:\n",
    "<b>Define Objective</b>"
   ]
  },
  {
   "cell_type": "code",
   "execution_count": null,
   "metadata": {},
   "outputs": [],
   "source": [
    "\n"
   ]
  },
  {
   "cell_type": "markdown",
   "metadata": {},
   "source": [
    "### Step6:\n",
    "<b>Define Constraints</b>"
   ]
  },
  {
   "cell_type": "code",
   "execution_count": null,
   "metadata": {},
   "outputs": [],
   "source": [
    "# c_min_tot_WD = 250\n",
    "# c_min_tot_WE = 400\n",
    "# c_min_tot_per_channel=200\n",
    "# c_min_per_day_channel=50\n",
    "# c_total_budget=1000"
   ]
  },
  {
   "cell_type": "code",
   "execution_count": null,
   "metadata": {},
   "outputs": [],
   "source": [
    "#At least ₹2.5 crores spent during the weekdays\n",
    "#At least ₹4 crores spent during the weekends\n",
    "\n",
    "def weekly_budget(_,_):\n",
    "    if w=='Weekday':\n",
    "        return sum(cost_10s[c,w]*m.x[c,w] for c in C)>=c_min_tot_WD\n",
    "    elif w=='Weekend':\n",
    "        return sum(cost_10s[c,w]*m.x[c,w] for c in C)>=c_min_tot_WE\n",
    "\n",
    "model.weekly_bgt = Constraint(_, rule=weekly_budget)\n",
    "    "
   ]
  },
  {
   "cell_type": "code",
   "execution_count": null,
   "metadata": {},
   "outputs": [],
   "source": [
    "#At least ₹2 crores spent on each of the three types of channels\n",
    "\n"
   ]
  },
  {
   "cell_type": "code",
   "execution_count": null,
   "metadata": {},
   "outputs": [],
   "source": [
    "#At least ₹50 lakh spent/type of channel/type of day\n",
    "\n",
    "def min_per_day_budget(m,c,w):\n",
    "    return cost_10s[c,w]*m.x[c,w]>=c_min_per_day_channel\n",
    "\n",
    "model.min_per_day_bgt = Constraint(C,W,rule=min_per_day_budget)"
   ]
  },
  {
   "cell_type": "code",
   "execution_count": null,
   "metadata": {},
   "outputs": [],
   "source": [
    "#The marketing budget allotted for this ad campaign is ₹10 crore\n",
    "\n",
    "def total_budget(m):\n",
    "    return sum(cost_10s[c,w]*m.x[c,w] for c in C for w in W) <= c_total_budget\n",
    "\n",
    "model.total_bgt= Constraint(rule=total_budget)\n"
   ]
  },
  {
   "cell_type": "markdown",
   "metadata": {},
   "source": [
    "### Step7:\n",
    "<b>Create solver & solve model </b><br>\n",
    "Note: It is important to know if you have created a liner(LP), integer(IP), mixed integer(MIP), non-linear (NLP), or mixed integer non-linear (MINLP) model and choose the most suitable solver accordingly. We have setup glpk for LP, IP and MIP type problems and ipopt for NLP type."
   ]
  },
  {
   "cell_type": "code",
   "execution_count": null,
   "metadata": {
    "scrolled": true
   },
   "outputs": [],
   "source": [
    "result = SolverFactory('glpk').solve(model)\n",
    "result.write()"
   ]
  },
  {
   "cell_type": "markdown",
   "metadata": {},
   "source": [
    "### Step8:\n",
    "<b>Display Results </b>"
   ]
  },
  {
   "cell_type": "code",
   "execution_count": null,
   "metadata": {},
   "outputs": [],
   "source": [
    "model.pprint()"
   ]
  },
  {
   "cell_type": "code",
   "execution_count": null,
   "metadata": {},
   "outputs": [],
   "source": [
    "#Total number of ad appearances\n",
    "model.value()"
   ]
  },
  {
   "cell_type": "code",
   "execution_count": null,
   "metadata": {},
   "outputs": [],
   "source": [
    "model.pprint()"
   ]
  },
  {
   "cell_type": "code",
   "execution_count": null,
   "metadata": {},
   "outputs": [],
   "source": []
  }
 ],
 "metadata": {
  "kernelspec": {
   "display_name": "Python 3",
   "language": "python",
   "name": "python3"
  },
  "language_info": {
   "codemirror_mode": {
    "name": "ipython",
    "version": 3
   },
   "file_extension": ".py",
   "mimetype": "text/x-python",
   "name": "python",
   "nbconvert_exporter": "python",
   "pygments_lexer": "ipython3",
   "version": "3.7.4"
  }
 },
 "nbformat": 4,
 "nbformat_minor": 4
}
