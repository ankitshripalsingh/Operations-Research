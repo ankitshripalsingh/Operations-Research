{
 "cells": [
  {
   "cell_type": "markdown",
   "metadata": {},
   "source": [
    "# Great Indian Summer Sale - Graded questions"
   ]
  },
  {
   "attachments": {},
   "cell_type": "markdown",
   "metadata": {},
   "source": [
    "##  Problem Statement\n",
    "\n",
    "Let's go back to the e-commerce example that kept recurring in session 2. Recall that some of the products on your website weren't selling well. To tackle this, you're looking to launch 'The Great Indian Summer Sale' where you'll be offering certain discounts to the customers on these products so as to free your warehouses quickly.\n",
    "One such product that isn't selling well is a wireless earphone model XV-744. You have a total of 510 such earphones for sale in stock. The demand forecasting for this product with respect to different discounts has been provided in the Excel sheet below. \n",
    "\n",
    "|Scenario|Price|Demand|\n",
    "| --- | --- | --- |\n",
    "|Regular|1050|80|\n",
    "|20% Discount| 840 | 105 |\n",
    "|30% Discount| 735 | 150 |\n",
    "|40% Discount| 630 | 200 |\n",
    "|50% Discount| 525 | 200 |\n"
   ]
  },
  {
   "cell_type": "code",
   "execution_count": null,
   "metadata": {},
   "outputs": [],
   "source": [
    "import numpy as np\n",
    "import pandas as pd"
   ]
  },
  {
   "cell_type": "code",
   "execution_count": null,
   "metadata": {},
   "outputs": [],
   "source": [
    "from __future__ import division\n",
    "from pyomo.opt import SolverFactory"
   ]
  },
  {
   "cell_type": "markdown",
   "metadata": {},
   "source": [
    "### Step1:\n",
    "<b> Import Pyomo Enviornment </b>"
   ]
  },
  {
   "cell_type": "code",
   "execution_count": null,
   "metadata": {},
   "outputs": [],
   "source": [
    "from pyomo.environ import *"
   ]
  },
  {
   "cell_type": "markdown",
   "metadata": {},
   "source": [
    "### Step2:\n",
    "<b>Specify / import data</b>"
   ]
  },
  {
   "cell_type": "code",
   "execution_count": null,
   "metadata": {},
   "outputs": [],
   "source": [
    "# Scenarios based on the discount type\n",
    "Scenarios = ['Regular','_____', '_____','_____','____']\n",
    "\n",
    "#Demand for each discount type\n",
    "Demand={'Regular':80,'_____':___, '____':____,'____':____,'_____':____}\n",
    "\n",
    "#Price per item for each discount type\n",
    "Price={'____':____,'____':840, '____':____,'____':___,'_____':____}\n",
    "\n",
    "#Number of earphones in stock\n",
    "stock=510"
   ]
  },
  {
   "cell_type": "markdown",
   "metadata": {},
   "source": [
    "### Step3:\n",
    "<b> Create Model Object</b>"
   ]
  },
  {
   "cell_type": "code",
   "execution_count": null,
   "metadata": {},
   "outputs": [],
   "source": [
    "# Initialising a concrete model\n",
    "model ="
   ]
  },
  {
   "cell_type": "markdown",
   "metadata": {},
   "source": [
    "### Step4:\n",
    "<b>Define Decision Variable</b>"
   ]
  },
  {
   "cell_type": "code",
   "execution_count": null,
   "metadata": {},
   "outputs": [],
   "source": [
    "# Number of earphones of each discount type will be the decision variable\n",
    "model.x = "
   ]
  },
  {
   "cell_type": "markdown",
   "metadata": {},
   "source": [
    "### Step5:\n",
    "<b>Define Objective</b>"
   ]
  },
  {
   "cell_type": "code",
   "execution_count": null,
   "metadata": {},
   "outputs": [],
   "source": [
    "model.value = "
   ]
  },
  {
   "cell_type": "markdown",
   "metadata": {},
   "source": [
    "### Step6:\n",
    "<b>Define Constraints</b>"
   ]
  },
  {
   "cell_type": "code",
   "execution_count": null,
   "metadata": {},
   "outputs": [],
   "source": [
    "#Demand constraint\n",
    "\n",
    "def demand_rule(m,_):\n",
    "    return(____)\n",
    "\n",
    "model.demand = Constraint(____,rule=demand_rule)"
   ]
  },
  {
   "cell_type": "code",
   "execution_count": null,
   "metadata": {},
   "outputs": [],
   "source": [
    "# Supply constraint\n",
    "model.supply = "
   ]
  },
  {
   "cell_type": "markdown",
   "metadata": {},
   "source": [
    "### Step7:\n",
    "<b>Create solver & solve model </b><br>\n",
    "Note: It is important to know if you have created a liner(LP), integer(IP), mixed integer(MIP), non-linear (NLP), or mixed integer non-linear (MINLP) model and choose the most suitable solver accordingly. We have setup glpk for LP, IP and MIP type problems and ipopt for NLP type."
   ]
  },
  {
   "cell_type": "code",
   "execution_count": null,
   "metadata": {
    "scrolled": true
   },
   "outputs": [],
   "source": [
    "result = SolverFactory('glpk').solve(model)\n",
    "result.write()"
   ]
  },
  {
   "cell_type": "markdown",
   "metadata": {},
   "source": [
    "### Step8:\n",
    "<b>Display Results </b>"
   ]
  },
  {
   "cell_type": "code",
   "execution_count": null,
   "metadata": {},
   "outputs": [],
   "source": [
    "model.pprint()"
   ]
  },
  {
   "cell_type": "code",
   "execution_count": null,
   "metadata": {},
   "outputs": [],
   "source": [
    "model.value()"
   ]
  }
 ],
 "metadata": {
  "kernelspec": {
   "display_name": "Python 3",
   "language": "python",
   "name": "python3"
  },
  "language_info": {
   "codemirror_mode": {
    "name": "ipython",
    "version": 3
   },
   "file_extension": ".py",
   "mimetype": "text/x-python",
   "name": "python",
   "nbconvert_exporter": "python",
   "pygments_lexer": "ipython3",
   "version": "3.7.4"
  }
 },
 "nbformat": 4,
 "nbformat_minor": 4
}
