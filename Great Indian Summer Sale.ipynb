{
  "cells": [
    {
      "cell_type": "markdown",
      "metadata": {
        "id": "view-in-github",
        "colab_type": "text"
      },
      "source": [
        "<a href=\"https://colab.research.google.com/github/ankitshripalsingh/Operations-Research/blob/OR/Great%20Indian%20Summer%20Sale.ipynb\" target=\"_parent\"><img src=\"https://colab.research.google.com/assets/colab-badge.svg\" alt=\"Open In Colab\"/></a>"
      ]
    },
    {
      "cell_type": "markdown",
      "metadata": {
        "id": "3bOHDzdW2L0D"
      },
      "source": [
        "# Great Indian Summer Sale - Graded questions"
      ]
    },
    {
      "cell_type": "markdown",
      "metadata": {
        "id": "xUY4SOCk2L0I"
      },
      "source": [
        "##  Problem Statement\n",
        "\n",
        "Let's go back to the e-commerce example that kept recurring in session 2. Recall that some of the products on your website weren't selling well. To tackle this, you're looking to launch 'The Great Indian Summer Sale' where you'll be offering certain discounts to the customers on these products so as to free your warehouses quickly.\n",
        "One such product that isn't selling well is a wireless earphone model XV-744. You have a total of 510 such earphones for sale in stock. The demand forecasting for this product with respect to different discounts has been provided in the Excel sheet below. \n",
        "\n",
        "|Scenario|Price|Demand|\n",
        "| --- | --- | --- |\n",
        "|Regular|1050|80|\n",
        "|20% Discount| 840 | 105 |\n",
        "|30% Discount| 735 | 150 |\n",
        "|40% Discount| 630 | 200 |\n",
        "|50% Discount| 525 | 200 |\n"
      ]
    },
    {
      "cell_type": "code",
      "execution_count": 15,
      "metadata": {
        "id": "3Lo0u3Y_2L0J"
      },
      "outputs": [],
      "source": [
        "import numpy as np\n",
        "import pandas as pd"
      ]
    },
    {
      "cell_type": "code",
      "execution_count": 16,
      "metadata": {
        "id": "TSZ3YX_w2L0K"
      },
      "outputs": [],
      "source": [
        "from __future__ import division\n",
        "!pip install -q pyomo\n",
        "!apt-get install -y -qq coinor-cbc\n",
        "!apt-get install -y -qq glpk-utils\n",
        "from pyomo.opt import SolverFactory"
      ]
    },
    {
      "cell_type": "markdown",
      "metadata": {
        "id": "lt6kyORd2L0L"
      },
      "source": [
        "### Step1:\n",
        "<b> Import Pyomo Enviornment </b>"
      ]
    },
    {
      "cell_type": "code",
      "execution_count": 17,
      "metadata": {
        "id": "0vDWzEft2L0L"
      },
      "outputs": [],
      "source": [
        "from pyomo.environ import *"
      ]
    },
    {
      "cell_type": "markdown",
      "metadata": {
        "id": "jaZycuks2L0L"
      },
      "source": [
        "### Step2:\n",
        "<b>Specify / import data</b>"
      ]
    },
    {
      "cell_type": "code",
      "execution_count": 26,
      "metadata": {
        "id": "3Rn_POk12L0L"
      },
      "outputs": [],
      "source": [
        "# Scenarios based on the discount type\n",
        "Scenarios = ['Regular','Disc20', 'Disc30','Disc40','Disc50']\n",
        "\n",
        "#Demand for each discount type\n",
        "Demand={'Regular':80,'Disc20':105, 'Disc30':150,'Disc40':200,'Disc50':260}\n",
        "\n",
        "#Price per item for each discount type\n",
        "Price={'Regular':1050,'Disc20':840, 'Disc30':735,'Disc40':630,'Disc50':525}\n",
        "\n",
        "#Number of earphones in stock\n",
        "stock=510"
      ]
    },
    {
      "cell_type": "markdown",
      "metadata": {
        "id": "qvR4GUrz2L0M"
      },
      "source": [
        "### Step3:\n",
        "<b> Create Model Object</b>"
      ]
    },
    {
      "cell_type": "code",
      "execution_count": 27,
      "metadata": {
        "id": "p959GUFY2L0M"
      },
      "outputs": [],
      "source": [
        "# Initialising a concrete model\n",
        "model = ConcreteModel()"
      ]
    },
    {
      "cell_type": "markdown",
      "metadata": {
        "id": "oCXSOxsd2L0N"
      },
      "source": [
        "### Step4:\n",
        "<b>Define Decision Variable</b>"
      ]
    },
    {
      "cell_type": "code",
      "execution_count": 28,
      "metadata": {
        "id": "i80g1PfM2L0N"
      },
      "outputs": [],
      "source": [
        "# Number of earphones of each discount type will be the decision variable\n",
        "model.x = Var(Scenarios, within = PositiveIntegers)"
      ]
    },
    {
      "cell_type": "markdown",
      "metadata": {
        "id": "x0m2THjp2L0N"
      },
      "source": [
        "### Step5:\n",
        "<b>Define Objective</b>"
      ]
    },
    {
      "cell_type": "code",
      "execution_count": 29,
      "metadata": {
        "id": "yQmVhxZn2L0N"
      },
      "outputs": [],
      "source": [
        "model.value = Objective(expr = sum(Price[i]*model.x[i] for i in Scenarios), sense = maximize)"
      ]
    },
    {
      "cell_type": "markdown",
      "metadata": {
        "id": "4G0Ks41x2L0O"
      },
      "source": [
        "### Step6:\n",
        "<b>Define Constraints</b>"
      ]
    },
    {
      "cell_type": "code",
      "execution_count": 31,
      "metadata": {
        "id": "vtqQJmG02L0O"
      },
      "outputs": [],
      "source": [
        "#Demand constraint\n",
        "\n",
        "def demand_rule(model,i):\n",
        "  return(model.x[i] <= Demand[i])\n",
        "\n",
        "model.demand = Constraint(Demand, rule=demand_rule)"
      ]
    },
    {
      "cell_type": "code",
      "execution_count": 34,
      "metadata": {
        "id": "NKVtjs0l2L0O"
      },
      "outputs": [],
      "source": [
        "# Supply constraint\n",
        "model.supply = Constraint(expr = sum(model.x[i] for i in Scenarios) <= 510)"
      ]
    },
    {
      "cell_type": "markdown",
      "metadata": {
        "id": "35P91qd42L0O"
      },
      "source": [
        "### Step7:\n",
        "<b>Create solver & solve model </b><br>\n",
        "Note: It is important to know if you have created a liner(LP), integer(IP), mixed integer(MIP), non-linear (NLP), or mixed integer non-linear (MINLP) model and choose the most suitable solver accordingly. We have setup glpk for LP, IP and MIP type problems and ipopt for NLP type."
      ]
    },
    {
      "cell_type": "code",
      "execution_count": 35,
      "metadata": {
        "scrolled": true,
        "id": "wyICPAa72L0O",
        "outputId": "6c8b88a7-3b32-45e0-dbd9-181f9c4fecd1",
        "colab": {
          "base_uri": "https://localhost:8080/"
        }
      },
      "outputs": [
        {
          "output_type": "stream",
          "name": "stdout",
          "text": [
            "# ==========================================================\n",
            "# = Solver Results                                         =\n",
            "# ==========================================================\n",
            "# ----------------------------------------------------------\n",
            "#   Problem Information\n",
            "# ----------------------------------------------------------\n",
            "Problem: \n",
            "- Name: unknown\n",
            "  Lower bound: 392595.0\n",
            "  Upper bound: 392595.0\n",
            "  Number of objectives: 1\n",
            "  Number of constraints: 7\n",
            "  Number of variables: 6\n",
            "  Number of nonzeros: 11\n",
            "  Sense: maximize\n",
            "# ----------------------------------------------------------\n",
            "#   Solver Information\n",
            "# ----------------------------------------------------------\n",
            "Solver: \n",
            "- Status: ok\n",
            "  Termination condition: optimal\n",
            "  Statistics: \n",
            "    Branch and bound: \n",
            "      Number of bounded subproblems: 1\n",
            "      Number of created subproblems: 1\n",
            "  Error rc: 0\n",
            "  Time: 0.012651205062866211\n",
            "# ----------------------------------------------------------\n",
            "#   Solution Information\n",
            "# ----------------------------------------------------------\n",
            "Solution: \n",
            "- number of solutions: 0\n",
            "  number of solutions displayed: 0\n"
          ]
        }
      ],
      "source": [
        "result = SolverFactory('glpk').solve(model)\n",
        "result.write()"
      ]
    },
    {
      "cell_type": "markdown",
      "metadata": {
        "id": "0_ok0q_42L0P"
      },
      "source": [
        "### Step8:\n",
        "<b>Display Results </b>"
      ]
    },
    {
      "cell_type": "code",
      "execution_count": 36,
      "metadata": {
        "id": "Gf9MeLYQ2L0P",
        "outputId": "fd1d6774-27e8-4a27-c4ac-3e9aa51cd9ba",
        "colab": {
          "base_uri": "https://localhost:8080/"
        }
      },
      "outputs": [
        {
          "output_type": "stream",
          "name": "stdout",
          "text": [
            "2 Set Declarations\n",
            "    demand_index : Size=1, Index=None, Ordered=False\n",
            "        Key  : Dimen : Domain : Size : Members\n",
            "        None :     1 :    Any :    5 : {'Disc20', 'Disc30', 'Disc40', 'Disc50', 'Regular'}\n",
            "    x_index : Size=1, Index=None, Ordered=Insertion\n",
            "        Key  : Dimen : Domain : Size : Members\n",
            "        None :     1 :    Any :    5 : {'Regular', 'Disc20', 'Disc30', 'Disc40', 'Disc50'}\n",
            "\n",
            "1 Var Declarations\n",
            "    x : Size=5, Index=x_index\n",
            "        Key     : Lower : Value : Upper : Fixed : Stale : Domain\n",
            "         Disc20 :     1 : 105.0 :  None : False : False : PositiveIntegers\n",
            "         Disc30 :     1 : 150.0 :  None : False : False : PositiveIntegers\n",
            "         Disc40 :     1 : 174.0 :  None : False : False : PositiveIntegers\n",
            "         Disc50 :     1 :   1.0 :  None : False : False : PositiveIntegers\n",
            "        Regular :     1 :  80.0 :  None : False : False : PositiveIntegers\n",
            "\n",
            "1 Objective Declarations\n",
            "    value : Size=1, Index=None, Active=True\n",
            "        Key  : Active : Sense    : Expression\n",
            "        None :   True : maximize : 1050*x[Regular] + 840*x[Disc20] + 735*x[Disc30] + 630*x[Disc40] + 525*x[Disc50]\n",
            "\n",
            "3 Constraint Declarations\n",
            "    demand : Size=5, Index=demand_index, Active=True\n",
            "        Key     : Lower : Body       : Upper : Active\n",
            "         Disc20 :  -Inf :  x[Disc20] : 105.0 :   True\n",
            "         Disc30 :  -Inf :  x[Disc30] : 150.0 :   True\n",
            "         Disc40 :  -Inf :  x[Disc40] : 200.0 :   True\n",
            "         Disc50 :  -Inf :  x[Disc50] : 260.0 :   True\n",
            "        Regular :  -Inf : x[Regular] :  80.0 :   True\n",
            "    demanding : Size=0, Index=None, Active=True\n",
            "        Key : Lower : Body : Upper : Active\n",
            "    supply : Size=1, Index=None, Active=True\n",
            "        Key  : Lower : Body                                                       : Upper : Active\n",
            "        None :  -Inf : x[Regular] + x[Disc20] + x[Disc30] + x[Disc40] + x[Disc50] : 510.0 :   True\n",
            "\n",
            "7 Declarations: x_index x value demanding demand_index demand supply\n"
          ]
        }
      ],
      "source": [
        "model.pprint()"
      ]
    },
    {
      "cell_type": "code",
      "execution_count": 37,
      "metadata": {
        "id": "nZ2ikjTT2L0P",
        "outputId": "f53b22b4-0de0-4002-e3e6-f011e0039839",
        "colab": {
          "base_uri": "https://localhost:8080/"
        }
      },
      "outputs": [
        {
          "output_type": "execute_result",
          "data": {
            "text/plain": [
              "392595.0"
            ]
          },
          "metadata": {},
          "execution_count": 37
        }
      ],
      "source": [
        "model.value()"
      ]
    }
  ],
  "metadata": {
    "kernelspec": {
      "display_name": "Python 3",
      "language": "python",
      "name": "python3"
    },
    "language_info": {
      "codemirror_mode": {
        "name": "ipython",
        "version": 3
      },
      "file_extension": ".py",
      "mimetype": "text/x-python",
      "name": "python",
      "nbconvert_exporter": "python",
      "pygments_lexer": "ipython3",
      "version": "3.7.4"
    },
    "colab": {
      "name": "Great Indian Summer Sale.ipynb",
      "provenance": [],
      "include_colab_link": true
    }
  },
  "nbformat": 4,
  "nbformat_minor": 0
}