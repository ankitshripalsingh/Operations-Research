{
  "cells": [
    {
      "cell_type": "markdown",
      "metadata": {
        "id": "view-in-github",
        "colab_type": "text"
      },
      "source": [
        "<a href=\"https://colab.research.google.com/github/ankitshripalsingh/upGrad/blob/OR/Knapsack%20Problem%20-%20Ad%20Campaign.ipynb\" target=\"_parent\"><img src=\"https://colab.research.google.com/assets/colab-badge.svg\" alt=\"Open In Colab\"/></a>"
      ]
    },
    {
      "cell_type": "markdown",
      "metadata": {
        "id": "00Ca5HbImZoz"
      },
      "source": [
        "# Knapsack Problem"
      ]
    },
    {
      "cell_type": "markdown",
      "metadata": {
        "id": "KsPcOtvAmZo1"
      },
      "source": [
        "##  Problem Statement\n",
        "\n",
        "The marketing campaign manager of WallArt, Ecommerce has been assigned a maximum budget of ₹14 Cr to promote the upcoming Diwali sale. He has 4 options(O) to run campaigns on. Each option charges a fixed amount (C) for running promotions. He has historical data to let him know the number of customers (N) he can reach from each . Help him decide on the ideal combination he should use for reaching maximum customers.\n",
        "\n",
        "|Options(O)|Charge(C) ₹Cr|No. of Customers (N), lakhs|\n",
        "| --- | --- | --- |\n",
        "|Social Media| 5 | 8 |\n",
        "|News Paper| 7 | 3 |\n",
        "|TV| 4 | 6 |\n",
        "|Search Engine| 3 | 11 |\n",
        "\n",
        "<center><b>Max Budget:</b> ₹14Cr</center>\n",
        "\n",
        "<b>Formulation:</b>\n",
        "Objective <br>\n",
        "$maximum \\sum_{i \\in O} n_{i}x_{i}$\n",
        "\n",
        "Subject To: <br>\n",
        "$\\sum_{i \\in O} c_{i}x_{i} \\leq c_{max}$<br>\n",
        "\n",
        "$x_{i} \\in \\{0,1\\} \\,\\,\\,\\,\\,\\,\\,\\,\\, \\forall i \\in O$\n"
      ]
    },
    {
      "cell_type": "code",
      "execution_count": 1,
      "metadata": {
        "id": "Ol33_R4tmZo7"
      },
      "outputs": [],
      "source": [
        "import matplotlib\n",
        "import seaborn\n",
        "import bokeh\n",
        "%matplotlib inline"
      ]
    },
    {
      "cell_type": "markdown",
      "metadata": {
        "id": "LFQ4vBuFmZo8"
      },
      "source": [
        "### Step1:\n",
        "<b> Import Pyomo Enviornment </b>"
      ]
    },
    {
      "cell_type": "code",
      "execution_count": 3,
      "metadata": {
        "id": "DCUQf4DQmZo8",
        "outputId": "e040bd95-984b-49f0-d3f0-45b5932408bf",
        "colab": {
          "base_uri": "https://localhost:8080/"
        }
      },
      "outputs": [
        {
          "output_type": "stream",
          "name": "stdout",
          "text": [
            "\u001b[K     |████████████████████████████████| 9.6 MB 10.3 MB/s \n",
            "\u001b[K     |████████████████████████████████| 49 kB 4.5 MB/s \n",
            "\u001b[?25hSelecting previously unselected package coinor-libcoinutils3v5.\n",
            "(Reading database ... 155320 files and directories currently installed.)\n",
            "Preparing to unpack .../0-coinor-libcoinutils3v5_2.10.14+repack1-1_amd64.deb ...\n",
            "Unpacking coinor-libcoinutils3v5 (2.10.14+repack1-1) ...\n",
            "Selecting previously unselected package coinor-libosi1v5.\n",
            "Preparing to unpack .../1-coinor-libosi1v5_0.107.9+repack1-1_amd64.deb ...\n",
            "Unpacking coinor-libosi1v5 (0.107.9+repack1-1) ...\n",
            "Selecting previously unselected package coinor-libclp1.\n",
            "Preparing to unpack .../2-coinor-libclp1_1.16.11+repack1-1_amd64.deb ...\n",
            "Unpacking coinor-libclp1 (1.16.11+repack1-1) ...\n",
            "Selecting previously unselected package coinor-libcgl1.\n",
            "Preparing to unpack .../3-coinor-libcgl1_0.59.10+repack1-1_amd64.deb ...\n",
            "Unpacking coinor-libcgl1 (0.59.10+repack1-1) ...\n",
            "Selecting previously unselected package coinor-libcbc3.\n",
            "Preparing to unpack .../4-coinor-libcbc3_2.9.9+repack1-1_amd64.deb ...\n",
            "Unpacking coinor-libcbc3 (2.9.9+repack1-1) ...\n",
            "Selecting previously unselected package coinor-cbc.\n",
            "Preparing to unpack .../5-coinor-cbc_2.9.9+repack1-1_amd64.deb ...\n",
            "Unpacking coinor-cbc (2.9.9+repack1-1) ...\n",
            "Setting up coinor-libcoinutils3v5 (2.10.14+repack1-1) ...\n",
            "Setting up coinor-libosi1v5 (0.107.9+repack1-1) ...\n",
            "Setting up coinor-libclp1 (1.16.11+repack1-1) ...\n",
            "Setting up coinor-libcgl1 (0.59.10+repack1-1) ...\n",
            "Setting up coinor-libcbc3 (2.9.9+repack1-1) ...\n",
            "Setting up coinor-cbc (2.9.9+repack1-1) ...\n",
            "Processing triggers for man-db (2.8.3-2ubuntu0.1) ...\n",
            "Processing triggers for libc-bin (2.27-3ubuntu1.3) ...\n",
            "/sbin/ldconfig.real: /usr/local/lib/python3.7/dist-packages/ideep4py/lib/libmkldnn.so.0 is not a symbolic link\n",
            "\n",
            "Selecting previously unselected package libsuitesparseconfig5:amd64.\n",
            "(Reading database ... 155365 files and directories currently installed.)\n",
            "Preparing to unpack .../libsuitesparseconfig5_1%3a5.1.2-2_amd64.deb ...\n",
            "Unpacking libsuitesparseconfig5:amd64 (1:5.1.2-2) ...\n",
            "Selecting previously unselected package libamd2:amd64.\n",
            "Preparing to unpack .../libamd2_1%3a5.1.2-2_amd64.deb ...\n",
            "Unpacking libamd2:amd64 (1:5.1.2-2) ...\n",
            "Selecting previously unselected package libcolamd2:amd64.\n",
            "Preparing to unpack .../libcolamd2_1%3a5.1.2-2_amd64.deb ...\n",
            "Unpacking libcolamd2:amd64 (1:5.1.2-2) ...\n",
            "Selecting previously unselected package libglpk40:amd64.\n",
            "Preparing to unpack .../libglpk40_4.65-1_amd64.deb ...\n",
            "Unpacking libglpk40:amd64 (4.65-1) ...\n",
            "Selecting previously unselected package glpk-utils.\n",
            "Preparing to unpack .../glpk-utils_4.65-1_amd64.deb ...\n",
            "Unpacking glpk-utils (4.65-1) ...\n",
            "Setting up libsuitesparseconfig5:amd64 (1:5.1.2-2) ...\n",
            "Setting up libcolamd2:amd64 (1:5.1.2-2) ...\n",
            "Setting up libamd2:amd64 (1:5.1.2-2) ...\n",
            "Setting up libglpk40:amd64 (4.65-1) ...\n",
            "Setting up glpk-utils (4.65-1) ...\n",
            "Processing triggers for libc-bin (2.27-3ubuntu1.3) ...\n",
            "/sbin/ldconfig.real: /usr/local/lib/python3.7/dist-packages/ideep4py/lib/libmkldnn.so.0 is not a symbolic link\n",
            "\n",
            "Processing triggers for man-db (2.8.3-2ubuntu0.1) ...\n"
          ]
        }
      ],
      "source": [
        "!pip install -q pyomo\n",
        "!apt-get install -y -qq coinor-cbc\n",
        "!apt-get install -y -qq glpk-utils\n",
        "from pyomo.environ import *"
      ]
    },
    {
      "cell_type": "markdown",
      "metadata": {
        "id": "cUdy_uXCmZo8"
      },
      "source": [
        "### Step2:\n",
        "<b>Specify / import data</b>"
      ]
    },
    {
      "cell_type": "code",
      "execution_count": 8,
      "metadata": {
        "id": "SvcM9m4dmZo9"
      },
      "outputs": [],
      "source": [
        "# Creating datastructures for index and parameters\n",
        "O = ['Social Media', 'News Paper', 'TV', 'Search Engine']\n",
        "c = {'Social Media': 5, 'News Paper': 7, 'TV': 4, 'Search Engine': 3}\n",
        "n = {'Social Media': 8, 'News Paper': 3, 'TV': 6, 'Search Engine': 11}\n",
        "c_max = 14"
      ]
    },
    {
      "cell_type": "markdown",
      "metadata": {
        "id": "8yrqZ5rCmZo9"
      },
      "source": [
        "### Step3:\n",
        "<b> Create Model Object</b>"
      ]
    },
    {
      "cell_type": "code",
      "execution_count": 9,
      "metadata": {
        "id": "KFF68yEdmZo9"
      },
      "outputs": [],
      "source": [
        "#Instantiating a model object\n",
        "model = ConcreteModel()"
      ]
    },
    {
      "cell_type": "markdown",
      "metadata": {
        "id": "9OcymLubmZo9"
      },
      "source": [
        "### Step4:\n",
        "<b>Define Decision Variable</b>"
      ]
    },
    {
      "cell_type": "code",
      "execution_count": 11,
      "metadata": {
        "id": "WOILIb4RmZo-"
      },
      "outputs": [],
      "source": [
        "#Defining decision variable indexed with elements in the list O\n",
        "model.x = Var(O, within = Binary)"
      ]
    },
    {
      "cell_type": "markdown",
      "metadata": {
        "id": "hFgRQdAOmZo-"
      },
      "source": [
        "### Step5:\n",
        "<b>Define Objective</b>"
      ]
    },
    {
      "cell_type": "code",
      "execution_count": 12,
      "metadata": {
        "id": "jxQklzfImZo-"
      },
      "outputs": [],
      "source": [
        "#Defining the objective - Maximize the customer reach\n",
        "model.value = Objective(expr = sum(n[i]*model.x[i] for i in O), sense=maximize)"
      ]
    },
    {
      "cell_type": "markdown",
      "metadata": {
        "id": "du67scw7mZo_"
      },
      "source": [
        "### Step6:\n",
        "<b>Define Constraints</b>"
      ]
    },
    {
      "cell_type": "code",
      "execution_count": 14,
      "metadata": {
        "id": "syQqG5hAmZo_"
      },
      "outputs": [],
      "source": [
        "# Budget constraint\n",
        "model.budget = Constraint(expr = sum(c[i]*model.x[i] for i in O) <= c_max)"
      ]
    },
    {
      "cell_type": "markdown",
      "metadata": {
        "id": "qePHFTzAmZo_"
      },
      "source": [
        "### Step7:\n",
        "<b>Create solver & solve model </b><br>\n",
        "Note: It is important to know if you have created a liner(LP), integer(IP), mixed integer(MIP), non-linear (NLP), or mixed integer non-linear (MINLP) model and choose the most suitable solver accordingly. We have setup glpk for LP, IP and MIP type problems and ipopt for NLP type."
      ]
    },
    {
      "cell_type": "code",
      "execution_count": 15,
      "metadata": {
        "scrolled": true,
        "id": "ckhISbS_mZo_",
        "outputId": "68938935-2d24-4f8a-b804-853deaf3ddb8",
        "colab": {
          "base_uri": "https://localhost:8080/"
        }
      },
      "outputs": [
        {
          "output_type": "stream",
          "name": "stdout",
          "text": [
            "# ==========================================================\n",
            "# = Solver Results                                         =\n",
            "# ==========================================================\n",
            "# ----------------------------------------------------------\n",
            "#   Problem Information\n",
            "# ----------------------------------------------------------\n",
            "Problem: \n",
            "- Name: unknown\n",
            "  Lower bound: 25.0\n",
            "  Upper bound: 25.0\n",
            "  Number of objectives: 1\n",
            "  Number of constraints: 2\n",
            "  Number of variables: 5\n",
            "  Number of nonzeros: 5\n",
            "  Sense: maximize\n",
            "# ----------------------------------------------------------\n",
            "#   Solver Information\n",
            "# ----------------------------------------------------------\n",
            "Solver: \n",
            "- Status: ok\n",
            "  Termination condition: optimal\n",
            "  Statistics: \n",
            "    Branch and bound: \n",
            "      Number of bounded subproblems: 1\n",
            "      Number of created subproblems: 1\n",
            "  Error rc: 0\n",
            "  Time: 0.014336585998535156\n",
            "# ----------------------------------------------------------\n",
            "#   Solution Information\n",
            "# ----------------------------------------------------------\n",
            "Solution: \n",
            "- number of solutions: 0\n",
            "  number of solutions displayed: 0\n"
          ]
        }
      ],
      "source": [
        "# Invoking the solver\n",
        "result = SolverFactory('glpk').solve(model)\n",
        "result.write()"
      ]
    },
    {
      "cell_type": "markdown",
      "metadata": {
        "id": "Mu3aiyNmmZo_"
      },
      "source": [
        "### Step8:\n",
        "<b>Display Results </b>"
      ]
    },
    {
      "cell_type": "code",
      "execution_count": 16,
      "metadata": {
        "id": "iHy6w_0BmZpA",
        "outputId": "93818cfe-a57d-4705-edd1-47eef544535a",
        "colab": {
          "base_uri": "https://localhost:8080/"
        }
      },
      "outputs": [
        {
          "output_type": "stream",
          "name": "stdout",
          "text": [
            "1 Set Declarations\n",
            "    x_index : Size=1, Index=None, Ordered=Insertion\n",
            "        Key  : Dimen : Domain : Size : Members\n",
            "        None :     1 :    Any :    4 : {'Social Media', 'News Paper', 'TV', 'Search Engine'}\n",
            "\n",
            "1 Var Declarations\n",
            "    x : Size=4, Index=x_index\n",
            "        Key           : Lower : Value : Upper : Fixed : Stale : Domain\n",
            "           News Paper :     0 :   0.0 :     1 : False : False : Binary\n",
            "        Search Engine :     0 :   1.0 :     1 : False : False : Binary\n",
            "         Social Media :     0 :   1.0 :     1 : False : False : Binary\n",
            "                   TV :     0 :   1.0 :     1 : False : False : Binary\n",
            "\n",
            "1 Objective Declarations\n",
            "    value : Size=1, Index=None, Active=True\n",
            "        Key  : Active : Sense    : Expression\n",
            "        None :   True : maximize : 8*x[Social Media] + 3*x[News Paper] + 6*x[TV] + 11*x[Search Engine]\n",
            "\n",
            "1 Constraint Declarations\n",
            "    budget : Size=1, Index=None, Active=True\n",
            "        Key  : Lower : Body                                                               : Upper : Active\n",
            "        None :  -Inf : 5*x[Social Media] + 7*x[News Paper] + 4*x[TV] + 3*x[Search Engine] :  14.0 :   True\n",
            "\n",
            "4 Declarations: x_index x value budget\n"
          ]
        }
      ],
      "source": [
        "# Display the values of decision variables\n",
        "model.pprint()"
      ]
    }
  ],
  "metadata": {
    "kernelspec": {
      "display_name": "Python 3",
      "language": "python",
      "name": "python3"
    },
    "language_info": {
      "codemirror_mode": {
        "name": "ipython",
        "version": 3
      },
      "file_extension": ".py",
      "mimetype": "text/x-python",
      "name": "python",
      "nbconvert_exporter": "python",
      "pygments_lexer": "ipython3",
      "version": "3.7.4"
    },
    "colab": {
      "name": "Knapsack+problem.ipynb",
      "provenance": [],
      "include_colab_link": true
    }
  },
  "nbformat": 4,
  "nbformat_minor": 0
}